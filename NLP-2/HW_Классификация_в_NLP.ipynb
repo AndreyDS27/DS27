{
  "nbformat": 4,
  "nbformat_minor": 0,
  "metadata": {
    "kernelspec": {
      "display_name": "Python 3",
      "language": "python",
      "name": "python3"
    },
    "language_info": {
      "codemirror_mode": {
        "name": "ipython",
        "version": 3
      },
      "file_extension": ".py",
      "mimetype": "text/x-python",
      "name": "python",
      "nbconvert_exporter": "python",
      "pygments_lexer": "ipython3",
      "version": "3.8.0"
    },
    "colab": {
      "name": "HW Классификация в NLP",
      "provenance": [],
      "collapsed_sections": []
    },
    "accelerator": "GPU"
  },
  "cells": [
    {
      "cell_type": "markdown",
      "metadata": {
        "id": "bSm0ju9puyiP"
      },
      "source": [
        "Предварительно про PyTorch:\n",
        "* [Про тензоры в pytorch](https://colab.research.google.com/github/pytorch/tutorials/blob/gh-pages/_downloads/tensor_tutorial.ipynb)\n",
        "* [Про автоматическое дифференцирование и что такое .backwards()](https://colab.research.google.com/github/pytorch/tutorials/blob/gh-pages/_downloads/autograd_tutorial.ipynb)\n",
        "* [Очень простая нейронка на pytorch](https://colab.research.google.com/drive/1RsZvw4KBGn5U5Aj5Ak7OG2pHx6z1OSlF)"
      ]
    },
    {
      "cell_type": "markdown",
      "metadata": {
        "id": "BcgMmb-QuyiT"
      },
      "source": [
        "# Классификация текстов\n",
        "\n",
        "## Fakenews\n",
        "\n",
        "1. Мы будем работать с данными fakenews отсюда: https://raw.githubusercontent.com/diptamath/covid_fake_news/main/data/Constraint_Train.csv\n",
        "2. Проведите препроцессинг текста. Разбейте данные на train и test для задачи классификации.\n",
        "3. Векторизуйте.\n",
        "4. Обучите на полученных векторах алгоритм классификации.\n",
        "\n",
        "Мы уже видели как эта задача выполняется с помощью Word2vec. Давайте вспомним."
      ]
    },
    {
      "cell_type": "code",
      "metadata": {
        "colab": {
          "base_uri": "https://localhost:8080/"
        },
        "id": "8EQ4-xO7uyiU",
        "outputId": "d72c1a77-40ef-408b-d88f-08b72284510c"
      },
      "source": [
        "!wget https://raw.githubusercontent.com/diptamath/covid_fake_news/main/data/Constraint_Train.csv"
      ],
      "execution_count": 2,
      "outputs": [
        {
          "output_type": "stream",
          "name": "stdout",
          "text": [
            "--2021-12-16 10:36:27--  https://raw.githubusercontent.com/diptamath/covid_fake_news/main/data/Constraint_Train.csv\n",
            "Resolving raw.githubusercontent.com (raw.githubusercontent.com)... 185.199.108.133, 185.199.111.133, 185.199.110.133, ...\n",
            "Connecting to raw.githubusercontent.com (raw.githubusercontent.com)|185.199.108.133|:443... connected.\n",
            "HTTP request sent, awaiting response... 200 OK\n",
            "Length: 1253562 (1.2M) [text/plain]\n",
            "Saving to: ‘Constraint_Train.csv’\n",
            "\n",
            "Constraint_Train.cs 100%[===================>]   1.20M  --.-KB/s    in 0.05s   \n",
            "\n",
            "2021-12-16 10:36:28 (23.4 MB/s) - ‘Constraint_Train.csv’ saved [1253562/1253562]\n",
            "\n"
          ]
        }
      ]
    },
    {
      "cell_type": "code",
      "metadata": {
        "id": "5YCpo8FuuyiW"
      },
      "source": [
        "import pandas as pd"
      ],
      "execution_count": 3,
      "outputs": []
    },
    {
      "cell_type": "code",
      "metadata": {
        "id": "5NSv9Mo9X-tT"
      },
      "source": [
        "df = pd.read_csv('Constraint_Train.csv')"
      ],
      "execution_count": 4,
      "outputs": []
    },
    {
      "cell_type": "code",
      "metadata": {
        "colab": {
          "base_uri": "https://localhost:8080/",
          "height": 206
        },
        "id": "hgpfPhA0uyiX",
        "outputId": "3ea226c2-c833-4e68-8217-dc08aca9a349"
      },
      "source": [
        "df.head()"
      ],
      "execution_count": 5,
      "outputs": [
        {
          "output_type": "execute_result",
          "data": {
            "text/html": [
              "<div>\n",
              "<style scoped>\n",
              "    .dataframe tbody tr th:only-of-type {\n",
              "        vertical-align: middle;\n",
              "    }\n",
              "\n",
              "    .dataframe tbody tr th {\n",
              "        vertical-align: top;\n",
              "    }\n",
              "\n",
              "    .dataframe thead th {\n",
              "        text-align: right;\n",
              "    }\n",
              "</style>\n",
              "<table border=\"1\" class=\"dataframe\">\n",
              "  <thead>\n",
              "    <tr style=\"text-align: right;\">\n",
              "      <th></th>\n",
              "      <th>id</th>\n",
              "      <th>tweet</th>\n",
              "      <th>label</th>\n",
              "    </tr>\n",
              "  </thead>\n",
              "  <tbody>\n",
              "    <tr>\n",
              "      <th>0</th>\n",
              "      <td>1</td>\n",
              "      <td>The CDC currently reports 99031 deaths. In gen...</td>\n",
              "      <td>real</td>\n",
              "    </tr>\n",
              "    <tr>\n",
              "      <th>1</th>\n",
              "      <td>2</td>\n",
              "      <td>States reported 1121 deaths a small rise from ...</td>\n",
              "      <td>real</td>\n",
              "    </tr>\n",
              "    <tr>\n",
              "      <th>2</th>\n",
              "      <td>3</td>\n",
              "      <td>Politically Correct Woman (Almost) Uses Pandem...</td>\n",
              "      <td>fake</td>\n",
              "    </tr>\n",
              "    <tr>\n",
              "      <th>3</th>\n",
              "      <td>4</td>\n",
              "      <td>#IndiaFightsCorona: We have 1524 #COVID testin...</td>\n",
              "      <td>real</td>\n",
              "    </tr>\n",
              "    <tr>\n",
              "      <th>4</th>\n",
              "      <td>5</td>\n",
              "      <td>Populous states can generate large case counts...</td>\n",
              "      <td>real</td>\n",
              "    </tr>\n",
              "  </tbody>\n",
              "</table>\n",
              "</div>"
            ],
            "text/plain": [
              "   id                                              tweet label\n",
              "0   1  The CDC currently reports 99031 deaths. In gen...  real\n",
              "1   2  States reported 1121 deaths a small rise from ...  real\n",
              "2   3  Politically Correct Woman (Almost) Uses Pandem...  fake\n",
              "3   4  #IndiaFightsCorona: We have 1524 #COVID testin...  real\n",
              "4   5  Populous states can generate large case counts...  real"
            ]
          },
          "metadata": {},
          "execution_count": 5
        }
      ]
    },
    {
      "cell_type": "code",
      "metadata": {
        "id": "-QVUEiLfuyiY"
      },
      "source": [
        "from nltk.tokenize import word_tokenize\n",
        "from tqdm import tqdm"
      ],
      "execution_count": 6,
      "outputs": []
    },
    {
      "cell_type": "code",
      "metadata": {
        "colab": {
          "base_uri": "https://localhost:8080/"
        },
        "id": "9HbHy4nVNKtt",
        "outputId": "09685ce2-fba2-4b8c-a91c-ac4de446e326"
      },
      "source": [
        "import nltk\n",
        "nltk.download('punkt')"
      ],
      "execution_count": 7,
      "outputs": [
        {
          "output_type": "stream",
          "name": "stdout",
          "text": [
            "[nltk_data] Downloading package punkt to /root/nltk_data...\n",
            "[nltk_data]   Unzipping tokenizers/punkt.zip.\n"
          ]
        },
        {
          "output_type": "execute_result",
          "data": {
            "text/plain": [
              "True"
            ]
          },
          "metadata": {},
          "execution_count": 7
        }
      ]
    },
    {
      "cell_type": "code",
      "metadata": {
        "colab": {
          "base_uri": "https://localhost:8080/"
        },
        "id": "sO62Fv2YuyiY",
        "outputId": "1d4c9bd4-93a7-46f6-f1d4-a4440656d349"
      },
      "source": [
        "sentences = [word_tokenize(text.lower()) for text in tqdm(df.tweet)]"
      ],
      "execution_count": 8,
      "outputs": [
        {
          "output_type": "stream",
          "name": "stderr",
          "text": [
            "100%|██████████| 6420/6420 [00:02<00:00, 2838.01it/s]\n"
          ]
        }
      ]
    },
    {
      "cell_type": "code",
      "metadata": {
        "colab": {
          "base_uri": "https://localhost:8080/"
        },
        "id": "HV6DsOOPuyiZ",
        "outputId": "ce7afb8d-f5c9-47bb-a382-49090c11555d"
      },
      "source": [
        "from gensim.models.word2vec import Word2Vec\n",
        "%time model_tweets = Word2Vec(sentences, workers=4, size=400, min_count=3, window=5, iter=25)"
      ],
      "execution_count": 9,
      "outputs": [
        {
          "output_type": "stream",
          "name": "stdout",
          "text": [
            "CPU times: user 19.9 s, sys: 171 ms, total: 20.1 s\n",
            "Wall time: 11.4 s\n"
          ]
        }
      ]
    },
    {
      "cell_type": "code",
      "metadata": {
        "colab": {
          "base_uri": "https://localhost:8080/"
        },
        "id": "lmqe5t6BuyiZ",
        "outputId": "5c5a1ade-f0b5-4077-f4ce-0202a8ce493f"
      },
      "source": [
        "model_tweets.wv.most_similar('france')"
      ],
      "execution_count": 10,
      "outputs": [
        {
          "output_type": "execute_result",
          "data": {
            "text/plain": [
              "[('bags', 0.7946826815605164),\n",
              " ('floor', 0.7802314162254333),\n",
              " ('spain', 0.7751898765563965),\n",
              " ('2015', 0.7584058046340942),\n",
              " ('argentina', 0.7437742948532104),\n",
              " ('front', 0.7395506501197815),\n",
              " ('streets', 0.7381167411804199),\n",
              " ('flour', 0.7271727323532104),\n",
              " ('iran', 0.7234978675842285),\n",
              " ('tower', 0.7223203182220459)]"
            ]
          },
          "metadata": {},
          "execution_count": 10
        }
      ]
    },
    {
      "cell_type": "code",
      "metadata": {
        "id": "H1C2ivBwuyia"
      },
      "source": [
        "model_tweets.init_sims()"
      ],
      "execution_count": 11,
      "outputs": []
    },
    {
      "cell_type": "code",
      "metadata": {
        "id": "gegRNK8fuyib"
      },
      "source": [
        "import numpy as np"
      ],
      "execution_count": 12,
      "outputs": []
    },
    {
      "cell_type": "code",
      "metadata": {
        "id": "9aQM-6_Cuyib"
      },
      "source": [
        "def get_text_embedding(text):\n",
        "    result = []\n",
        "    for word in word_tokenize(text.lower()):\n",
        "        if word in model_tweets.wv:\n",
        "            result.append(model_tweets.wv[word])\n",
        "\n",
        "    if len(result):\n",
        "        result = np.sum(result, axis=0)\n",
        "    else:\n",
        "        result = np.zeros(400)\n",
        "    return result"
      ],
      "execution_count": 13,
      "outputs": []
    },
    {
      "cell_type": "code",
      "metadata": {
        "colab": {
          "base_uri": "https://localhost:8080/"
        },
        "id": "MEXHIkb7uyib",
        "outputId": "3ad4d670-6abb-4986-e236-c69eb3cce73c"
      },
      "source": [
        "features = [get_text_embedding(text) for text in tqdm(df.tweet)]"
      ],
      "execution_count": 14,
      "outputs": [
        {
          "output_type": "stream",
          "name": "stderr",
          "text": [
            "100%|██████████| 6420/6420 [00:03<00:00, 2035.72it/s]\n"
          ]
        }
      ]
    },
    {
      "cell_type": "code",
      "metadata": {
        "id": "KYWbsK2Duyic"
      },
      "source": [
        "from sklearn.linear_model import LogisticRegression\n",
        "from sklearn.model_selection import train_test_split"
      ],
      "execution_count": 15,
      "outputs": []
    },
    {
      "cell_type": "code",
      "metadata": {
        "id": "45OhRwtTuyic"
      },
      "source": [
        "X_train, X_test, y_train, y_test = train_test_split(features, df.label, test_size=0.33)"
      ],
      "execution_count": 16,
      "outputs": []
    },
    {
      "cell_type": "code",
      "metadata": {
        "colab": {
          "base_uri": "https://localhost:8080/"
        },
        "id": "r_JNAMZ2uyic",
        "outputId": "45fea4cc-7a30-4641-ba3c-632425d099a6"
      },
      "source": [
        "model = LogisticRegression()\n",
        "model.fit(X_train, y_train)"
      ],
      "execution_count": 17,
      "outputs": [
        {
          "output_type": "stream",
          "name": "stderr",
          "text": [
            "/usr/local/lib/python3.7/dist-packages/sklearn/linear_model/_logistic.py:818: ConvergenceWarning: lbfgs failed to converge (status=1):\n",
            "STOP: TOTAL NO. of ITERATIONS REACHED LIMIT.\n",
            "\n",
            "Increase the number of iterations (max_iter) or scale the data as shown in:\n",
            "    https://scikit-learn.org/stable/modules/preprocessing.html\n",
            "Please also refer to the documentation for alternative solver options:\n",
            "    https://scikit-learn.org/stable/modules/linear_model.html#logistic-regression\n",
            "  extra_warning_msg=_LOGISTIC_SOLVER_CONVERGENCE_MSG,\n"
          ]
        },
        {
          "output_type": "execute_result",
          "data": {
            "text/plain": [
              "LogisticRegression()"
            ]
          },
          "metadata": {},
          "execution_count": 17
        }
      ]
    },
    {
      "cell_type": "code",
      "metadata": {
        "id": "mrWxWWhmuyic"
      },
      "source": [
        "from sklearn.metrics import classification_report"
      ],
      "execution_count": 18,
      "outputs": []
    },
    {
      "cell_type": "code",
      "metadata": {
        "id": "OSBQINBVuyid"
      },
      "source": [
        "predicted = model.predict(X_test)"
      ],
      "execution_count": 19,
      "outputs": []
    },
    {
      "cell_type": "code",
      "metadata": {
        "colab": {
          "base_uri": "https://localhost:8080/"
        },
        "id": "Gh8xvZ-nuyid",
        "outputId": "016215d4-7d78-4ff5-ec98-3c632c675597"
      },
      "source": [
        "print(classification_report(y_test, predicted))"
      ],
      "execution_count": 20,
      "outputs": [
        {
          "output_type": "stream",
          "name": "stdout",
          "text": [
            "              precision    recall  f1-score   support\n",
            "\n",
            "        fake       0.93      0.92      0.92       969\n",
            "        real       0.94      0.94      0.94      1150\n",
            "\n",
            "    accuracy                           0.93      2119\n",
            "   macro avg       0.93      0.93      0.93      2119\n",
            "weighted avg       0.93      0.93      0.93      2119\n",
            "\n"
          ]
        }
      ]
    },
    {
      "cell_type": "markdown",
      "metadata": {
        "id": "-EGD61MUXv_U"
      },
      "source": [
        "Вариант 2 с использованием *DecisionTreeClassifier*"
      ]
    },
    {
      "cell_type": "code",
      "metadata": {
        "id": "BsQbOTASO63c"
      },
      "source": [
        "from sklearn.tree import DecisionTreeClassifier"
      ],
      "execution_count": 21,
      "outputs": []
    },
    {
      "cell_type": "code",
      "metadata": {
        "colab": {
          "base_uri": "https://localhost:8080/"
        },
        "id": "lXPZFClYO8Cb",
        "outputId": "62370efa-37d3-489f-bf16-eea0eea85420"
      },
      "source": [
        "model = DecisionTreeClassifier(criterion='entropy', max_depth=None, random_state=42)\n",
        "model.fit(X_train, y_train)"
      ],
      "execution_count": 22,
      "outputs": [
        {
          "output_type": "execute_result",
          "data": {
            "text/plain": [
              "DecisionTreeClassifier(criterion='entropy', random_state=42)"
            ]
          },
          "metadata": {},
          "execution_count": 22
        }
      ]
    },
    {
      "cell_type": "code",
      "metadata": {
        "id": "Sh28wMfKO75K"
      },
      "source": [
        "predicted = model.predict(X_test)"
      ],
      "execution_count": 23,
      "outputs": []
    },
    {
      "cell_type": "code",
      "metadata": {
        "colab": {
          "base_uri": "https://localhost:8080/"
        },
        "id": "o-1iXroyO7sh",
        "outputId": "55605d94-6fef-4207-80e3-abf49ffc3f9f"
      },
      "source": [
        "print(classification_report(y_test, predicted))"
      ],
      "execution_count": 24,
      "outputs": [
        {
          "output_type": "stream",
          "name": "stdout",
          "text": [
            "              precision    recall  f1-score   support\n",
            "\n",
            "        fake       0.86      0.89      0.88       969\n",
            "        real       0.90      0.88      0.89      1150\n",
            "\n",
            "    accuracy                           0.88      2119\n",
            "   macro avg       0.88      0.88      0.88      2119\n",
            "weighted avg       0.88      0.88      0.88      2119\n",
            "\n"
          ]
        }
      ]
    },
    {
      "cell_type": "markdown",
      "metadata": {
        "id": "5RxPIa__YAxP"
      },
      "source": [
        "Вариант 3 с использованием *SVC*"
      ]
    },
    {
      "cell_type": "code",
      "metadata": {
        "id": "xSmFguNFYoJw"
      },
      "source": [
        "from sklearn.svm import SVC"
      ],
      "execution_count": 25,
      "outputs": []
    },
    {
      "cell_type": "code",
      "metadata": {
        "colab": {
          "base_uri": "https://localhost:8080/"
        },
        "id": "P9dmsRD_YoJx",
        "outputId": "0ee05f21-d414-4455-af56-cc5033e87b91"
      },
      "source": [
        "model = SVC(kernel='rbf', C=1.0, random_state=42)\n",
        "model.fit(X_train, y_train)"
      ],
      "execution_count": 26,
      "outputs": [
        {
          "output_type": "execute_result",
          "data": {
            "text/plain": [
              "SVC(random_state=42)"
            ]
          },
          "metadata": {},
          "execution_count": 26
        }
      ]
    },
    {
      "cell_type": "code",
      "metadata": {
        "id": "rEmkSDROYoJy"
      },
      "source": [
        "predicted = model.predict(X_test)"
      ],
      "execution_count": 27,
      "outputs": []
    },
    {
      "cell_type": "code",
      "metadata": {
        "colab": {
          "base_uri": "https://localhost:8080/"
        },
        "id": "4ztaG776YoJz",
        "outputId": "bb5bdaaa-b136-4d12-9ed2-0feda7754a58"
      },
      "source": [
        "print(classification_report(y_test, predicted))"
      ],
      "execution_count": 28,
      "outputs": [
        {
          "output_type": "stream",
          "name": "stdout",
          "text": [
            "              precision    recall  f1-score   support\n",
            "\n",
            "        fake       0.94      0.94      0.94       969\n",
            "        real       0.95      0.95      0.95      1150\n",
            "\n",
            "    accuracy                           0.94      2119\n",
            "   macro avg       0.94      0.94      0.94      2119\n",
            "weighted avg       0.94      0.94      0.94      2119\n",
            "\n"
          ]
        }
      ]
    },
    {
      "cell_type": "markdown",
      "metadata": {
        "id": "Glpa7tg8hptL"
      },
      "source": [
        "Вариант 4 с использованием *RandomForestClassifier*"
      ]
    },
    {
      "cell_type": "code",
      "metadata": {
        "id": "1OqDCKP2gJrv"
      },
      "source": [
        "from sklearn.ensemble import RandomForestClassifier"
      ],
      "execution_count": 29,
      "outputs": []
    },
    {
      "cell_type": "code",
      "metadata": {
        "colab": {
          "base_uri": "https://localhost:8080/"
        },
        "id": "7lMcxWAHgJrw",
        "outputId": "a34b110f-c94f-4212-8be0-301617a0f9c9"
      },
      "source": [
        "model = RandomForestClassifier(n_estimators=1000, random_state=42)\n",
        "model.fit(X_train, y_train)"
      ],
      "execution_count": 30,
      "outputs": [
        {
          "output_type": "execute_result",
          "data": {
            "text/plain": [
              "RandomForestClassifier(n_estimators=1000, random_state=42)"
            ]
          },
          "metadata": {},
          "execution_count": 30
        }
      ]
    },
    {
      "cell_type": "code",
      "metadata": {
        "id": "a4tl017AgJrx"
      },
      "source": [
        "predicted = model.predict(X_test)"
      ],
      "execution_count": 31,
      "outputs": []
    },
    {
      "cell_type": "code",
      "metadata": {
        "colab": {
          "base_uri": "https://localhost:8080/"
        },
        "id": "TXSufsLOgJry",
        "outputId": "049d8a23-01da-44dd-faf8-076a8fc30c50"
      },
      "source": [
        "print(classification_report(y_test, predicted))"
      ],
      "execution_count": 32,
      "outputs": [
        {
          "output_type": "stream",
          "name": "stdout",
          "text": [
            "              precision    recall  f1-score   support\n",
            "\n",
            "        fake       0.95      0.93      0.94       969\n",
            "        real       0.95      0.96      0.95      1150\n",
            "\n",
            "    accuracy                           0.95      2119\n",
            "   macro avg       0.95      0.95      0.95      2119\n",
            "weighted avg       0.95      0.95      0.95      2119\n",
            "\n"
          ]
        }
      ]
    },
    {
      "cell_type": "code",
      "metadata": {
        "id": "5BucK71egBss"
      },
      "source": [
        ""
      ],
      "execution_count": 32,
      "outputs": []
    },
    {
      "cell_type": "markdown",
      "source": [
        "Вариант 5 с использованием KNeighborsClassifier"
      ],
      "metadata": {
        "id": "QJYQigAdzEpE"
      }
    },
    {
      "cell_type": "code",
      "source": [
        "from sklearn.neighbors import KNeighborsClassifier"
      ],
      "metadata": {
        "id": "xWFdhWJnyk8g"
      },
      "execution_count": 33,
      "outputs": []
    },
    {
      "cell_type": "code",
      "source": [
        "model = KNeighborsClassifier(n_neighbors=5, p = 2)\n",
        "model.fit(X_train, y_train)"
      ],
      "metadata": {
        "colab": {
          "base_uri": "https://localhost:8080/"
        },
        "id": "CATRSm8eyk5H",
        "outputId": "cf9b21fd-1998-4a7a-9972-b6e1ac523e09"
      },
      "execution_count": 40,
      "outputs": [
        {
          "output_type": "execute_result",
          "data": {
            "text/plain": [
              "KNeighborsClassifier()"
            ]
          },
          "metadata": {},
          "execution_count": 40
        }
      ]
    },
    {
      "cell_type": "code",
      "source": [
        "predicted = model.predict(X_test)"
      ],
      "metadata": {
        "id": "Wqfd9rdTyk1m"
      },
      "execution_count": 41,
      "outputs": []
    },
    {
      "cell_type": "code",
      "source": [
        "print(classification_report(y_test, predicted))\n"
      ],
      "metadata": {
        "colab": {
          "base_uri": "https://localhost:8080/"
        },
        "id": "PFOOgpt4ykyF",
        "outputId": "4ae67768-c633-458c-a292-0985eb276b47"
      },
      "execution_count": 42,
      "outputs": [
        {
          "output_type": "stream",
          "name": "stdout",
          "text": [
            "              precision    recall  f1-score   support\n",
            "\n",
            "        fake       0.92      0.95      0.93       969\n",
            "        real       0.95      0.93      0.94      1150\n",
            "\n",
            "    accuracy                           0.94      2119\n",
            "   macro avg       0.94      0.94      0.94      2119\n",
            "weighted avg       0.94      0.94      0.94      2119\n",
            "\n"
          ]
        }
      ]
    },
    {
      "cell_type": "code",
      "source": [
        ""
      ],
      "metadata": {
        "id": "AuuL6pP2ykuQ"
      },
      "execution_count": null,
      "outputs": []
    },
    {
      "cell_type": "code",
      "source": [
        ""
      ],
      "metadata": {
        "id": "dqZvNLzqykpF"
      },
      "execution_count": null,
      "outputs": []
    },
    {
      "cell_type": "code",
      "source": [
        ""
      ],
      "metadata": {
        "id": "tQ4qxgSIykhz"
      },
      "execution_count": null,
      "outputs": []
    },
    {
      "cell_type": "code",
      "source": [
        ""
      ],
      "metadata": {
        "id": "BPyOUiwVykUQ"
      },
      "execution_count": null,
      "outputs": []
    },
    {
      "cell_type": "markdown",
      "metadata": {
        "id": "z5qCQpNduyid"
      },
      "source": [
        "###  Что будет, если использовать самый наивный метод?"
      ]
    },
    {
      "cell_type": "code",
      "metadata": {
        "id": "TKLUWP8huyie"
      },
      "source": [
        "from sklearn.feature_extraction.text import CountVectorizer"
      ],
      "execution_count": 33,
      "outputs": []
    },
    {
      "cell_type": "code",
      "metadata": {
        "id": "EY2CQW0wuyie"
      },
      "source": [
        "vec = CountVectorizer()"
      ],
      "execution_count": 34,
      "outputs": []
    },
    {
      "cell_type": "code",
      "metadata": {
        "id": "M7CxqeGwuyie"
      },
      "source": [
        "bow = vec.fit_transform(df.tweet)"
      ],
      "execution_count": 35,
      "outputs": []
    },
    {
      "cell_type": "code",
      "metadata": {
        "colab": {
          "base_uri": "https://localhost:8080/"
        },
        "id": "sVzRicjKuyif",
        "outputId": "f791a6ea-aea6-4b9b-f0ee-73060a3caaa7"
      },
      "source": [
        "X_train, X_test, y_train, y_test = train_test_split(features, df.label, test_size=0.33)\n",
        "model = LogisticRegression()\n",
        "model.fit(X_train, y_train)"
      ],
      "execution_count": 36,
      "outputs": [
        {
          "output_type": "stream",
          "name": "stderr",
          "text": [
            "/usr/local/lib/python3.7/dist-packages/sklearn/linear_model/_logistic.py:818: ConvergenceWarning: lbfgs failed to converge (status=1):\n",
            "STOP: TOTAL NO. of ITERATIONS REACHED LIMIT.\n",
            "\n",
            "Increase the number of iterations (max_iter) or scale the data as shown in:\n",
            "    https://scikit-learn.org/stable/modules/preprocessing.html\n",
            "Please also refer to the documentation for alternative solver options:\n",
            "    https://scikit-learn.org/stable/modules/linear_model.html#logistic-regression\n",
            "  extra_warning_msg=_LOGISTIC_SOLVER_CONVERGENCE_MSG,\n"
          ]
        },
        {
          "output_type": "execute_result",
          "data": {
            "text/plain": [
              "LogisticRegression()"
            ]
          },
          "metadata": {},
          "execution_count": 36
        }
      ]
    },
    {
      "cell_type": "code",
      "metadata": {
        "colab": {
          "base_uri": "https://localhost:8080/"
        },
        "id": "xMowWWtnuyif",
        "outputId": "0b16edc3-68ea-48b5-971e-b41cfc9209cb"
      },
      "source": [
        "predicted = model.predict(X_test)\n",
        "print(classification_report(y_test, predicted))"
      ],
      "execution_count": 37,
      "outputs": [
        {
          "output_type": "stream",
          "name": "stdout",
          "text": [
            "              precision    recall  f1-score   support\n",
            "\n",
            "        fake       0.93      0.92      0.92       996\n",
            "        real       0.93      0.94      0.93      1123\n",
            "\n",
            "    accuracy                           0.93      2119\n",
            "   macro avg       0.93      0.93      0.93      2119\n",
            "weighted avg       0.93      0.93      0.93      2119\n",
            "\n"
          ]
        }
      ]
    },
    {
      "cell_type": "markdown",
      "metadata": {
        "id": "UlDB2k1ruyif"
      },
      "source": [
        "Конечно, мы всегда можем поиграться с предобработкой."
      ]
    },
    {
      "cell_type": "code",
      "metadata": {
        "id": "TYwoVRMbuyif"
      },
      "source": [
        ""
      ],
      "execution_count": 36,
      "outputs": []
    },
    {
      "cell_type": "markdown",
      "metadata": {
        "id": "T6qOclJPuyif"
      },
      "source": [
        "### PyTorch + LSTM"
      ]
    },
    {
      "cell_type": "code",
      "metadata": {
        "id": "wHDxqZnTuyif"
      },
      "source": [
        "labels = (df.label == 'real').astype(int).to_list()"
      ],
      "execution_count": 37,
      "outputs": []
    },
    {
      "cell_type": "markdown",
      "metadata": {
        "id": "7fUz2OKauyif"
      },
      "source": [
        "Нужно заранее задать размер для макксимальной длины предложений."
      ]
    },
    {
      "cell_type": "code",
      "metadata": {
        "id": "8BkQTxbMuyig"
      },
      "source": [
        "token_lists = [word_tokenize(text.lower()) for text in df.tweet]\n",
        "max_len = len(max(token_lists, key=len))"
      ],
      "execution_count": 38,
      "outputs": []
    },
    {
      "cell_type": "code",
      "metadata": {
        "colab": {
          "base_uri": "https://localhost:8080/"
        },
        "id": "125Q6tQhuyig",
        "outputId": "9c46c49c-ca94-4f49-c336-8f5164591ae1"
      },
      "source": [
        "max_len"
      ],
      "execution_count": 39,
      "outputs": [
        {
          "output_type": "execute_result",
          "data": {
            "text/plain": [
              "1592"
            ]
          },
          "metadata": {},
          "execution_count": 39
        }
      ]
    },
    {
      "cell_type": "markdown",
      "metadata": {
        "id": "0HUNPzqWuyig"
      },
      "source": [
        "Это слишком много. Но какая длина обычно?"
      ]
    },
    {
      "cell_type": "code",
      "metadata": {
        "id": "4TQVd6Fruyig"
      },
      "source": [
        "from collections import Counter\n",
        "fd = Counter([len(tokens) for tokens in token_lists])"
      ],
      "execution_count": 40,
      "outputs": []
    },
    {
      "cell_type": "code",
      "metadata": {
        "colab": {
          "base_uri": "https://localhost:8080/"
        },
        "id": "CycieWjbuyih",
        "outputId": "1672a41a-66bb-45e5-8037-7e650f642601"
      },
      "source": [
        "fd.most_common(10)"
      ],
      "execution_count": 41,
      "outputs": [
        {
          "output_type": "execute_result",
          "data": {
            "text/plain": [
              "[(20, 179),\n",
              " (25, 174),\n",
              " (22, 170),\n",
              " (18, 170),\n",
              " (19, 167),\n",
              " (21, 167),\n",
              " (16, 162),\n",
              " (15, 161),\n",
              " (17, 161),\n",
              " (23, 157)]"
            ]
          },
          "metadata": {},
          "execution_count": 41
        }
      ]
    },
    {
      "cell_type": "markdown",
      "metadata": {
        "id": "3LNWZldVuyih"
      },
      "source": [
        "Зададим максимум 400."
      ]
    },
    {
      "cell_type": "markdown",
      "metadata": {
        "id": "FxPTNDQ0uyii"
      },
      "source": [
        "Возьмём те же w2v эмбеддинги."
      ]
    },
    {
      "cell_type": "code",
      "metadata": {
        "id": "cNOPWCq1uyii"
      },
      "source": [
        "def get_word_embedding(tokens, max_len):\n",
        "    result = []\n",
        "    for i in range(max_len):\n",
        "        if i < len(tokens):\n",
        "            word = tokens[i]\n",
        "            if word in model_tweets.wv:\n",
        "                result.append(model_tweets.wv[word])\n",
        "            else:\n",
        "                result.append(np.zeros(400))\n",
        "        else:\n",
        "            result.append(np.zeros(400))\n",
        "    return result"
      ],
      "execution_count": 42,
      "outputs": []
    },
    {
      "cell_type": "code",
      "metadata": {
        "colab": {
          "base_uri": "https://localhost:8080/"
        },
        "id": "tBkyQdORuyii",
        "outputId": "a4476d31-0504-47db-cd45-4c72d3163d6d"
      },
      "source": [
        "features = [get_word_embedding(text, 400) for text in tqdm(token_lists)]"
      ],
      "execution_count": 43,
      "outputs": [
        {
          "output_type": "stream",
          "name": "stderr",
          "text": [
            "100%|██████████| 6420/6420 [00:08<00:00, 729.70it/s]\n"
          ]
        }
      ]
    },
    {
      "cell_type": "code",
      "metadata": {
        "id": "_COity4Puyij"
      },
      "source": [
        "X_train, X_test, y_train, y_test = train_test_split(features, labels, test_size=0.33)"
      ],
      "execution_count": 44,
      "outputs": []
    },
    {
      "cell_type": "code",
      "metadata": {
        "id": "DXHLD6eKuyij"
      },
      "source": [
        "import torch\n",
        "import torch.nn as nn\n",
        "import torch.optim as optim"
      ],
      "execution_count": 45,
      "outputs": []
    },
    {
      "cell_type": "code",
      "metadata": {
        "colab": {
          "base_uri": "https://localhost:8080/"
        },
        "id": "ZwGQpAbcuyij",
        "outputId": "592eb40a-c40c-4cc3-e47a-8b62a3f8b2de"
      },
      "source": [
        "len(features[0][0])"
      ],
      "execution_count": 46,
      "outputs": [
        {
          "output_type": "execute_result",
          "data": {
            "text/plain": [
              "400"
            ]
          },
          "metadata": {},
          "execution_count": 46
        }
      ]
    },
    {
      "cell_type": "code",
      "metadata": {
        "colab": {
          "base_uri": "https://localhost:8080/"
        },
        "id": "KUNRDEXNRdOF",
        "outputId": "aa9ca14d-ce05-4707-9ac7-22ee97d2c64e"
      },
      "source": [
        "len(X_train)"
      ],
      "execution_count": 47,
      "outputs": [
        {
          "output_type": "execute_result",
          "data": {
            "text/plain": [
              "4301"
            ]
          },
          "metadata": {},
          "execution_count": 47
        }
      ]
    },
    {
      "cell_type": "code",
      "metadata": {
        "colab": {
          "base_uri": "https://localhost:8080/"
        },
        "id": "tVsXkUfMRlc1",
        "outputId": "458d785b-2c44-4f61-a767-7b162f922542"
      },
      "source": [
        "len(X_train[0])"
      ],
      "execution_count": 48,
      "outputs": [
        {
          "output_type": "execute_result",
          "data": {
            "text/plain": [
              "400"
            ]
          },
          "metadata": {},
          "execution_count": 48
        }
      ]
    },
    {
      "cell_type": "code",
      "metadata": {
        "colab": {
          "base_uri": "https://localhost:8080/"
        },
        "id": "-ZuoO5uhRpmy",
        "outputId": "fc07e8f4-fbb6-4b9a-868e-ce7881ddd59d"
      },
      "source": [
        "len(X_train[0][0])"
      ],
      "execution_count": 49,
      "outputs": [
        {
          "output_type": "execute_result",
          "data": {
            "text/plain": [
              "400"
            ]
          },
          "metadata": {},
          "execution_count": 49
        }
      ]
    },
    {
      "cell_type": "code",
      "metadata": {
        "colab": {
          "base_uri": "https://localhost:8080/"
        },
        "id": "J-N2gN0xuyij",
        "outputId": "2c146205-43ee-4508-dff1-08e4dba51d0f"
      },
      "source": [
        "class Net(nn.Module):\n",
        "\n",
        "    def __init__(self):\n",
        "        super(Net, self).__init__()\n",
        "        self.lstm = nn.LSTM(400, 100)\n",
        "        self.out = nn.Linear(100, 1)\n",
        "\n",
        "    def forward(self, x):\n",
        "        embeddings, (shortterm, longterm) = self.lstm(x.transpose(0, 1))\n",
        "        prediction = torch.sigmoid(self.out(longterm))\n",
        "        return prediction\n",
        "\n",
        "\n",
        "net = Net()\n",
        "print(net)"
      ],
      "execution_count": 50,
      "outputs": [
        {
          "output_type": "stream",
          "name": "stdout",
          "text": [
            "Net(\n",
            "  (lstm): LSTM(400, 100)\n",
            "  (out): Linear(in_features=100, out_features=1, bias=True)\n",
            ")\n"
          ]
        }
      ]
    },
    {
      "cell_type": "code",
      "metadata": {
        "id": "cOjKyQdnuyij"
      },
      "source": [
        "in_data = torch.tensor(X_train).float()\n",
        "targets = torch.tensor(y_train).float()"
      ],
      "execution_count": null,
      "outputs": []
    },
    {
      "cell_type": "code",
      "metadata": {
        "id": "Surg_PcQuyij"
      },
      "source": [
        "in_data.shape"
      ],
      "execution_count": null,
      "outputs": []
    },
    {
      "cell_type": "code",
      "metadata": {
        "id": "dQ8WQFlnuyik"
      },
      "source": [
        "optimizer = optim.SGD(net.parameters(), lr=0.01)\n",
        "criterion = nn.BCELoss()"
      ],
      "execution_count": null,
      "outputs": []
    },
    {
      "cell_type": "code",
      "metadata": {
        "id": "ujjn4KVIuyik"
      },
      "source": [
        "def train_one_epoch(in_data, targets, batch_size=16):\n",
        "    for i in tqdm(range(0, in_data.shape[0], batch_size)):\n",
        "        batch_x = in_data[i:i + batch_size]\n",
        "        batch_y = targets[i:i + batch_size]\n",
        "        optimizer.zero_grad()\n",
        "        output = net(batch_x)\n",
        "        loss = criterion(output.reshape(-1), batch_y)\n",
        "        loss.backward()\n",
        "        optimizer.step()\n",
        "    print(loss)"
      ],
      "execution_count": null,
      "outputs": []
    },
    {
      "cell_type": "code",
      "metadata": {
        "id": "CorzeZjIuyik"
      },
      "source": [
        "train_one_epoch(in_data, targets)"
      ],
      "execution_count": null,
      "outputs": []
    },
    {
      "cell_type": "markdown",
      "metadata": {
        "id": "pna8zQLluyil"
      },
      "source": [
        "Что получилось?"
      ]
    },
    {
      "cell_type": "code",
      "metadata": {
        "id": "CQGiiAiLuyil"
      },
      "source": [
        "in_data_test = torch.tensor(X_test).float()\n",
        "targets_test = torch.tensor(y_test).float()"
      ],
      "execution_count": null,
      "outputs": []
    },
    {
      "cell_type": "code",
      "metadata": {
        "id": "9VuVw4uUuyil"
      },
      "source": [
        "with torch.no_grad():\n",
        "    output = net(in_data_test).reshape(-1)"
      ],
      "execution_count": null,
      "outputs": []
    },
    {
      "cell_type": "code",
      "metadata": {
        "id": "cJxlSn2buyil"
      },
      "source": [
        "result = (output > 0.5) == targets_test"
      ],
      "execution_count": null,
      "outputs": []
    },
    {
      "cell_type": "code",
      "metadata": {
        "id": "JTYoH6Xpuyil"
      },
      "source": [
        "result.sum().item() / len(result)"
      ],
      "execution_count": null,
      "outputs": []
    },
    {
      "cell_type": "markdown",
      "metadata": {
        "id": "-a-HEDe9uyim"
      },
      "source": [
        "Но такую модель надо учить дольше("
      ]
    }
  ]
}