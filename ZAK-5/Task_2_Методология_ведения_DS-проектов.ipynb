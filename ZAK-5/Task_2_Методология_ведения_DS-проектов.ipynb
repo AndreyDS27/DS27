{
 "cells": [
  {
   "cell_type": "markdown",
   "id": "4222b6b8",
   "metadata": {
    "toc": true
   },
   "source": [
    "<h1>Table of Contents<span class=\"tocSkip\"></span></h1>\n",
    "<div class=\"toc\"><ul class=\"toc-item\"><li><span><a href=\"#1.-Понимание-бизнеса\" data-toc-modified-id=\"1.-Понимание-бизнеса-1\">1. Понимание бизнеса</a></span><ul class=\"toc-item\"><li><span><a href=\"#1.1-Цель\" data-toc-modified-id=\"1.1-Цель-1.1\">1.1 Цель</a></span></li><li><span><a href=\"#1.2-Описание\" data-toc-modified-id=\"1.2-Описание-1.2\">1.2 Описание</a></span></li></ul></li><li><span><a href=\"#2.-Data-Understanding\" data-toc-modified-id=\"2.-Data-Understanding-2\">2. Data Understanding</a></span><ul class=\"toc-item\"><li><span><a href=\"#2.1-Import-Libraries\" data-toc-modified-id=\"2.1-Import-Libraries-2.1\">2.1 Import Libraries</a></span></li><li><span><a href=\"#2.2-Вспомогательные-функции\" data-toc-modified-id=\"2.2-Вспомогательные-функции-2.2\">2.2 Вспомогательные функции</a></span></li><li><span><a href=\"#2.3-Загрузка-данных\" data-toc-modified-id=\"2.3-Загрузка-данных-2.3\">2.3 Загрузка данных</a></span></li><li><span><a href=\"#2.4-Статистика-и-визуализации\" data-toc-modified-id=\"2.4-Статистика-и-визуализации-2.4\">2.4 Статистика и визуализации</a></span></li><li><span><a href=\"#2.4.1-Ключевая-информация-о-переменных\" data-toc-modified-id=\"2.4.1-Ключевая-информация-о-переменных-2.5\">2.4.1 Ключевая информация о переменных</a></span><ul class=\"toc-item\"><li><span><a href=\"#Данные-представляют-собой-датасет-из-13-столбцов-и-6497-строк.\" data-toc-modified-id=\"Данные-представляют-собой-датасет-из-13-столбцов-и-6497-строк.-2.5.1\">Данные представляют собой датасет из 13 столбцов и 6497 строк.</a></span></li><li><span><a href=\"#Столбец-'type'-имеет-тип-данных---object,-столбец-'quality'-(целевая-переменная)---int64,-остальные-столбцы---float64.\" data-toc-modified-id=\"Столбец-'type'-имеет-тип-данных---object,-столбец-'quality'-(целевая-переменная)---int64,-остальные-столбцы---float64.-2.5.2\">Столбец 'type' имеет тип данных - object, столбец 'quality' (целевая переменная) - int64, остальные столбцы - float64.</a></span></li><li><span><a href=\"#В-данных-присутствуют-пропуски.\" data-toc-modified-id=\"В-данных-присутствуют-пропуски.-2.5.3\">В данных присутствуют пропуски.</a></span></li></ul></li><li><span><a href=\"#Оценка-количества-пропусков.\" data-toc-modified-id=\"Оценка-количества-пропусков.-2.6\">Оценка количества пропусков.</a></span></li><li><span><a href=\"#2.4.2-Тепловая-карта-корреляции-может-дать-понимание-того,-какие-переменные-важны\" data-toc-modified-id=\"2.4.2-Тепловая-карта-корреляции-может-дать-понимание-того,-какие-переменные-важны-2.7\">2.4.2 Тепловая карта корреляции может дать понимание того, какие переменные важны</a></span></li><li><span><a href=\"#2.4.3-Подробнее-рассмотрим-взаимосвязь-между-признаками-и-качеством-вина\" data-toc-modified-id=\"2.4.3-Подробнее-рассмотрим-взаимосвязь-между-признаками-и-качеством-вина-2.8\">2.4.3 Подробнее рассмотрим взаимосвязь между признаками и качеством вина</a></span></li><li><span><a href=\"#Распределение-оценки-quality\" data-toc-modified-id=\"Распределение-оценки-quality-2.9\">Распределение оценки quality</a></span></li><li><span><a href=\"#Распределение-по-типу-вина\" data-toc-modified-id=\"Распределение-по-типу-вина-2.10\">Распределение по типу вина</a></span></li><li><span><a href=\"#Распределение-качества-вина-по-типу\" data-toc-modified-id=\"Распределение-качества-вина-по-типу-2.11\">Распределение качества вина по типу</a></span></li><li><span><a href=\"#Распределение-вин-по-содержанию-алкоголя\" data-toc-modified-id=\"Распределение-вин-по-содержанию-алкоголя-2.12\">Распределение вин по содержанию алкоголя</a></span></li><li><span><a href=\"#Взаимосвязь-alcohol-и-quality\" data-toc-modified-id=\"Взаимосвязь-alcohol-и-quality-2.13\">Взаимосвязь alcohol и quality</a></span></li><li><span><a href=\"#Распределение-вин-по-плотности\" data-toc-modified-id=\"Распределение-вин-по-плотности-2.14\">Распределение вин по плотности</a></span></li><li><span><a href=\"#Взаимосвязь-плотности-вина-и-качества\" data-toc-modified-id=\"Взаимосвязь-плотности-вина-и-качества-2.15\">Взаимосвязь плотности вина и качества</a></span></li></ul></li><li><span><a href=\"#3.-Data-Preparation\" data-toc-modified-id=\"3.-Data-Preparation-3\">3. Data Preparation</a></span><ul class=\"toc-item\"><li><span><a href=\"#3.1-Преобразование-категориальных-переменных-в-числовые-переменные-(OneHotEncoding)\" data-toc-modified-id=\"3.1-Преобразование-категориальных-переменных-в-числовые-переменные-(OneHotEncoding)-3.1\">3.1 Преобразование категориальных переменных в числовые переменные (OneHotEncoding)</a></span></li><li><span><a href=\"#3.2-Заполнение-пропущенных-значений\" data-toc-modified-id=\"3.2-Заполнение-пропущенных-значений-3.2\">3.2 Заполнение пропущенных значений</a></span></li><li><span><a href=\"#3.3-Feature-Engineering-–-добавление-новых-признаков\" data-toc-modified-id=\"3.3-Feature-Engineering-–-добавление-новых-признаков-3.3\">3.3 Feature Engineering – добавление новых признаков</a></span></li></ul></li><li><span><a href=\"#3.4-Сборка-финальных-датасетов-для-моделирования\" data-toc-modified-id=\"3.4-Сборка-финальных-датасетов-для-моделирования-4\">3.4 Сборка финальных датасетов для моделирования</a></span><ul class=\"toc-item\"><li><span><a href=\"#3.4.1-Variable-selection\" data-toc-modified-id=\"3.4.1-Variable-selection-4.1\">3.4.1 Variable selection</a></span></li><li><span><a href=\"#3.4.2-Создание-датасетов\" data-toc-modified-id=\"3.4.2-Создание-датасетов-4.2\">3.4.2 Создание датасетов</a></span></li><li><span><a href=\"#3.4.3-Важность-признаков\" data-toc-modified-id=\"3.4.3-Важность-признаков-4.3\">3.4.3 Важность признаков</a></span></li></ul></li><li><span><a href=\"#4.-Моделирование\" data-toc-modified-id=\"4.-Моделирование-5\">4. Моделирование</a></span><ul class=\"toc-item\"><li><span><a href=\"#4.1-Выбор-модели\" data-toc-modified-id=\"4.1-Выбор-модели-5.1\">4.1 Выбор модели</a></span></li><li><span><a href=\"#4.2-Обучение-модели\" data-toc-modified-id=\"4.2-Обучение-модели-5.2\">4.2 Обучение модели</a></span></li></ul></li><li><span><a href=\"#5.-Оценка\" data-toc-modified-id=\"5.-Оценка-6\">5. Оценка</a></span><ul class=\"toc-item\"><li><span><a href=\"#5.1-Модель\" data-toc-modified-id=\"5.1-Модель-6.1\">5.1 Модель</a></span></li><li><span><a href=\"#SVC\" data-toc-modified-id=\"SVC-6.2\">SVC</a></span></li><li><span><a href=\"#RandomForestClassifier\" data-toc-modified-id=\"RandomForestClassifier-6.3\">RandomForestClassifier</a></span></li><li><span><a href=\"#DecisionTreeClassifier\" data-toc-modified-id=\"DecisionTreeClassifier-6.4\">DecisionTreeClassifier</a></span></li><li><span><a href=\"#KNN\" data-toc-modified-id=\"KNN-6.5\">KNN</a></span></li><li><span><a href=\"#Stratification\" data-toc-modified-id=\"Stratification-6.6\">Stratification</a></span></li></ul></li><li><span><a href=\"#6.-Развертывание\" data-toc-modified-id=\"6.-Развертывание-7\">6. Развертывание</a></span></li></ul></div>"
   ]
  },
  {
   "cell_type": "markdown",
   "id": "0f9a6c38",
   "metadata": {},
   "source": []
  },
  {
   "cell_type": "markdown",
   "id": "e9cd9f66",
   "metadata": {},
   "source": [
    "## 1. Понимание бизнеса"
   ]
  },
  {
   "cell_type": "markdown",
   "id": "0eb8f2b8",
   "metadata": {},
   "source": [
    "### 1.1 Цель\n",
    "\n",
    "Определить качество (оценка от 0 до 10)"
   ]
  },
  {
   "cell_type": "markdown",
   "id": "bdc0fa77",
   "metadata": {},
   "source": [
    "### 1.2 Описание\n",
    "\n",
    "Информация о наборе данных:\n",
    "\n",
    "Набор данных был загружен из репозитория машинного обучения UCI.\n",
    "\n",
    "Эти два набора данных относятся к красному и белому вариантам португальского вина \"Винью Верде\". Ссылка [Cortez et al., 2009]. Из-за проблем с конфиденциальностью и логистики доступны только физико-химические (исходные данные) и сенсорные (выходные данные) переменные (например, нет данных о сортах винограда, марке вина, продажной цене вина и т. д.).\n",
    "\n",
    "Эти наборы данных можно рассматривать как задачи классификации или регрессии. Классы упорядочены и не сбалансированы (например, нормальных вин значительно больше, чем отличных или плохих). Алгоритмы обнаружения выбросов могут использоваться для обнаружения нескольких отличных или плохих вин. Кроме того, мы не уверены, все ли входные переменные актуальны. Так что было бы интересно протестировать методы выбора функций.\n",
    "\n",
    "Два набора данных были объединены, и несколько значений были удалены случайным образом.\n",
    "\n",
    "Информация об атрибутах:\n",
    "\n",
    "Для получения дополнительной информации прочтите [Cortez et al., 2009].\n",
    "\n",
    "\n",
    "Благодарности:\n",
    "\n",
    "П. Кортез, А. Кердейра, Ф. Алмейда, Т. Матос и Дж. Рейс.\n",
    "Моделирование предпочтений вин путем извлечения данных из физико-химических свойств. In Decision Support Systems, Elsevier, 47 (4): 547-553, 2009."
   ]
  },
  {
   "cell_type": "markdown",
   "id": "b76c846b",
   "metadata": {},
   "source": [
    "## 2. Data Understanding"
   ]
  },
  {
   "cell_type": "markdown",
   "id": "e4836da0",
   "metadata": {},
   "source": [
    "### 2.1 Import Libraries"
   ]
  },
  {
   "cell_type": "code",
   "execution_count": 1,
   "id": "8d641d37",
   "metadata": {},
   "outputs": [],
   "source": [
    "# Ignore warnings\n",
    "import warnings\n",
    "warnings.filterwarnings('ignore')\n",
    "\n",
    "# Handle table-like data and matrices\n",
    "import numpy as np\n",
    "import pandas as pd\n",
    "\n",
    "# Modelling Algorithms\n",
    "from sklearn.tree import DecisionTreeClassifier\n",
    "from sklearn.linear_model import LogisticRegression\n",
    "from sklearn.neighbors import KNeighborsClassifier\n",
    "from sklearn.naive_bayes import GaussianNB\n",
    "from sklearn.svm import SVC, LinearSVC\n",
    "from sklearn.ensemble import RandomForestClassifier , GradientBoostingClassifier\n",
    "\n",
    "# Modelling Helpers\n",
    "from sklearn.impute import SimpleImputer as Imputer\n",
    "from sklearn.preprocessing import  Normalizer , scale\n",
    "from sklearn.pipeline import make_pipeline\n",
    "from sklearn.preprocessing import StandardScaler\n",
    "from sklearn.model_selection import train_test_split , StratifiedKFold\n",
    "from sklearn.feature_selection import RFECV\n",
    "\n",
    "# Visualisation\n",
    "# import matplotlib as mpl\n",
    "import matplotlib.pyplot as plt\n",
    "# import matplotlib.pylab as pylab\n",
    "import seaborn as sns\n",
    "import missingno as miss\n",
    "\n",
    "# Configure visualisations\n",
    "# %matplotlib inline\n",
    "# mpl.style.use( 'ggplot' )\n",
    "# sns.set_style( 'white' )\n",
    "# pylab.rcParams[ 'figure.figsize' ] = 8 , 6"
   ]
  },
  {
   "cell_type": "markdown",
   "id": "8eefc59d",
   "metadata": {},
   "source": [
    "### 2.2 Вспомогательные функции"
   ]
  },
  {
   "cell_type": "code",
   "execution_count": 2,
   "id": "da75497d",
   "metadata": {},
   "outputs": [],
   "source": [
    "# Функция для подсчета количества, процента и типа пропущенных данных\n",
    "def missing_values_table(df):\n",
    "        # Total missing values\n",
    "        mis_val = df.isnull().sum()\n",
    "        \n",
    "        # Percentage of missing values\n",
    "        mis_val_percent = 100 * df.isnull().sum() / len(df)\n",
    "        \n",
    "                \n",
    "        # Coumn for dtypes\n",
    "        dtype = df.dtypes\n",
    "        \n",
    "        # Make a table with the results\n",
    "        mis_val_table = pd.concat([mis_val, mis_val_percent, dtype], axis=1)\n",
    "        \n",
    "        # Rename the columns\n",
    "        mis_val_table_ren_columns = mis_val_table.rename(\n",
    "        columns = {0 : 'Missing Values', 1 : '% of Total Values', 2:'Data Types'})\n",
    "        \n",
    "        # Sort the table by percentage of missing descending\n",
    "        mis_val_table_ren_columns = mis_val_table_ren_columns[\n",
    "            mis_val_table_ren_columns.iloc[:,1] != 0].sort_values(\n",
    "        '% of Total Values', ascending=False).round(1)\n",
    "        \n",
    "        # Print some summary information\n",
    "        print (\"Your selected dataframe has \" + str(df.shape[1]) + \" columns and \" + str(len(df)) + \" rows.\\n\"      \n",
    "            \"There are \" + str(mis_val_table_ren_columns.shape[0]) + \" columns that have missing values.\")\n",
    "        \n",
    "        # Return the dataframe with missing information\n",
    "        return mis_val_table_ren_columns\n",
    "\n",
    "# Функция для определеня самых скоррелированных признаков\n",
    "def corrFilter(x: pd.DataFrame, bound: float):\n",
    "    xCorr = x.corr()\n",
    "    xFiltered = xCorr[((xCorr >= bound) | (xCorr <= -bound)) & (xCorr !=1)]\n",
    "    xFlattened = xFiltered.unstack().sort_values().drop_duplicates()\n",
    "    return xFlattened\n",
    "\n"
   ]
  },
  {
   "cell_type": "markdown",
   "id": "d60451f0",
   "metadata": {},
   "source": [
    "### 2.3 Загрузка данных"
   ]
  },
  {
   "cell_type": "code",
   "execution_count": 3,
   "id": "bc001c53",
   "metadata": {},
   "outputs": [
    {
     "data": {
      "text/plain": [
       "(6497, 13)"
      ]
     },
     "execution_count": 3,
     "metadata": {},
     "output_type": "execute_result"
    }
   ],
   "source": [
    "df = pd.read_csv('winequalityN.csv')\n",
    "\n",
    "df.shape"
   ]
  },
  {
   "cell_type": "code",
   "execution_count": 4,
   "id": "919dc5c1",
   "metadata": {
    "scrolled": true
   },
   "outputs": [
    {
     "data": {
      "text/html": [
       "<div>\n",
       "<style scoped>\n",
       "    .dataframe tbody tr th:only-of-type {\n",
       "        vertical-align: middle;\n",
       "    }\n",
       "\n",
       "    .dataframe tbody tr th {\n",
       "        vertical-align: top;\n",
       "    }\n",
       "\n",
       "    .dataframe thead th {\n",
       "        text-align: right;\n",
       "    }\n",
       "</style>\n",
       "<table border=\"1\" class=\"dataframe\">\n",
       "  <thead>\n",
       "    <tr style=\"text-align: right;\">\n",
       "      <th></th>\n",
       "      <th>type</th>\n",
       "      <th>fixed acidity</th>\n",
       "      <th>volatile acidity</th>\n",
       "      <th>citric acid</th>\n",
       "      <th>residual sugar</th>\n",
       "      <th>chlorides</th>\n",
       "      <th>free sulfur dioxide</th>\n",
       "      <th>total sulfur dioxide</th>\n",
       "      <th>density</th>\n",
       "      <th>pH</th>\n",
       "      <th>sulphates</th>\n",
       "      <th>alcohol</th>\n",
       "      <th>quality</th>\n",
       "    </tr>\n",
       "  </thead>\n",
       "  <tbody>\n",
       "    <tr>\n",
       "      <th>0</th>\n",
       "      <td>white</td>\n",
       "      <td>7.0</td>\n",
       "      <td>0.27</td>\n",
       "      <td>0.36</td>\n",
       "      <td>20.7</td>\n",
       "      <td>0.045</td>\n",
       "      <td>45.0</td>\n",
       "      <td>170.0</td>\n",
       "      <td>1.0010</td>\n",
       "      <td>3.00</td>\n",
       "      <td>0.45</td>\n",
       "      <td>8.8</td>\n",
       "      <td>6</td>\n",
       "    </tr>\n",
       "    <tr>\n",
       "      <th>1</th>\n",
       "      <td>white</td>\n",
       "      <td>6.3</td>\n",
       "      <td>0.30</td>\n",
       "      <td>0.34</td>\n",
       "      <td>1.6</td>\n",
       "      <td>0.049</td>\n",
       "      <td>14.0</td>\n",
       "      <td>132.0</td>\n",
       "      <td>0.9940</td>\n",
       "      <td>3.30</td>\n",
       "      <td>0.49</td>\n",
       "      <td>9.5</td>\n",
       "      <td>6</td>\n",
       "    </tr>\n",
       "    <tr>\n",
       "      <th>2</th>\n",
       "      <td>white</td>\n",
       "      <td>8.1</td>\n",
       "      <td>0.28</td>\n",
       "      <td>0.40</td>\n",
       "      <td>6.9</td>\n",
       "      <td>0.050</td>\n",
       "      <td>30.0</td>\n",
       "      <td>97.0</td>\n",
       "      <td>0.9951</td>\n",
       "      <td>3.26</td>\n",
       "      <td>0.44</td>\n",
       "      <td>10.1</td>\n",
       "      <td>6</td>\n",
       "    </tr>\n",
       "    <tr>\n",
       "      <th>3</th>\n",
       "      <td>white</td>\n",
       "      <td>7.2</td>\n",
       "      <td>0.23</td>\n",
       "      <td>0.32</td>\n",
       "      <td>8.5</td>\n",
       "      <td>0.058</td>\n",
       "      <td>47.0</td>\n",
       "      <td>186.0</td>\n",
       "      <td>0.9956</td>\n",
       "      <td>3.19</td>\n",
       "      <td>0.40</td>\n",
       "      <td>9.9</td>\n",
       "      <td>6</td>\n",
       "    </tr>\n",
       "    <tr>\n",
       "      <th>4</th>\n",
       "      <td>white</td>\n",
       "      <td>7.2</td>\n",
       "      <td>0.23</td>\n",
       "      <td>0.32</td>\n",
       "      <td>8.5</td>\n",
       "      <td>0.058</td>\n",
       "      <td>47.0</td>\n",
       "      <td>186.0</td>\n",
       "      <td>0.9956</td>\n",
       "      <td>3.19</td>\n",
       "      <td>0.40</td>\n",
       "      <td>9.9</td>\n",
       "      <td>6</td>\n",
       "    </tr>\n",
       "  </tbody>\n",
       "</table>\n",
       "</div>"
      ],
      "text/plain": [
       "    type  fixed acidity  volatile acidity  citric acid  residual sugar  \\\n",
       "0  white            7.0              0.27         0.36            20.7   \n",
       "1  white            6.3              0.30         0.34             1.6   \n",
       "2  white            8.1              0.28         0.40             6.9   \n",
       "3  white            7.2              0.23         0.32             8.5   \n",
       "4  white            7.2              0.23         0.32             8.5   \n",
       "\n",
       "   chlorides  free sulfur dioxide  total sulfur dioxide  density    pH  \\\n",
       "0      0.045                 45.0                 170.0   1.0010  3.00   \n",
       "1      0.049                 14.0                 132.0   0.9940  3.30   \n",
       "2      0.050                 30.0                  97.0   0.9951  3.26   \n",
       "3      0.058                 47.0                 186.0   0.9956  3.19   \n",
       "4      0.058                 47.0                 186.0   0.9956  3.19   \n",
       "\n",
       "   sulphates  alcohol  quality  \n",
       "0       0.45      8.8        6  \n",
       "1       0.49      9.5        6  \n",
       "2       0.44     10.1        6  \n",
       "3       0.40      9.9        6  \n",
       "4       0.40      9.9        6  "
      ]
     },
     "execution_count": 4,
     "metadata": {},
     "output_type": "execute_result"
    }
   ],
   "source": [
    "df.head()"
   ]
  },
  {
   "cell_type": "markdown",
   "id": "b87861e9",
   "metadata": {},
   "source": [
    "### 2.4 Статистика и визуализации"
   ]
  },
  {
   "cell_type": "markdown",
   "id": "c9342483",
   "metadata": {},
   "source": [
    "### 2.4.1 Ключевая информация о переменных"
   ]
  },
  {
   "cell_type": "markdown",
   "id": "d129dc7e",
   "metadata": {},
   "source": [
    "Входные переменные (на основе физико-химических тестов):\n",
    "\n",
    "0 - тип\n",
    "\n",
    "1 - фиксированная кислотность\n",
    "\n",
    "2 - летучая кислотность\n",
    "\n",
    "3 - лимонная кислота\n",
    "\n",
    "4 - остаточный сахар\n",
    "\n",
    "5 - хлориды\n",
    "\n",
    "6 - свободный диоксид серы\n",
    "\n",
    "7 - общий диоксид серы\n",
    "\n",
    "8 - плотность\n",
    "\n",
    "9 - pH\n",
    "\n",
    "10 - сульфаты\n",
    "\n",
    "11 - спирт\n",
    "\n",
    "Выходная переменная (на основе сенсорных данных):\n",
    "\n",
    "12 - качество (оценка от 0 до 10)\n"
   ]
  },
  {
   "cell_type": "code",
   "execution_count": 5,
   "id": "b771819b",
   "metadata": {},
   "outputs": [
    {
     "data": {
      "text/html": [
       "<div>\n",
       "<style scoped>\n",
       "    .dataframe tbody tr th:only-of-type {\n",
       "        vertical-align: middle;\n",
       "    }\n",
       "\n",
       "    .dataframe tbody tr th {\n",
       "        vertical-align: top;\n",
       "    }\n",
       "\n",
       "    .dataframe thead th {\n",
       "        text-align: right;\n",
       "    }\n",
       "</style>\n",
       "<table border=\"1\" class=\"dataframe\">\n",
       "  <thead>\n",
       "    <tr style=\"text-align: right;\">\n",
       "      <th></th>\n",
       "      <th>fixed acidity</th>\n",
       "      <th>volatile acidity</th>\n",
       "      <th>citric acid</th>\n",
       "      <th>residual sugar</th>\n",
       "      <th>chlorides</th>\n",
       "      <th>free sulfur dioxide</th>\n",
       "      <th>total sulfur dioxide</th>\n",
       "      <th>density</th>\n",
       "      <th>pH</th>\n",
       "      <th>sulphates</th>\n",
       "      <th>alcohol</th>\n",
       "      <th>quality</th>\n",
       "    </tr>\n",
       "  </thead>\n",
       "  <tbody>\n",
       "    <tr>\n",
       "      <th>count</th>\n",
       "      <td>6487.000000</td>\n",
       "      <td>6489.000000</td>\n",
       "      <td>6494.000000</td>\n",
       "      <td>6495.000000</td>\n",
       "      <td>6495.000000</td>\n",
       "      <td>6497.000000</td>\n",
       "      <td>6497.000000</td>\n",
       "      <td>6497.000000</td>\n",
       "      <td>6488.000000</td>\n",
       "      <td>6493.000000</td>\n",
       "      <td>6497.000000</td>\n",
       "      <td>6497.000000</td>\n",
       "    </tr>\n",
       "    <tr>\n",
       "      <th>mean</th>\n",
       "      <td>7.216579</td>\n",
       "      <td>0.339691</td>\n",
       "      <td>0.318722</td>\n",
       "      <td>5.444326</td>\n",
       "      <td>0.056042</td>\n",
       "      <td>30.525319</td>\n",
       "      <td>115.744574</td>\n",
       "      <td>0.994697</td>\n",
       "      <td>3.218395</td>\n",
       "      <td>0.531215</td>\n",
       "      <td>10.491801</td>\n",
       "      <td>5.818378</td>\n",
       "    </tr>\n",
       "    <tr>\n",
       "      <th>std</th>\n",
       "      <td>1.296750</td>\n",
       "      <td>0.164649</td>\n",
       "      <td>0.145265</td>\n",
       "      <td>4.758125</td>\n",
       "      <td>0.035036</td>\n",
       "      <td>17.749400</td>\n",
       "      <td>56.521855</td>\n",
       "      <td>0.002999</td>\n",
       "      <td>0.160748</td>\n",
       "      <td>0.148814</td>\n",
       "      <td>1.192712</td>\n",
       "      <td>0.873255</td>\n",
       "    </tr>\n",
       "    <tr>\n",
       "      <th>min</th>\n",
       "      <td>3.800000</td>\n",
       "      <td>0.080000</td>\n",
       "      <td>0.000000</td>\n",
       "      <td>0.600000</td>\n",
       "      <td>0.009000</td>\n",
       "      <td>1.000000</td>\n",
       "      <td>6.000000</td>\n",
       "      <td>0.987110</td>\n",
       "      <td>2.720000</td>\n",
       "      <td>0.220000</td>\n",
       "      <td>8.000000</td>\n",
       "      <td>3.000000</td>\n",
       "    </tr>\n",
       "    <tr>\n",
       "      <th>25%</th>\n",
       "      <td>6.400000</td>\n",
       "      <td>0.230000</td>\n",
       "      <td>0.250000</td>\n",
       "      <td>1.800000</td>\n",
       "      <td>0.038000</td>\n",
       "      <td>17.000000</td>\n",
       "      <td>77.000000</td>\n",
       "      <td>0.992340</td>\n",
       "      <td>3.110000</td>\n",
       "      <td>0.430000</td>\n",
       "      <td>9.500000</td>\n",
       "      <td>5.000000</td>\n",
       "    </tr>\n",
       "    <tr>\n",
       "      <th>50%</th>\n",
       "      <td>7.000000</td>\n",
       "      <td>0.290000</td>\n",
       "      <td>0.310000</td>\n",
       "      <td>3.000000</td>\n",
       "      <td>0.047000</td>\n",
       "      <td>29.000000</td>\n",
       "      <td>118.000000</td>\n",
       "      <td>0.994890</td>\n",
       "      <td>3.210000</td>\n",
       "      <td>0.510000</td>\n",
       "      <td>10.300000</td>\n",
       "      <td>6.000000</td>\n",
       "    </tr>\n",
       "    <tr>\n",
       "      <th>75%</th>\n",
       "      <td>7.700000</td>\n",
       "      <td>0.400000</td>\n",
       "      <td>0.390000</td>\n",
       "      <td>8.100000</td>\n",
       "      <td>0.065000</td>\n",
       "      <td>41.000000</td>\n",
       "      <td>156.000000</td>\n",
       "      <td>0.996990</td>\n",
       "      <td>3.320000</td>\n",
       "      <td>0.600000</td>\n",
       "      <td>11.300000</td>\n",
       "      <td>6.000000</td>\n",
       "    </tr>\n",
       "    <tr>\n",
       "      <th>max</th>\n",
       "      <td>15.900000</td>\n",
       "      <td>1.580000</td>\n",
       "      <td>1.660000</td>\n",
       "      <td>65.800000</td>\n",
       "      <td>0.611000</td>\n",
       "      <td>289.000000</td>\n",
       "      <td>440.000000</td>\n",
       "      <td>1.038980</td>\n",
       "      <td>4.010000</td>\n",
       "      <td>2.000000</td>\n",
       "      <td>14.900000</td>\n",
       "      <td>9.000000</td>\n",
       "    </tr>\n",
       "  </tbody>\n",
       "</table>\n",
       "</div>"
      ],
      "text/plain": [
       "       fixed acidity  volatile acidity  citric acid  residual sugar  \\\n",
       "count    6487.000000       6489.000000  6494.000000     6495.000000   \n",
       "mean        7.216579          0.339691     0.318722        5.444326   \n",
       "std         1.296750          0.164649     0.145265        4.758125   \n",
       "min         3.800000          0.080000     0.000000        0.600000   \n",
       "25%         6.400000          0.230000     0.250000        1.800000   \n",
       "50%         7.000000          0.290000     0.310000        3.000000   \n",
       "75%         7.700000          0.400000     0.390000        8.100000   \n",
       "max        15.900000          1.580000     1.660000       65.800000   \n",
       "\n",
       "         chlorides  free sulfur dioxide  total sulfur dioxide      density  \\\n",
       "count  6495.000000          6497.000000           6497.000000  6497.000000   \n",
       "mean      0.056042            30.525319            115.744574     0.994697   \n",
       "std       0.035036            17.749400             56.521855     0.002999   \n",
       "min       0.009000             1.000000              6.000000     0.987110   \n",
       "25%       0.038000            17.000000             77.000000     0.992340   \n",
       "50%       0.047000            29.000000            118.000000     0.994890   \n",
       "75%       0.065000            41.000000            156.000000     0.996990   \n",
       "max       0.611000           289.000000            440.000000     1.038980   \n",
       "\n",
       "                pH    sulphates      alcohol      quality  \n",
       "count  6488.000000  6493.000000  6497.000000  6497.000000  \n",
       "mean      3.218395     0.531215    10.491801     5.818378  \n",
       "std       0.160748     0.148814     1.192712     0.873255  \n",
       "min       2.720000     0.220000     8.000000     3.000000  \n",
       "25%       3.110000     0.430000     9.500000     5.000000  \n",
       "50%       3.210000     0.510000    10.300000     6.000000  \n",
       "75%       3.320000     0.600000    11.300000     6.000000  \n",
       "max       4.010000     2.000000    14.900000     9.000000  "
      ]
     },
     "execution_count": 5,
     "metadata": {},
     "output_type": "execute_result"
    }
   ],
   "source": [
    "df.describe()"
   ]
  },
  {
   "cell_type": "code",
   "execution_count": 6,
   "id": "83a5b834",
   "metadata": {
    "scrolled": true
   },
   "outputs": [
    {
     "name": "stdout",
     "output_type": "stream",
     "text": [
      "<class 'pandas.core.frame.DataFrame'>\n",
      "RangeIndex: 6497 entries, 0 to 6496\n",
      "Data columns (total 13 columns):\n",
      " #   Column                Non-Null Count  Dtype  \n",
      "---  ------                --------------  -----  \n",
      " 0   type                  6497 non-null   object \n",
      " 1   fixed acidity         6487 non-null   float64\n",
      " 2   volatile acidity      6489 non-null   float64\n",
      " 3   citric acid           6494 non-null   float64\n",
      " 4   residual sugar        6495 non-null   float64\n",
      " 5   chlorides             6495 non-null   float64\n",
      " 6   free sulfur dioxide   6497 non-null   float64\n",
      " 7   total sulfur dioxide  6497 non-null   float64\n",
      " 8   density               6497 non-null   float64\n",
      " 9   pH                    6488 non-null   float64\n",
      " 10  sulphates             6493 non-null   float64\n",
      " 11  alcohol               6497 non-null   float64\n",
      " 12  quality               6497 non-null   int64  \n",
      "dtypes: float64(11), int64(1), object(1)\n",
      "memory usage: 660.0+ KB\n"
     ]
    }
   ],
   "source": [
    "df.info()"
   ]
  },
  {
   "cell_type": "markdown",
   "id": "6b11dbc1",
   "metadata": {},
   "source": [
    "#### Данные представляют собой датасет из 13 столбцов и 6497 строк.\n",
    "#### Столбец 'type' имеет тип данных - object, столбец 'quality' (целевая переменная) - int64, остальные столбцы - float64.\n",
    "#### В данных присутствуют пропуски."
   ]
  },
  {
   "cell_type": "markdown",
   "id": "c90dd099",
   "metadata": {},
   "source": [
    "### Оценка количества пропусков."
   ]
  },
  {
   "cell_type": "code",
   "execution_count": 7,
   "id": "cc38b97a",
   "metadata": {
    "scrolled": true
   },
   "outputs": [
    {
     "name": "stdout",
     "output_type": "stream",
     "text": [
      "Your selected dataframe has 13 columns and 6497 rows.\n",
      "There are 7 columns that have missing values.\n"
     ]
    },
    {
     "data": {
      "text/html": [
       "<div>\n",
       "<style scoped>\n",
       "    .dataframe tbody tr th:only-of-type {\n",
       "        vertical-align: middle;\n",
       "    }\n",
       "\n",
       "    .dataframe tbody tr th {\n",
       "        vertical-align: top;\n",
       "    }\n",
       "\n",
       "    .dataframe thead th {\n",
       "        text-align: right;\n",
       "    }\n",
       "</style>\n",
       "<table border=\"1\" class=\"dataframe\">\n",
       "  <thead>\n",
       "    <tr style=\"text-align: right;\">\n",
       "      <th></th>\n",
       "      <th>Missing Values</th>\n",
       "      <th>% of Total Values</th>\n",
       "      <th>Data Types</th>\n",
       "    </tr>\n",
       "  </thead>\n",
       "  <tbody>\n",
       "    <tr>\n",
       "      <th>fixed acidity</th>\n",
       "      <td>10</td>\n",
       "      <td>0.2</td>\n",
       "      <td>float64</td>\n",
       "    </tr>\n",
       "    <tr>\n",
       "      <th>pH</th>\n",
       "      <td>9</td>\n",
       "      <td>0.1</td>\n",
       "      <td>float64</td>\n",
       "    </tr>\n",
       "    <tr>\n",
       "      <th>volatile acidity</th>\n",
       "      <td>8</td>\n",
       "      <td>0.1</td>\n",
       "      <td>float64</td>\n",
       "    </tr>\n",
       "    <tr>\n",
       "      <th>sulphates</th>\n",
       "      <td>4</td>\n",
       "      <td>0.1</td>\n",
       "      <td>float64</td>\n",
       "    </tr>\n",
       "    <tr>\n",
       "      <th>citric acid</th>\n",
       "      <td>3</td>\n",
       "      <td>0.0</td>\n",
       "      <td>float64</td>\n",
       "    </tr>\n",
       "    <tr>\n",
       "      <th>residual sugar</th>\n",
       "      <td>2</td>\n",
       "      <td>0.0</td>\n",
       "      <td>float64</td>\n",
       "    </tr>\n",
       "    <tr>\n",
       "      <th>chlorides</th>\n",
       "      <td>2</td>\n",
       "      <td>0.0</td>\n",
       "      <td>float64</td>\n",
       "    </tr>\n",
       "  </tbody>\n",
       "</table>\n",
       "</div>"
      ],
      "text/plain": [
       "                  Missing Values  % of Total Values Data Types\n",
       "fixed acidity                 10                0.2    float64\n",
       "pH                             9                0.1    float64\n",
       "volatile acidity               8                0.1    float64\n",
       "sulphates                      4                0.1    float64\n",
       "citric acid                    3                0.0    float64\n",
       "residual sugar                 2                0.0    float64\n",
       "chlorides                      2                0.0    float64"
      ]
     },
     "execution_count": 7,
     "metadata": {},
     "output_type": "execute_result"
    }
   ],
   "source": [
    "missing_values_table(df)"
   ]
  },
  {
   "cell_type": "markdown",
   "id": "f6115716",
   "metadata": {},
   "source": [
    "### 2.4.2 Тепловая карта корреляции может дать понимание того, какие переменные важны"
   ]
  },
  {
   "cell_type": "code",
   "execution_count": null,
   "id": "4388900a",
   "metadata": {},
   "outputs": [],
   "source": []
  },
  {
   "cell_type": "code",
   "execution_count": 8,
   "id": "7f251521",
   "metadata": {
    "scrolled": false
   },
   "outputs": [
    {
     "data": {
      "text/plain": [
       "<AxesSubplot:>"
      ]
     },
     "execution_count": 8,
     "metadata": {},
     "output_type": "execute_result"
    },
    {
     "data": {
      "image/png": "[encoded data removed]",
      "text/plain": [
       "<Figure size 1080x360 with 2 Axes>"
      ]
     },
     "metadata": {
      "needs_background": "light"
     },
     "output_type": "display_data"
    }
   ],
   "source": [
    "plt.figure(figsize=(15,5))\n",
    "cmap = sns.diverging_palette(220, 10, as_cmap=True)\n",
    "sns.heatmap(df.corr(), cmap=cmap, annot=True)"
   ]
  },
  {
   "cell_type": "code",
   "execution_count": 9,
   "id": "eec5cc17",
   "metadata": {},
   "outputs": [
    {
     "data": {
      "text/plain": [
       "density              alcohol                -0.686745\n",
       "residual sugar       density                 0.552498\n",
       "free sulfur dioxide  total sulfur dioxide    0.720934\n",
       "fixed acidity        fixed acidity                NaN\n",
       "dtype: float64"
      ]
     },
     "execution_count": 9,
     "metadata": {},
     "output_type": "execute_result"
    }
   ],
   "source": [
    "# определение самых скоррелированных признаков\n",
    "\n",
    "corrFilter(df, 0.5)"
   ]
  },
  {
   "cell_type": "code",
   "execution_count": null,
   "id": "feb151cc",
   "metadata": {},
   "outputs": [],
   "source": []
  },
  {
   "cell_type": "markdown",
   "id": "ee75ddad",
   "metadata": {},
   "source": [
    "### 2.4.3 Подробнее рассмотрим взаимосвязь между признаками и качеством вина"
   ]
  },
  {
   "cell_type": "code",
   "execution_count": 10,
   "id": "0b631853",
   "metadata": {
    "scrolled": true
   },
   "outputs": [
    {
     "data": {
      "text/plain": [
       "density                -0.305858\n",
       "volatile acidity       -0.265953\n",
       "chlorides              -0.200886\n",
       "fixed acidity          -0.077031\n",
       "total sulfur dioxide   -0.041385\n",
       "residual sugar         -0.036825\n",
       "pH                      0.019366\n",
       "sulphates               0.038729\n",
       "free sulfur dioxide     0.055463\n",
       "citric acid             0.085706\n",
       "alcohol                 0.444319\n",
       "Name: quality, dtype: float64"
      ]
     },
     "execution_count": 10,
     "metadata": {},
     "output_type": "execute_result"
    }
   ],
   "source": [
    "# Корреляция признаков с целевой переменной\n",
    "corr_df = df.corr()\n",
    "\n",
    "corr_rank = corr_df[((corr_df>=0) | (corr_df<=0)) & (corr_df!=1)]['quality'].sort_values().dropna()\n",
    "corr_rank"
   ]
  },
  {
   "cell_type": "markdown",
   "id": "61c8d1b3",
   "metadata": {},
   "source": [
    "### Распределение оценки quality"
   ]
  },
  {
   "cell_type": "code",
   "execution_count": 11,
   "id": "dcd3d285",
   "metadata": {},
   "outputs": [
    {
     "data": {
      "text/plain": [
       "6    2836\n",
       "5    2138\n",
       "7    1079\n",
       "4     216\n",
       "8     193\n",
       "3      30\n",
       "9       5\n",
       "Name: quality, dtype: int64"
      ]
     },
     "execution_count": 11,
     "metadata": {},
     "output_type": "execute_result"
    }
   ],
   "source": [
    "df['quality'].value_counts()"
   ]
  },
  {
   "cell_type": "code",
   "execution_count": 12,
   "id": "d3ce50b6",
   "metadata": {},
   "outputs": [
    {
     "data": {
      "text/plain": [
       "<AxesSubplot:xlabel='quality', ylabel='count'>"
      ]
     },
     "execution_count": 12,
     "metadata": {},
     "output_type": "execute_result"
    },
    {
     "data": {
      "image/png": "[encoded data removed]",
      "text/plain": [
       "<Figure size 432x288 with 1 Axes>"
      ]
     },
     "metadata": {
      "needs_background": "light"
     },
     "output_type": "display_data"
    }
   ],
   "source": [
    "sns.countplot(data=df, x='quality')"
   ]
  },
  {
   "cell_type": "markdown",
   "id": "80f26e90",
   "metadata": {},
   "source": [
    "Наибольшее количество вин находится в среднем диапазоне и имеют оценки 5 и 6."
   ]
  },
  {
   "cell_type": "markdown",
   "id": "38b6108d",
   "metadata": {},
   "source": [
    "### Распределение по типу вина"
   ]
  },
  {
   "cell_type": "code",
   "execution_count": 13,
   "id": "f6e61897",
   "metadata": {
    "scrolled": false
   },
   "outputs": [
    {
     "data": {
      "text/plain": [
       "<AxesSubplot:xlabel='type', ylabel='count'>"
      ]
     },
     "execution_count": 13,
     "metadata": {},
     "output_type": "execute_result"
    },
    {
     "data": {
      "image/png": "[encoded data removed]",
      "text/plain": [
       "<Figure size 432x288 with 1 Axes>"
      ]
     },
     "metadata": {
      "needs_background": "light"
     },
     "output_type": "display_data"
    }
   ],
   "source": [
    "sns.countplot(data=df, x='type')"
   ]
  },
  {
   "cell_type": "markdown",
   "id": "228a9a63",
   "metadata": {},
   "source": [
    "### Распределение качества вина по типу"
   ]
  },
  {
   "cell_type": "code",
   "execution_count": 14,
   "id": "786611f5",
   "metadata": {},
   "outputs": [
    {
     "data": {
      "text/plain": [
       "<AxesSubplot:xlabel='quality', ylabel='Density'>"
      ]
     },
     "execution_count": 14,
     "metadata": {},
     "output_type": "execute_result"
    },
    {
     "data": {
      "image/png": "[encoded data removed]",
      "text/plain": [
       "<Figure size 432x288 with 1 Axes>"
      ]
     },
     "metadata": {
      "needs_background": "light"
     },
     "output_type": "display_data"
    }
   ],
   "source": [
    "sns.kdeplot(data=df, x='quality', hue='type', fill=True, common_norm=False)"
   ]
  },
  {
   "cell_type": "code",
   "execution_count": 15,
   "id": "839738f4",
   "metadata": {},
   "outputs": [
    {
     "data": {
      "text/plain": [
       "white    4898\n",
       "red      1599\n",
       "Name: type, dtype: int64"
      ]
     },
     "execution_count": 15,
     "metadata": {},
     "output_type": "execute_result"
    }
   ],
   "source": [
    "df['type'].value_counts()"
   ]
  },
  {
   "cell_type": "markdown",
   "id": "17a6d83f",
   "metadata": {},
   "source": [
    "Преобладающее количество вин - белые."
   ]
  },
  {
   "cell_type": "markdown",
   "id": "13d0c6b9",
   "metadata": {},
   "source": [
    "### Распределение вин по содержанию алкоголя"
   ]
  },
  {
   "cell_type": "code",
   "execution_count": 16,
   "id": "8e137644",
   "metadata": {},
   "outputs": [
    {
     "data": {
      "text/plain": [
       "<AxesSubplot:xlabel='alcohol', ylabel='Density'>"
      ]
     },
     "execution_count": 16,
     "metadata": {},
     "output_type": "execute_result"
    },
    {
     "data": {
      "image/png": "[encoded data removed]",
      "text/plain": [
       "<Figure size 432x288 with 1 Axes>"
      ]
     },
     "metadata": {
      "needs_background": "light"
     },
     "output_type": "display_data"
    }
   ],
   "source": [
    "sns.kdeplot(data=df, x='alcohol', fill=True, common_norm=False, palette=\"crest\")"
   ]
  },
  {
   "cell_type": "markdown",
   "id": "2550c4ca",
   "metadata": {},
   "source": [
    "### Взаимосвязь alcohol и quality"
   ]
  },
  {
   "cell_type": "code",
   "execution_count": 17,
   "id": "1e850803",
   "metadata": {
    "scrolled": false
   },
   "outputs": [
    {
     "data": {
      "text/plain": [
       "<AxesSubplot:xlabel='alcohol', ylabel='Density'>"
      ]
     },
     "execution_count": 17,
     "metadata": {},
     "output_type": "execute_result"
    },
    {
     "data": {
      "image/png": "[encoded data removed]",
      "text/plain": [
       "<Figure size 432x288 with 1 Axes>"
      ]
     },
     "metadata": {
      "needs_background": "light"
     },
     "output_type": "display_data"
    }
   ],
   "source": [
    "sns.kdeplot(data=df, x='alcohol', hue='quality', fill=True, common_norm=False, palette=\"crest\")"
   ]
  },
  {
   "cell_type": "markdown",
   "id": "883b3530",
   "metadata": {},
   "source": [
    "Наибольшее количество вин со средней оценкой (5, 6) имеют содержание алкоголя 9-11, с высокой оценкой (7, 8, 9) имеют содержание алкоголя 11-13."
   ]
  },
  {
   "cell_type": "markdown",
   "id": "985fe3b9",
   "metadata": {},
   "source": [
    "### Распределение вин по плотности"
   ]
  },
  {
   "cell_type": "code",
   "execution_count": 18,
   "id": "e8a1390a",
   "metadata": {},
   "outputs": [
    {
     "data": {
      "text/plain": [
       "<AxesSubplot:xlabel='density', ylabel='Density'>"
      ]
     },
     "execution_count": 18,
     "metadata": {},
     "output_type": "execute_result"
    },
    {
     "data": {
      "image/png": "[encoded data removed]",
      "text/plain": [
       "<Figure size 432x288 with 1 Axes>"
      ]
     },
     "metadata": {
      "needs_background": "light"
     },
     "output_type": "display_data"
    }
   ],
   "source": [
    "sns.kdeplot(data=df, x='density', fill=True, common_norm=False, palette=\"crest\")"
   ]
  },
  {
   "cell_type": "markdown",
   "id": "b0476f58",
   "metadata": {},
   "source": [
    "### Взаимосвязь плотности вина и качества"
   ]
  },
  {
   "cell_type": "code",
   "execution_count": 19,
   "id": "9d52dee0",
   "metadata": {
    "scrolled": true
   },
   "outputs": [
    {
     "data": {
      "text/plain": [
       "<AxesSubplot:xlabel='density', ylabel='Density'>"
      ]
     },
     "execution_count": 19,
     "metadata": {},
     "output_type": "execute_result"
    },
    {
     "data": {
      "image/png": "[encoded data removed]",
      "text/plain": [
       "<Figure size 432x288 with 1 Axes>"
      ]
     },
     "metadata": {
      "needs_background": "light"
     },
     "output_type": "display_data"
    }
   ],
   "source": [
    "sns.kdeplot(data=df, x='density', hue='quality', fill=True, common_norm=False, palette=\"crest\")"
   ]
  },
  {
   "cell_type": "markdown",
   "id": "c76429a7",
   "metadata": {},
   "source": [
    "Наибольшее количество вин с меньшей плотностью имеют высокую оценку."
   ]
  },
  {
   "cell_type": "markdown",
   "id": "cba036a9",
   "metadata": {},
   "source": [
    "## 3. Data Preparation"
   ]
  },
  {
   "cell_type": "markdown",
   "id": "2a4c5785",
   "metadata": {},
   "source": [
    "### 3.1 Преобразование категориальных переменных в числовые переменные (OneHotEncoding)"
   ]
  },
  {
   "cell_type": "code",
   "execution_count": 20,
   "id": "6206bc10",
   "metadata": {},
   "outputs": [
    {
     "data": {
      "text/html": [
       "<div>\n",
       "<style scoped>\n",
       "    .dataframe tbody tr th:only-of-type {\n",
       "        vertical-align: middle;\n",
       "    }\n",
       "\n",
       "    .dataframe tbody tr th {\n",
       "        vertical-align: top;\n",
       "    }\n",
       "\n",
       "    .dataframe thead th {\n",
       "        text-align: right;\n",
       "    }\n",
       "</style>\n",
       "<table border=\"1\" class=\"dataframe\">\n",
       "  <thead>\n",
       "    <tr style=\"text-align: right;\">\n",
       "      <th></th>\n",
       "      <th>type</th>\n",
       "      <th>fixed acidity</th>\n",
       "      <th>volatile acidity</th>\n",
       "      <th>citric acid</th>\n",
       "      <th>residual sugar</th>\n",
       "      <th>chlorides</th>\n",
       "      <th>free sulfur dioxide</th>\n",
       "      <th>total sulfur dioxide</th>\n",
       "      <th>density</th>\n",
       "      <th>pH</th>\n",
       "      <th>sulphates</th>\n",
       "      <th>alcohol</th>\n",
       "      <th>quality</th>\n",
       "    </tr>\n",
       "  </thead>\n",
       "  <tbody>\n",
       "    <tr>\n",
       "      <th>0</th>\n",
       "      <td>1</td>\n",
       "      <td>7.0</td>\n",
       "      <td>0.27</td>\n",
       "      <td>0.36</td>\n",
       "      <td>20.7</td>\n",
       "      <td>0.045</td>\n",
       "      <td>45.0</td>\n",
       "      <td>170.0</td>\n",
       "      <td>1.0010</td>\n",
       "      <td>3.00</td>\n",
       "      <td>0.45</td>\n",
       "      <td>8.8</td>\n",
       "      <td>6</td>\n",
       "    </tr>\n",
       "    <tr>\n",
       "      <th>1</th>\n",
       "      <td>1</td>\n",
       "      <td>6.3</td>\n",
       "      <td>0.30</td>\n",
       "      <td>0.34</td>\n",
       "      <td>1.6</td>\n",
       "      <td>0.049</td>\n",
       "      <td>14.0</td>\n",
       "      <td>132.0</td>\n",
       "      <td>0.9940</td>\n",
       "      <td>3.30</td>\n",
       "      <td>0.49</td>\n",
       "      <td>9.5</td>\n",
       "      <td>6</td>\n",
       "    </tr>\n",
       "    <tr>\n",
       "      <th>2</th>\n",
       "      <td>1</td>\n",
       "      <td>8.1</td>\n",
       "      <td>0.28</td>\n",
       "      <td>0.40</td>\n",
       "      <td>6.9</td>\n",
       "      <td>0.050</td>\n",
       "      <td>30.0</td>\n",
       "      <td>97.0</td>\n",
       "      <td>0.9951</td>\n",
       "      <td>3.26</td>\n",
       "      <td>0.44</td>\n",
       "      <td>10.1</td>\n",
       "      <td>6</td>\n",
       "    </tr>\n",
       "    <tr>\n",
       "      <th>3</th>\n",
       "      <td>1</td>\n",
       "      <td>7.2</td>\n",
       "      <td>0.23</td>\n",
       "      <td>0.32</td>\n",
       "      <td>8.5</td>\n",
       "      <td>0.058</td>\n",
       "      <td>47.0</td>\n",
       "      <td>186.0</td>\n",
       "      <td>0.9956</td>\n",
       "      <td>3.19</td>\n",
       "      <td>0.40</td>\n",
       "      <td>9.9</td>\n",
       "      <td>6</td>\n",
       "    </tr>\n",
       "    <tr>\n",
       "      <th>4</th>\n",
       "      <td>1</td>\n",
       "      <td>7.2</td>\n",
       "      <td>0.23</td>\n",
       "      <td>0.32</td>\n",
       "      <td>8.5</td>\n",
       "      <td>0.058</td>\n",
       "      <td>47.0</td>\n",
       "      <td>186.0</td>\n",
       "      <td>0.9956</td>\n",
       "      <td>3.19</td>\n",
       "      <td>0.40</td>\n",
       "      <td>9.9</td>\n",
       "      <td>6</td>\n",
       "    </tr>\n",
       "  </tbody>\n",
       "</table>\n",
       "</div>"
      ],
      "text/plain": [
       "   type  fixed acidity  volatile acidity  citric acid  residual sugar  \\\n",
       "0     1            7.0              0.27         0.36            20.7   \n",
       "1     1            6.3              0.30         0.34             1.6   \n",
       "2     1            8.1              0.28         0.40             6.9   \n",
       "3     1            7.2              0.23         0.32             8.5   \n",
       "4     1            7.2              0.23         0.32             8.5   \n",
       "\n",
       "   chlorides  free sulfur dioxide  total sulfur dioxide  density    pH  \\\n",
       "0      0.045                 45.0                 170.0   1.0010  3.00   \n",
       "1      0.049                 14.0                 132.0   0.9940  3.30   \n",
       "2      0.050                 30.0                  97.0   0.9951  3.26   \n",
       "3      0.058                 47.0                 186.0   0.9956  3.19   \n",
       "4      0.058                 47.0                 186.0   0.9956  3.19   \n",
       "\n",
       "   sulphates  alcohol  quality  \n",
       "0       0.45      8.8        6  \n",
       "1       0.49      9.5        6  \n",
       "2       0.44     10.1        6  \n",
       "3       0.40      9.9        6  \n",
       "4       0.40      9.9        6  "
      ]
     },
     "execution_count": 20,
     "metadata": {},
     "output_type": "execute_result"
    }
   ],
   "source": [
    "df['type']=pd.get_dummies(df['type'],drop_first=True)\n",
    "df.head()"
   ]
  },
  {
   "cell_type": "markdown",
   "id": "5f389234",
   "metadata": {},
   "source": [
    "### 3.2 Заполнение пропущенных значений\n",
    "\n",
    "заполнение пропущенных значений средним по переменной."
   ]
  },
  {
   "cell_type": "code",
   "execution_count": 21,
   "id": "92af633e",
   "metadata": {},
   "outputs": [
    {
     "data": {
      "text/plain": [
       "type                    0\n",
       "fixed acidity           0\n",
       "volatile acidity        0\n",
       "citric acid             0\n",
       "residual sugar          0\n",
       "chlorides               0\n",
       "free sulfur dioxide     0\n",
       "total sulfur dioxide    0\n",
       "density                 0\n",
       "pH                      0\n",
       "sulphates               0\n",
       "alcohol                 0\n",
       "quality                 0\n",
       "dtype: int64"
      ]
     },
     "execution_count": 21,
     "metadata": {},
     "output_type": "execute_result"
    }
   ],
   "source": [
    "df.fillna(df.mean(), inplace=True)\n",
    "\n",
    "df.isna().sum()"
   ]
  },
  {
   "cell_type": "markdown",
   "id": "bcf044fd",
   "metadata": {},
   "source": [
    "### 3.3 Feature Engineering – добавление новых признаков"
   ]
  },
  {
   "cell_type": "markdown",
   "id": "0cb59af3",
   "metadata": {},
   "source": [
    "В данном случае добавление новых признаков не производится."
   ]
  },
  {
   "cell_type": "markdown",
   "id": "2757e683",
   "metadata": {},
   "source": [
    "## 3.4 Сборка финальных датасетов для моделирования"
   ]
  },
  {
   "cell_type": "markdown",
   "id": "5c65c87e",
   "metadata": {},
   "source": [
    "### 3.4.1 Variable selection\n",
    "\n",
    "Выбираем все доступные признаки для формирования итогового датасета."
   ]
  },
  {
   "cell_type": "markdown",
   "id": "58ce9793",
   "metadata": {},
   "source": [
    "### 3.4.2 Создание датасетов\n",
    "\n",
    "Отделяем данные для обучения и для проверки"
   ]
  },
  {
   "cell_type": "code",
   "execution_count": 22,
   "id": "0d7b3861",
   "metadata": {},
   "outputs": [
    {
     "name": "stdout",
     "output_type": "stream",
     "text": [
      "(3182, 12) (1365, 12) (3182,) (1365,) (1950, 12) (1950,)\n"
     ]
    }
   ],
   "source": [
    "X = df.drop(['quality'], axis=1)\n",
    "y = df['quality']\n",
    "\n",
    "X_train, X_test, y_train, y_test = train_test_split(X, y, test_size = 0.3, random_state = 42)\n",
    "\n",
    "X_train, X_val, y_train, y_val = train_test_split(X_train, y_train, test_size = 0.3, random_state = 42)\n",
    "\n",
    "print(X_train.shape, X_val.shape, y_train.shape, y_val.shape, X_test.shape, y_test.shape)"
   ]
  },
  {
   "cell_type": "markdown",
   "id": "96b5af90",
   "metadata": {},
   "source": [
    "### 3.4.3 Важность признаков\n",
    "\n",
    "Отбор оптимальных признаков для модели имеет важное значение. Теперь мы попытаемся оценить, какие переменные являются наиболее важными, чтобы сделать прогноз."
   ]
  },
  {
   "cell_type": "code",
   "execution_count": 23,
   "id": "1dc28d4e",
   "metadata": {},
   "outputs": [
    {
     "name": "stdout",
     "output_type": "stream",
     "text": [
      "1.0\n"
     ]
    },
    {
     "data": {
      "image/png": "[encoded data removed]",
      "text/plain": [
       "<Figure size 432x288 with 1 Axes>"
      ]
     },
     "metadata": {
      "needs_background": "light"
     },
     "output_type": "display_data"
    }
   ],
   "source": [
    "# Наиболее важные признаки\n",
    "\n",
    "tree = DecisionTreeClassifier(random_state = 42)\n",
    "tree.fit(X, y)\n",
    "\n",
    "imp = pd.Series(tree.feature_importances_)\n",
    "imp.index = pd.Series(X.columns)\n",
    "\n",
    "plt.title('Feature importances')\n",
    "sns.barplot(x=imp.sort_values(ascending=False).head(10), y=imp.sort_values(ascending=False).head(10).index, color=\"b\")\n",
    "\n",
    "print (tree.score( X , y ))"
   ]
  },
  {
   "cell_type": "markdown",
   "id": "7d932257",
   "metadata": {},
   "source": [
    "## 4. Моделирование"
   ]
  },
  {
   "cell_type": "markdown",
   "id": "92e1078f",
   "metadata": {},
   "source": [
    "### 4.1 Выбор модели"
   ]
  },
  {
   "cell_type": "markdown",
   "id": "4893f47e",
   "metadata": {},
   "source": [
    "Хорошей отправной точкой является логистическая регрессия."
   ]
  },
  {
   "cell_type": "code",
   "execution_count": 24,
   "id": "c1a5a0e8",
   "metadata": {},
   "outputs": [],
   "source": [
    "# lr = LogisticRegression()\n",
    "lr = make_pipeline(StandardScaler(), LogisticRegression(max_iter=1000))"
   ]
  },
  {
   "cell_type": "markdown",
   "id": "23a03088",
   "metadata": {},
   "source": [
    "### 4.2 Обучение модели"
   ]
  },
  {
   "cell_type": "code",
   "execution_count": 25,
   "id": "e3d10852",
   "metadata": {},
   "outputs": [
    {
     "data": {
      "text/plain": [
       "Pipeline(steps=[('standardscaler', StandardScaler()),\n",
       "                ('logisticregression', LogisticRegression(max_iter=1000))])"
      ]
     },
     "execution_count": 25,
     "metadata": {},
     "output_type": "execute_result"
    }
   ],
   "source": [
    "lr.fit(X_train, y_train)"
   ]
  },
  {
   "cell_type": "markdown",
   "id": "5a0fcb3b",
   "metadata": {},
   "source": [
    "## 5. Оценка"
   ]
  },
  {
   "cell_type": "markdown",
   "id": "a1c36f93",
   "metadata": {},
   "source": [
    "### 5.1 Модель\n",
    "\n",
    "Мы можем оценить точность модели, используя набор для валидации, где мы знаем фактический результат. Этот набор данных не использовался для обучения, поэтому он абсолютно новый для модели.\n",
    "\n",
    "Затем мы сравниваем точность с точностью при использовании модели на тренировочных данных. Если разница между ними значительна, это свидетельствует о переобучении. Мы стараемся избегать этого, потому что это означает, что модель не будет хорошо обобщаться на новые данные (будет работать плохо)"
   ]
  },
  {
   "cell_type": "code",
   "execution_count": 26,
   "id": "111251e2",
   "metadata": {
    "scrolled": true
   },
   "outputs": [
    {
     "name": "stdout",
     "output_type": "stream",
     "text": [
      "Score on train data: 0.5499685732243872\n",
      "Score on test data: 0.5355311355311355\n"
     ]
    }
   ],
   "source": [
    "# Score the model\n",
    "print(f'Score on train data: {lr.score(X_train, y_train)}\\nScore on test data: {lr.score(X_val, y_val)}')\n"
   ]
  },
  {
   "cell_type": "code",
   "execution_count": 27,
   "id": "a36bf50c",
   "metadata": {
    "scrolled": true
   },
   "outputs": [
    {
     "name": "stdout",
     "output_type": "stream",
     "text": [
      "Score on validation: 0.5441025641025641\n"
     ]
    }
   ],
   "source": [
    "lr_score = lr.score(X_test, y_test)\n",
    "print(f'Score on validation: {lr.score(X_test, y_test)}')"
   ]
  },
  {
   "cell_type": "markdown",
   "id": "64057e0e",
   "metadata": {},
   "source": [
    "Оценка модели низкая. Используем другие модели."
   ]
  },
  {
   "cell_type": "markdown",
   "id": "a31d9572",
   "metadata": {},
   "source": [
    "### SVC"
   ]
  },
  {
   "cell_type": "code",
   "execution_count": 28,
   "id": "e87720e0",
   "metadata": {},
   "outputs": [
    {
     "name": "stdout",
     "output_type": "stream",
     "text": [
      "svc_score: 0.5646153846153846\n"
     ]
    }
   ],
   "source": [
    "# SVC\n",
    "svc = make_pipeline(StandardScaler(), SVC())\n",
    "svc.fit(X_train,y_train)\n",
    "svc_score = svc.score(X_test,y_test)\n",
    "print(f'svc_score: {svc_score}')"
   ]
  },
  {
   "cell_type": "markdown",
   "id": "11f04fc6",
   "metadata": {},
   "source": [
    "### RandomForestClassifier"
   ]
  },
  {
   "cell_type": "code",
   "execution_count": 29,
   "id": "98cbd27b",
   "metadata": {},
   "outputs": [
    {
     "name": "stdout",
     "output_type": "stream",
     "text": [
      "rf_score: 0.6451282051282051\n"
     ]
    }
   ],
   "source": [
    "# random forest\n",
    "rf = make_pipeline(StandardScaler(), RandomForestClassifier(n_estimators=100))\n",
    "rf.fit(X_train,y_train)\n",
    "rf_score = rf.score(X_test,y_test)\n",
    "print(f'rf_score: {rf_score}')"
   ]
  },
  {
   "cell_type": "markdown",
   "id": "57f03623",
   "metadata": {},
   "source": [
    "### DecisionTreeClassifier"
   ]
  },
  {
   "cell_type": "code",
   "execution_count": 30,
   "id": "5aa945a1",
   "metadata": {},
   "outputs": [
    {
     "name": "stdout",
     "output_type": "stream",
     "text": [
      "dt_score: 0.5615384615384615\n"
     ]
    }
   ],
   "source": [
    "# decision tree\n",
    "dt = make_pipeline(StandardScaler(), DecisionTreeClassifier())\n",
    "dt.fit(X_train,y_train)\n",
    "dt_score = dt.score(X_test,y_test)\n",
    "print(f'dt_score: {dt_score}')"
   ]
  },
  {
   "cell_type": "markdown",
   "id": "30527b2a",
   "metadata": {},
   "source": [
    "### KNN"
   ]
  },
  {
   "cell_type": "code",
   "execution_count": 31,
   "id": "44c7f787",
   "metadata": {},
   "outputs": [
    {
     "name": "stdout",
     "output_type": "stream",
     "text": [
      "knn_score: 0.5348717948717949\n"
     ]
    }
   ],
   "source": [
    "# knn\n",
    "knn = make_pipeline(StandardScaler(), KNeighborsClassifier(n_neighbors=5))\n",
    "knn.fit(X_train,y_train)\n",
    "knn_score = knn.score(X_test,y_test)\n",
    "print(f'knn_score: {knn_score}')"
   ]
  },
  {
   "cell_type": "code",
   "execution_count": 32,
   "id": "bcf93b61",
   "metadata": {},
   "outputs": [
    {
     "data": {
      "text/html": [
       "<div>\n",
       "<style scoped>\n",
       "    .dataframe tbody tr th:only-of-type {\n",
       "        vertical-align: middle;\n",
       "    }\n",
       "\n",
       "    .dataframe tbody tr th {\n",
       "        vertical-align: top;\n",
       "    }\n",
       "\n",
       "    .dataframe thead th {\n",
       "        text-align: right;\n",
       "    }\n",
       "</style>\n",
       "<table border=\"1\" class=\"dataframe\">\n",
       "  <thead>\n",
       "    <tr style=\"text-align: right;\">\n",
       "      <th></th>\n",
       "      <th>Model</th>\n",
       "      <th>Score</th>\n",
       "    </tr>\n",
       "  </thead>\n",
       "  <tbody>\n",
       "    <tr>\n",
       "      <th>2</th>\n",
       "      <td>RandomForestClassifier</td>\n",
       "      <td>0.645128</td>\n",
       "    </tr>\n",
       "    <tr>\n",
       "      <th>1</th>\n",
       "      <td>SVC</td>\n",
       "      <td>0.564615</td>\n",
       "    </tr>\n",
       "    <tr>\n",
       "      <th>3</th>\n",
       "      <td>DecisionTreeClassifier</td>\n",
       "      <td>0.561538</td>\n",
       "    </tr>\n",
       "    <tr>\n",
       "      <th>0</th>\n",
       "      <td>LogisticRegression</td>\n",
       "      <td>0.544103</td>\n",
       "    </tr>\n",
       "    <tr>\n",
       "      <th>4</th>\n",
       "      <td>KNN</td>\n",
       "      <td>0.534872</td>\n",
       "    </tr>\n",
       "  </tbody>\n",
       "</table>\n",
       "</div>"
      ],
      "text/plain": [
       "                    Model     Score\n",
       "2  RandomForestClassifier  0.645128\n",
       "1                     SVC  0.564615\n",
       "3  DecisionTreeClassifier  0.561538\n",
       "0      LogisticRegression  0.544103\n",
       "4                     KNN  0.534872"
      ]
     },
     "execution_count": 32,
     "metadata": {},
     "output_type": "execute_result"
    }
   ],
   "source": [
    "models_score = pd.DataFrame({\n",
    "    'Model': ['LogisticRegression', 'SVC', 'RandomForestClassifier', 'DecisionTreeClassifier', 'KNN'],\n",
    "    'Score': [lr_score, svc_score, rf_score, dt_score, knn_score]}).sort_values(by='Score', ascending=False)\n",
    "models_score"
   ]
  },
  {
   "cell_type": "markdown",
   "id": "59bfbecf",
   "metadata": {},
   "source": [
    "Лучшую оценку показала модель RandomForestClassifier (0.645641). "
   ]
  },
  {
   "cell_type": "code",
   "execution_count": 33,
   "id": "578a0703",
   "metadata": {
    "scrolled": false
   },
   "outputs": [],
   "source": [
    "y_pred = rf.predict(X_test)\n",
    "\n"
   ]
  },
  {
   "cell_type": "code",
   "execution_count": 34,
   "id": "f139ef1a",
   "metadata": {},
   "outputs": [
    {
     "name": "stdout",
     "output_type": "stream",
     "text": [
      "              precision    recall  f1-score   support\n",
      "\n",
      "           3       0.00      0.00      0.00         6\n",
      "           4       0.57      0.06      0.11        63\n",
      "           5       0.68      0.70      0.69       640\n",
      "           6       0.62      0.75      0.68       862\n",
      "           7       0.64      0.45      0.53       325\n",
      "           8       0.80      0.22      0.35        54\n",
      "\n",
      "    accuracy                           0.65      1950\n",
      "   macro avg       0.55      0.36      0.39      1950\n",
      "weighted avg       0.65      0.65      0.63      1950\n",
      "\n"
     ]
    }
   ],
   "source": [
    "from sklearn.metrics import classification_report\n",
    "print(classification_report(y_test, y_pred))"
   ]
  },
  {
   "cell_type": "markdown",
   "id": "4453629f",
   "metadata": {},
   "source": [
    "Precision - Способность алгоритма отличать данный класс от других классов.\n",
    "\n",
    "Recall - Способность алгоритма обнаруживать данный класс вообще.\n",
    "\n",
    "Т.к. классы несбалпнсированны, из classification_report видно, что 3-й класс не определяется моделью, 4-й плохо определяется. 8-й класс тоже сложно обнаруживается моделью. 9-й класс не определился. Лучше всех определяются классы 5, 6 и 7.\n",
    "\n",
    "Можно попробовать провести стратификацию данных."
   ]
  },
  {
   "cell_type": "markdown",
   "id": "d5f934cf",
   "metadata": {},
   "source": [
    "### Stratification"
   ]
  },
  {
   "cell_type": "code",
   "execution_count": 35,
   "id": "d32d3889",
   "metadata": {},
   "outputs": [
    {
     "name": "stdout",
     "output_type": "stream",
     "text": [
      "(3182, 12) (1365, 12) (3182,) (1365,) (1950, 12) (1950,)\n"
     ]
    }
   ],
   "source": [
    "X_train, X_test, y_train, y_test = train_test_split(X, y, test_size = 0.3, stratify=y, random_state = 42)\n",
    "\n",
    "X_train, X_val, y_train, y_val = train_test_split(X_train, y_train, test_size = 0.3, random_state = 42)\n",
    "\n",
    "print(X_train.shape, X_val.shape, y_train.shape, y_val.shape, X_test.shape, y_test.shape)"
   ]
  },
  {
   "cell_type": "code",
   "execution_count": 36,
   "id": "1f170471",
   "metadata": {},
   "outputs": [
    {
     "name": "stdout",
     "output_type": "stream",
     "text": [
      "rfs_score_train: 0.819610307982401\n",
      "rfs_score_val: 0.8175824175824176\n",
      "rfs_score_test: 0.8128205128205128\n"
     ]
    }
   ],
   "source": [
    "# random forest\n",
    "rfs = make_pipeline(StandardScaler(), RandomForestClassifier(n_estimators=100))\n",
    "rfs.fit(X_train,y_train)\n",
    "\n",
    "rfs_score_train = rf.score(X_train, y_train)\n",
    "rfs_score_val = rf.score(X_val, y_val)\n",
    "rfs_score_test = rf.score(X_test, y_test)\n",
    "\n",
    "print(f'rfs_score_train: {rfs_score_train}')\n",
    "print(f'rfs_score_val: {rfs_score_val}')\n",
    "print(f'rfs_score_test: {rfs_score_test}')\n"
   ]
  },
  {
   "cell_type": "code",
   "execution_count": 37,
   "id": "47fe44b2",
   "metadata": {},
   "outputs": [],
   "source": [
    "y_pred = rfs.predict(X_test)\n"
   ]
  },
  {
   "cell_type": "code",
   "execution_count": 38,
   "id": "b6f5090a",
   "metadata": {},
   "outputs": [
    {
     "name": "stdout",
     "output_type": "stream",
     "text": [
      "              precision    recall  f1-score   support\n",
      "\n",
      "           3       0.00      0.00      0.00         9\n",
      "           4       0.78      0.11      0.19        65\n",
      "           5       0.68      0.70      0.69       642\n",
      "           6       0.62      0.73      0.67       851\n",
      "           7       0.63      0.50      0.56       324\n",
      "           8       0.83      0.17      0.29        58\n",
      "           9       0.00      0.00      0.00         1\n",
      "\n",
      "    accuracy                           0.64      1950\n",
      "   macro avg       0.51      0.32      0.34      1950\n",
      "weighted avg       0.65      0.64      0.63      1950\n",
      "\n"
     ]
    }
   ],
   "source": [
    "print(classification_report(y_test, y_pred))"
   ]
  },
  {
   "cell_type": "markdown",
   "id": "ffd6216a",
   "metadata": {},
   "source": [
    "Точность модели с применением стратификации повысилась. Все классы попали в выборки. Но, по-прежнему, крайние классы не определяются."
   ]
  },
  {
   "cell_type": "code",
   "execution_count": null,
   "id": "40f80560",
   "metadata": {},
   "outputs": [],
   "source": []
  },
  {
   "cell_type": "markdown",
   "id": "d0d61b5a",
   "metadata": {},
   "source": [
    "## 6. Развертывание\n",
    "\n",
    "Развертывание в данном означает публикацию полученного прогноза в таблицу лидеров Kaggle."
   ]
  },
  {
   "cell_type": "code",
   "execution_count": 39,
   "id": "cfce69ef",
   "metadata": {},
   "outputs": [
    {
     "data": {
      "text/html": [
       "<div>\n",
       "<style scoped>\n",
       "    .dataframe tbody tr th:only-of-type {\n",
       "        vertical-align: middle;\n",
       "    }\n",
       "\n",
       "    .dataframe tbody tr th {\n",
       "        vertical-align: top;\n",
       "    }\n",
       "\n",
       "    .dataframe thead th {\n",
       "        text-align: right;\n",
       "    }\n",
       "</style>\n",
       "<table border=\"1\" class=\"dataframe\">\n",
       "  <thead>\n",
       "    <tr style=\"text-align: right;\">\n",
       "      <th></th>\n",
       "      <th>index</th>\n",
       "      <th>y_test</th>\n",
       "      <th>y_pred</th>\n",
       "    </tr>\n",
       "  </thead>\n",
       "  <tbody>\n",
       "    <tr>\n",
       "      <th>1998</th>\n",
       "      <td>1998</td>\n",
       "      <td>6</td>\n",
       "      <td>6</td>\n",
       "    </tr>\n",
       "    <tr>\n",
       "      <th>789</th>\n",
       "      <td>789</td>\n",
       "      <td>6</td>\n",
       "      <td>6</td>\n",
       "    </tr>\n",
       "    <tr>\n",
       "      <th>3941</th>\n",
       "      <td>3941</td>\n",
       "      <td>5</td>\n",
       "      <td>5</td>\n",
       "    </tr>\n",
       "    <tr>\n",
       "      <th>5998</th>\n",
       "      <td>5998</td>\n",
       "      <td>6</td>\n",
       "      <td>7</td>\n",
       "    </tr>\n",
       "    <tr>\n",
       "      <th>3511</th>\n",
       "      <td>3511</td>\n",
       "      <td>7</td>\n",
       "      <td>6</td>\n",
       "    </tr>\n",
       "  </tbody>\n",
       "</table>\n",
       "</div>"
      ],
      "text/plain": [
       "      index  y_test  y_pred\n",
       "1998   1998       6       6\n",
       "789     789       6       6\n",
       "3941   3941       5       5\n",
       "5998   5998       6       7\n",
       "3511   3511       7       6"
      ]
     },
     "execution_count": 39,
     "metadata": {},
     "output_type": "execute_result"
    }
   ],
   "source": [
    "index = X_test.index\n",
    "test = pd.DataFrame({'index': index, 'y_test': y_test, 'y_pred': y_pred})\n",
    "test.head()"
   ]
  }
 ],
 "metadata": {
  "kernelspec": {
   "display_name": "Python 3",
   "language": "python",
   "name": "python3"
  },
  "language_info": {
   "codemirror_mode": {
    "name": "ipython",
    "version": 3
   },
   "file_extension": ".py",
   "mimetype": "text/x-python",
   "name": "python",
   "nbconvert_exporter": "python",
   "pygments_lexer": "ipython3",
   "version": "3.8.8"
  },
  "toc": {
   "base_numbering": 1,
   "nav_menu": {},
   "number_sections": false,
   "sideBar": true,
   "skip_h1_title": false,
   "title_cell": "Table of Contents",
   "title_sidebar": "Contents",
   "toc_cell": true,
   "toc_position": {},
   "toc_section_display": true,
   "toc_window_display": true
  }
 },
 "nbformat": 4,
 "nbformat_minor": 5
}
