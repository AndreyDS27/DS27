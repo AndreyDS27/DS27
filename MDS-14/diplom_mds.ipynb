{
 "cells": [
  {
   "cell_type": "markdown",
   "metadata": {},
   "source": [
    "# Итоговая работа \n",
    "# по курсу \"Математика для Data Science\""
   ]
  },
  {
   "cell_type": "code",
   "execution_count": 1,
   "metadata": {},
   "outputs": [],
   "source": [
    "import matplotlib.pyplot as plt\n",
    "import numpy as np\n",
    "from sklearn.metrics import pairwise_distances\n",
    "from scipy.optimize import minimize\n",
    "import scipy.stats as sts"
   ]
  },
  {
   "cell_type": "markdown",
   "metadata": {},
   "source": [
    "## Задание 1\n",
    "Дана матрица рейтингов фильмов (строки - пользователи (10 человек), столбцы - фильмы (15 фильмов)):\n",
    "\n",
    "a) Необходимо найти наиболее похожего пользователя по косинусной метрике для каждого из (ответ: 10 пар вида (x, y), где y - наиболее похожий пользователь на пользователя x).\n",
    "\n",
    "b) Предположим, вы захотели сжать признаковые описания пользователя с 15 фильмов, до, скажем, 5-ти признаков, как вы это сделаете?"
   ]
  },
  {
   "cell_type": "markdown",
   "metadata": {},
   "source": [
    "#### Задание 1a"
   ]
  },
  {
   "cell_type": "code",
   "execution_count": 2,
   "metadata": {},
   "outputs": [],
   "source": [
    "raitings = np.array([[ 4,  4,  9,  4,  1,  6, 10,  7,  9,  6,  9,  2,  8,  6,  6],\n",
    "                     [ 9,  2,  5, 10,  7,  8, 10,  5,  6,  2,  1,  6,  8,  9,  7],\n",
    "                     [ 1,  6,  8,  8,  4,  9,  3,  8, 10,  5,  2,  6,  8,  1,  6],\n",
    "                     [ 6,  1,  9,  7,  7,  9,  2,  3,  5,  1,  6,  6,  3,  2,  7],\n",
    "                     [ 3,  7,  3,  5,  7,  9,  9,  6,  2,  9,  1,  2,  8, 10,  6],\n",
    "                     [ 8,  3,  7,  3,  8,  6,  1,  8,  8,  6,  1,  9,  4, 10,  1],\n",
    "                     [ 9,  8,  4,  8,  8, 10,  6,  1,  1,  2,  9,  5,  2,  7,  2],\n",
    "                     [ 4,  1,  6,  4,  3, 10,  4,  4,  2,  8,  7,  9,  3,  8,  3],\n",
    "                     [ 2,  7,  7,  6, 10,  6,  8,  9,  8,  6, 10,  1,  7, 10,  4],\n",
    "                     [ 5, 10,  8,  8,  9,  7,  2,  9,  9, 10,  8,  8,  8,  6, 10]])"
   ]
  },
  {
   "cell_type": "markdown",
   "metadata": {},
   "source": [
    "a) Необходимо найти наиболее похожего пользователя по косинусной метрике для каждого из (ответ: 10 пар вида (x, y), где y - наиболее похожий пользователь на пользователя x)."
   ]
  },
  {
   "cell_type": "code",
   "execution_count": 3,
   "metadata": {
    "scrolled": true
   },
   "outputs": [
    {
     "data": {
      "text/plain": [
       "array([[0.        , 0.17397081, 0.15078471, 0.21659884, 0.18082368,\n",
       "        0.25881452, 0.27264172, 0.19032478, 0.08934018, 0.13989224],\n",
       "       [0.17397081, 0.        , 0.18765675, 0.15364663, 0.12861948,\n",
       "        0.17286893, 0.17370316, 0.19973997, 0.17473692, 0.18031873],\n",
       "       [0.15078471, 0.18765675, 0.        , 0.15330626, 0.21605701,\n",
       "        0.20902015, 0.32383777, 0.23710448, 0.17887923, 0.08126949],\n",
       "       [0.21659884, 0.15364663, 0.15330626, 0.        , 0.30846591,\n",
       "        0.21334208, 0.16725789, 0.17065333, 0.2229334 , 0.1411313 ],\n",
       "       [0.18082368, 0.12861948, 0.21605701, 0.30846591, 0.        ,\n",
       "        0.2235566 , 0.21799532, 0.18763131, 0.12051523, 0.15425211],\n",
       "       [0.25881452, 0.17286893, 0.20902015, 0.21334208, 0.2235566 ,\n",
       "        0.        , 0.25988199, 0.15548315, 0.19377124, 0.14485092],\n",
       "       [0.27264172, 0.17370316, 0.32383777, 0.16725789, 0.21799532,\n",
       "        0.25988199, 0.        , 0.17330826, 0.18869956, 0.20845282],\n",
       "       [0.19032478, 0.19973997, 0.23710448, 0.17065333, 0.18763131,\n",
       "        0.15548315, 0.17330826, 0.        , 0.2018724 , 0.16317771],\n",
       "       [0.08934018, 0.17473692, 0.17887923, 0.2229334 , 0.12051523,\n",
       "        0.19377124, 0.18869956, 0.2018724 , 0.        , 0.09906203],\n",
       "       [0.13989224, 0.18031873, 0.08126949, 0.1411313 , 0.15425211,\n",
       "        0.14485092, 0.20845282, 0.16317771, 0.09906203, 0.        ]])"
      ]
     },
     "execution_count": 3,
     "metadata": {},
     "output_type": "execute_result"
    }
   ],
   "source": [
    "# матрица расстояний между векторами\n",
    "# sklearn.metrics.pairwise_distances вычисляет попарно расстояния между векторами\n",
    "# [https://scikit-learn.org/stable/modules/generated/sklearn.metrics.pairwise_distances.html]\n",
    "\n",
    "distance = pairwise_distances(raitings, metric='cosine')\n",
    "distance\n"
   ]
  },
  {
   "cell_type": "code",
   "execution_count": 4,
   "metadata": {},
   "outputs": [
    {
     "data": {
      "text/plain": [
       "[0.08934017664269545,\n",
       " 0.12861947760697723,\n",
       " 0.08126948526431932,\n",
       " 0.14113130412890507,\n",
       " 0.12051522839237483,\n",
       " 0.1448509235881108,\n",
       " 0.16725789294423699,\n",
       " 0.1554831487434658,\n",
       " 0.08934017664269545,\n",
       " 0.08126948526431932]"
      ]
     },
     "execution_count": 4,
     "metadata": {},
     "output_type": "execute_result"
    }
   ],
   "source": [
    "# мин расстояния для каждого i-го до j-го вектора\n",
    "result1 = [min(row[np.nonzero(row)]) for row in distance]\n",
    "result1\n"
   ]
  },
  {
   "cell_type": "code",
   "execution_count": 5,
   "metadata": {
    "scrolled": true
   },
   "outputs": [
    {
     "name": "stdout",
     "output_type": "stream",
     "text": [
      "0 8\n",
      "1 4\n",
      "2 9\n",
      "3 9\n",
      "4 8\n",
      "5 9\n",
      "6 3\n",
      "7 5\n",
      "8 0\n",
      "9 2\n"
     ]
    }
   ],
   "source": [
    "# определение индексов пар наиболее похожих векторов \n",
    "for i, vector in enumerate(pairwise_distances(raitings, metric=\"cosine\")):\n",
    "    print(i, list(vector).index(np.min(vector[np.nonzero(vector)])))"
   ]
  },
  {
   "cell_type": "code",
   "execution_count": null,
   "metadata": {},
   "outputs": [],
   "source": []
  },
  {
   "cell_type": "markdown",
   "metadata": {},
   "source": [
    "#### Задание 1b"
   ]
  },
  {
   "cell_type": "code",
   "execution_count": 6,
   "metadata": {},
   "outputs": [],
   "source": [
    "\n",
    "# Импорт Анализ главных компонентов (PCA) из sklearn.decomposition\n",
    "from sklearn.decomposition import PCA\n",
    "\n",
    "# импорт Среднеквадратичная ошибка регрессии из sklearn.metrics\n",
    "from sklearn.metrics import mean_squared_error\n"
   ]
  },
  {
   "cell_type": "code",
   "execution_count": 7,
   "metadata": {},
   "outputs": [
    {
     "name": "stdout",
     "output_type": "stream",
     "text": [
      "Исходный вектор: [[ 4  4  9  4  1  6 10  7  9  6  9  2  8  6  6]\n",
      " [ 9  2  5 10  7  8 10  5  6  2  1  6  8  9  7]\n",
      " [ 1  6  8  8  4  9  3  8 10  5  2  6  8  1  6]\n",
      " [ 6  1  9  7  7  9  2  3  5  1  6  6  3  2  7]\n",
      " [ 3  7  3  5  7  9  9  6  2  9  1  2  8 10  6]\n",
      " [ 8  3  7  3  8  6  1  8  8  6  1  9  4 10  1]\n",
      " [ 9  8  4  8  8 10  6  1  1  2  9  5  2  7  2]\n",
      " [ 4  1  6  4  3 10  4  4  2  8  7  9  3  8  3]\n",
      " [ 2  7  7  6 10  6  8  9  8  6 10  1  7 10  4]\n",
      " [ 5 10  8  8  9  7  2  9  9 10  8  8  8  6 10]]\n",
      "Уменьшенная размерность: [[-5.30986101  1.92919845 -4.93300027  2.70188013  5.50497886]\n",
      " [ 2.87763403  2.71659559  1.40592782  7.26325751 -4.50322291]\n",
      " [-4.94010408 -6.68861167 -0.94550184  3.61556661 -0.68969272]\n",
      " [ 5.14939908 -6.28027284 -4.65978558  1.09024004 -1.01471112]\n",
      " [-1.37488691  7.54357985  4.00834369  2.1284001  -0.16324949]\n",
      " [ 2.65341956 -3.77075601  8.58430748 -1.46628319  1.67401769]\n",
      " [ 8.61573944  3.78603335 -4.02721027 -4.37582577 -3.13880277]\n",
      " [ 5.39658258 -1.0170466   1.01456742 -1.89512837  6.54883538]\n",
      " [-5.7843488   5.29857107 -1.48083611 -3.71295542  0.21312695]\n",
      " [-7.2835739  -3.51729118  1.03318766 -5.34915166 -4.43127987]]\n",
      "Восстановленная размерность: [[ 1.2713466   3.66929429  8.35533805  4.64369476  1.79511984  7.27906297\n",
      "   9.45356511  7.01655415  7.78461261  6.29814277  8.43027428  1.67837018\n",
      "   7.89228549  5.45763733  5.95151941]\n",
      " [ 7.53605189  3.41414275  4.43971325  9.20015737  6.99666333  8.77754015\n",
      "   9.12804918  4.52818336  4.87902514  2.23442732 -0.51011256  4.55094941\n",
      "   7.7114987   7.51265934  6.59070107]\n",
      " [ 3.39964951  3.97299823  9.32966715  7.42399391  4.69196275  7.43824801\n",
      "   3.52765326  8.1399885  10.63557207  5.0218547   3.36558945  6.43949662\n",
      "   8.09170516  2.50854146  8.09680645]\n",
      " [ 6.64195784  2.43652674  8.28046315  8.02355022  5.16047344  9.46865286\n",
      "   2.62484677  2.98636192  5.65024453  1.27650795  6.26004426  7.50362367\n",
      "   3.41229296  1.90027514  5.74418711]\n",
      " [ 5.15158638  5.73004246  3.88061769  5.70006536  7.27463239  7.39000151\n",
      "  10.09210812  7.01253378  4.65918477  7.27872702  2.64112901  3.00006568\n",
      "   8.06521162 11.83154934  4.58187136]\n",
      " [ 6.28152503  3.15812684  6.07998723  3.84218147  7.31973416  7.71083024\n",
      "   0.77782592  7.37600035  5.91657148  8.01630199  0.76772535 10.05149085\n",
      "   4.39451106  9.38370112  2.71598927]\n",
      " [ 8.65513072  6.21560045  4.50997999  8.03676981  9.1855599   9.80441631\n",
      "   5.9509829   1.12807901  0.54471309  2.20244973  9.5573612   5.01509166\n",
      "   1.96573276  7.69989983  3.49979436]\n",
      " [ 5.1848646   1.36521296  6.76584896  2.63690528  3.75428287  8.5569948\n",
      "   3.79288217  4.35261112  3.46950381  6.18570585  6.55831652  7.21408668\n",
      "   2.46607253  7.96390312  1.41189521]\n",
      " [ 2.98614212  8.89797064  6.27626974  5.78348812  7.62332139  6.88550166\n",
      "   8.06255146  7.87505864  6.54011501  8.30896676  9.59035572  2.12219986\n",
      "   7.54209629  9.01295312  5.71659622]\n",
      " [ 3.8917453  10.14008464  8.0821148   7.70919369 10.19824993  6.68875147\n",
      "   1.58953511  9.58462916  9.92045749  8.17691591  7.33931676  6.42462539\n",
      "   7.45859344  5.7288802   7.69063953]]\n",
      "Среднеквадратичная ошибка: 1.2455442696728185\n"
     ]
    }
   ],
   "source": [
    "# Уменьшение размерности raitings с 15 до 5 (mse - Среднеквадратичная ошибка регрессии)\n",
    "\n",
    "n = 5\n",
    "\n",
    "pca = PCA(n_components=n,\n",
    "      copy = True,\n",
    "      whiten = False, \n",
    "      svd_solver = 'auto', \n",
    "      tol = 0.0, \n",
    "      iterated_power = 'auto',\n",
    "      random_state = 42)\n",
    "raitings_reduced = pca.fit_transform(raitings)              # Уменьшение размерности raitings\n",
    "raitings_inverse = pca.inverse_transform(raitings_reduced)  # Преобразование данных обратно в исходное пространство\n",
    "mse = mean_squared_error(raitings, raitings_inverse)  # Среднеквадратичная ошибка регрессии\n",
    "print(f'Исходный вектор: {raitings}')\n",
    "print(f'Уменьшенная размерность: {raitings_reduced}')\n",
    "print(f'Восстановленная размерность: {raitings_inverse}')\n",
    "print(f'Среднеквадратичная ошибка: {mse}')\n"
   ]
  },
  {
   "cell_type": "markdown",
   "metadata": {},
   "source": [
    "При n=5 Среднеквадратичная ошибка = 1.2455442696728185, что достаточно высоко, например, увеличение числа компонент до n=7 снизит ошибку до 0.1033."
   ]
  },
  {
   "cell_type": "code",
   "execution_count": null,
   "metadata": {},
   "outputs": [],
   "source": []
  },
  {
   "cell_type": "markdown",
   "metadata": {},
   "source": [
    "## Задание 2¶\n",
    "Вычислите производную $tg^2(sin(x) + cos(2x+3))$ в точке $x_0=1$ (на python и на бумаге)."
   ]
  },
  {
   "cell_type": "code",
   "execution_count": 8,
   "metadata": {},
   "outputs": [],
   "source": [
    "# Импорт derivative из scipy.misc для расчета производной\n",
    "from scipy.misc import derivative\n",
    "\n",
    "# Импорт библиотеки sympy для выполнения символьных вычислений\n",
    "from sympy import *\n",
    "x = symbols('x')"
   ]
  },
  {
   "cell_type": "markdown",
   "metadata": {},
   "source": [
    "Формула 1-й производной c sympy.diff()"
   ]
  },
  {
   "cell_type": "code",
   "execution_count": 9,
   "metadata": {},
   "outputs": [
    {
     "data": {
      "text/latex": [
       "$\\displaystyle 2 \\left(- 2 \\sin{\\left(2 x + 3 \\right)} + \\cos{\\left(x \\right)}\\right) \\left(\\tan^{2}{\\left(\\sin{\\left(x \\right)} + \\cos{\\left(2 x + 3 \\right)} \\right)} + 1\\right) \\tan{\\left(\\sin{\\left(x \\right)} + \\cos{\\left(2 x + 3 \\right)} \\right)}$"
      ],
      "text/plain": [
       "2*(-2*sin(2*x + 3) + cos(x))*(tan(sin(x) + cos(2*x + 3))**2 + 1)*tan(sin(x) + cos(2*x + 3))"
      ]
     },
     "execution_count": 9,
     "metadata": {},
     "output_type": "execute_result"
    }
   ],
   "source": [
    "# Формула 1-й производной c sympy.diff()\n",
    "dif_1 = diff(tan(sin(x)+cos(2*x+3))**2, x)\n",
    "dif_1"
   ]
  },
  {
   "cell_type": "markdown",
   "metadata": {},
   "source": [
    "Использование scipy.misc derivative для нахождения производной"
   ]
  },
  {
   "cell_type": "code",
   "execution_count": 10,
   "metadata": {},
   "outputs": [],
   "source": [
    "# Использование scipy.misc derivative для нахождения производной\n",
    "'''Отдает функцию, производную которой нужно найти'''\n",
    "def f(x):\n",
    "    return tan(sin(x)+cos(2*x+3))**2\n"
   ]
  },
  {
   "cell_type": "code",
   "execution_count": 11,
   "metadata": {},
   "outputs": [
    {
     "data": {
      "text/latex": [
       "$\\displaystyle - 0.5 \\tan^{2}{\\left(\\sin{\\left(x - 1.0 \\right)} + \\cos{\\left(2 x + 1.0 \\right)} \\right)} + 0.5 \\tan^{2}{\\left(\\sin{\\left(x + 1.0 \\right)} + \\cos{\\left(2 x + 5.0 \\right)} \\right)}$"
      ],
      "text/plain": [
       "-0.5*tan(sin(x - 1.0) + cos(2*x + 1.0))**2 + 0.5*tan(sin(x + 1.0) + cos(2*x + 5.0))**2"
      ]
     },
     "execution_count": 11,
     "metadata": {},
     "output_type": "execute_result"
    }
   ],
   "source": [
    "# Формула 1-й производной\n",
    "derivative(f, x, n=1)"
   ]
  },
  {
   "cell_type": "code",
   "execution_count": 12,
   "metadata": {},
   "outputs": [
    {
     "data": {
      "text/latex": [
       "$\\displaystyle 55.3859176433136$"
      ],
      "text/plain": [
       "55.3859176433136"
      ]
     },
     "execution_count": 12,
     "metadata": {},
     "output_type": "execute_result"
    }
   ],
   "source": [
    "# Значение 1-й производной в x = 1.0\n",
    "x1 = 1.0\n",
    "derivative(f, x1, n=1, dx=1e-6)"
   ]
  },
  {
   "cell_type": "code",
   "execution_count": null,
   "metadata": {},
   "outputs": [],
   "source": []
  },
  {
   "cell_type": "markdown",
   "metadata": {},
   "source": [
    "## Задание 3\n",
    "Дана функция с неизвестными параметрами a и b, вам также известны значения функции fx в точках x. Найдите оптимальные параметры a, b, минимизирующие абсолютную ошибку error."
   ]
  },
  {
   "cell_type": "code",
   "execution_count": 13,
   "metadata": {},
   "outputs": [],
   "source": [
    "def f(x, a, b):\n",
    "    return np.e**a * np.sin(b*x) + x"
   ]
  },
  {
   "cell_type": "code",
   "execution_count": 14,
   "metadata": {},
   "outputs": [],
   "source": [
    "x = np.array([0.        , 0.26315789, 0.52631579, 0.78947368, 1.05263158,\n",
    "              1.31578947, 1.57894737, 1.84210526, 2.10526316, 2.36842105,\n",
    "              2.63157895, 2.89473684, 3.15789474, 3.42105263, 3.68421053,\n",
    "              3.94736842, 4.21052632, 4.47368421, 4.73684211, 5.        ])"
   ]
  },
  {
   "cell_type": "code",
   "execution_count": 15,
   "metadata": {},
   "outputs": [],
   "source": [
    "fx = np.array([  0.        , -12.01819092, -18.90968634, -17.68786571,\n",
    "                -8.7529108 ,   4.27524517,  16.06801336,  21.81250213,\n",
    "                19.22059845,   9.48411207,  -3.22273056, -13.48576488,\n",
    "               -16.91096359, -11.95866834,  -0.58630088,  12.56873816,\n",
    "                22.12489421,  24.20292139,  18.04522521,   6.33211092])"
   ]
  },
  {
   "cell_type": "code",
   "execution_count": 16,
   "metadata": {},
   "outputs": [
    {
     "data": {
      "image/png": "[encoded data removed]",
      "text/plain": [
       "<Figure size 432x288 with 1 Axes>"
      ]
     },
     "metadata": {
      "needs_background": "light"
     },
     "output_type": "display_data"
    }
   ],
   "source": [
    "plt.plot(x, fx)\n",
    "plt.show()"
   ]
  },
  {
   "cell_type": "code",
   "execution_count": 17,
   "metadata": {},
   "outputs": [],
   "source": [
    "def error(params):\n",
    "    return np.sum(np.abs(fx - f(x, params[0], params[1])))"
   ]
  },
  {
   "cell_type": "code",
   "execution_count": 18,
   "metadata": {
    "scrolled": false
   },
   "outputs": [
    {
     "data": {
      "text/plain": [
       "     fun: 0.07674566111565184\n",
       "   maxcv: 0.0\n",
       " message: 'Optimization terminated successfully.'\n",
       "    nfev: 135\n",
       "  status: 1\n",
       " success: True\n",
       "       x: array([ 3.00018796, -2.50008926])"
      ]
     },
     "execution_count": 18,
     "metadata": {},
     "output_type": "execute_result"
    }
   ],
   "source": [
    "# нахождение минимума функции error и параметров a, b функции f(x, a, b) с помощью scipy.optimize.minimize(method='COBYLA')\n",
    "# начальные параметры - params = [0, 0]\n",
    "result = minimize(error, [0, 0], method='COBYLA')\n",
    "result"
   ]
  },
  {
   "cell_type": "code",
   "execution_count": 19,
   "metadata": {
    "scrolled": true
   },
   "outputs": [
    {
     "data": {
      "text/plain": [
       "(3.0001879620826215, -2.500089262452252)"
      ]
     },
     "execution_count": 19,
     "metadata": {},
     "output_type": "execute_result"
    }
   ],
   "source": [
    "# параметры a, b\n",
    "a = result.x[0]\n",
    "b = result.x[1]\n",
    "a,b"
   ]
  },
  {
   "cell_type": "markdown",
   "metadata": {},
   "source": [
    "## Задание 4¶\n",
    "Создайте собственную дискретную случайную величину с 20 значениями. Сгенерируйте 1000 выборок размера 50. Посчитайте среднее для каждой выборки. Постройте гистограмму распределения средних."
   ]
  },
  {
   "cell_type": "code",
   "execution_count": 20,
   "metadata": {},
   "outputs": [],
   "source": [
    "# генерация дискретной случайной величины\n",
    "\n",
    "samples_count = 1000\n",
    "size = 50\n",
    "\n",
    "rv = np.random.randint(1,21,(samples_count, size))\n"
   ]
  },
  {
   "cell_type": "code",
   "execution_count": 21,
   "metadata": {},
   "outputs": [
    {
     "data": {
      "text/plain": [
       "Text(0.5, 0, '$x$')"
      ]
     },
     "execution_count": 21,
     "metadata": {},
     "output_type": "execute_result"
    },
    {
     "data": {
      "image/png": "[encoded data removed]",
      "text/plain": [
       "<Figure size 432x288 with 1 Axes>"
      ]
     },
     "metadata": {
      "needs_background": "light"
     },
     "output_type": "display_data"
    }
   ],
   "source": [
    "# Массивы для сохранения средних по выборкам\n",
    "a1 = np.array([])\n",
    "\n",
    "for n in range(samples_count):\n",
    "        # На каждом цикле генерируем выборки разных размеров\n",
    "#         sample1 = rv.rvs(size=n1)\n",
    "        # Считаем среднее по каждой выборке и добавляем в массив средних\n",
    "        a1 = np.append(a1, rv[n].mean())\n",
    "# Строим графики\n",
    "label_1 = 'sample of ' + str(samples_count) + ' histogram' # Подписи для графиков\n",
    "plt.hist(a1, density=True, label=label_1)\n",
    "plt.legend()\n",
    "plt.ylabel('samples means')\n",
    "plt.xlabel('$x$')\n"
   ]
  },
  {
   "cell_type": "code",
   "execution_count": null,
   "metadata": {},
   "outputs": [],
   "source": []
  },
  {
   "cell_type": "markdown",
   "metadata": {},
   "source": [
    "## Задание 5¶\n",
    "Найдите собственные значения и собственные вектора матрицы (на python и на бумаге)."
   ]
  },
  {
   "cell_type": "code",
   "execution_count": 22,
   "metadata": {},
   "outputs": [
    {
     "name": "stdout",
     "output_type": "stream",
     "text": [
      "[[1 4]\n",
      " [1 1]]\n"
     ]
    }
   ],
   "source": [
    "m = np.array([[1, 4],\n",
    "              [1, 1]])\n",
    "print(m)"
   ]
  },
  {
   "cell_type": "code",
   "execution_count": 23,
   "metadata": {},
   "outputs": [],
   "source": [
    "# расчет собственных значений и собственных векторов матрицы\n",
    "w,v = np.linalg.eig(m)\n"
   ]
  },
  {
   "cell_type": "code",
   "execution_count": 24,
   "metadata": {},
   "outputs": [
    {
     "data": {
      "text/plain": [
       "array([ 3., -1.])"
      ]
     },
     "execution_count": 24,
     "metadata": {},
     "output_type": "execute_result"
    }
   ],
   "source": [
    "# собственные значения\n",
    "w\n"
   ]
  },
  {
   "cell_type": "code",
   "execution_count": 25,
   "metadata": {},
   "outputs": [
    {
     "data": {
      "text/plain": [
       "array([[ 0.89442719, -0.89442719],\n",
       "       [ 0.4472136 ,  0.4472136 ]])"
      ]
     },
     "execution_count": 25,
     "metadata": {},
     "output_type": "execute_result"
    }
   ],
   "source": [
    "# собственные векторы\n",
    "v\n"
   ]
  },
  {
   "cell_type": "markdown",
   "metadata": {},
   "source": [
    "Проверка: $np.dot(m, v) = w*v$"
   ]
  },
  {
   "cell_type": "code",
   "execution_count": 26,
   "metadata": {
    "scrolled": true
   },
   "outputs": [
    {
     "data": {
      "text/plain": [
       "array([[ 2.68328157,  0.89442719],\n",
       "       [ 1.34164079, -0.4472136 ]])"
      ]
     },
     "execution_count": 26,
     "metadata": {},
     "output_type": "execute_result"
    }
   ],
   "source": [
    "np.dot(m, v)"
   ]
  },
  {
   "cell_type": "code",
   "execution_count": 27,
   "metadata": {},
   "outputs": [
    {
     "data": {
      "text/plain": [
       "array([[ 2.68328157,  0.89442719],\n",
       "       [ 1.34164079, -0.4472136 ]])"
      ]
     },
     "execution_count": 27,
     "metadata": {},
     "output_type": "execute_result"
    }
   ],
   "source": [
    " w*v"
   ]
  },
  {
   "cell_type": "code",
   "execution_count": null,
   "metadata": {},
   "outputs": [],
   "source": []
  }
 ],
 "metadata": {
  "kernelspec": {
   "display_name": "Python 3",
   "language": "python",
   "name": "python3"
  },
  "language_info": {
   "codemirror_mode": {
    "name": "ipython",
    "version": 3
   },
   "file_extension": ".py",
   "mimetype": "text/x-python",
   "name": "python",
   "nbconvert_exporter": "python",
   "pygments_lexer": "ipython3",
   "version": "3.8.5"
  }
 },
 "nbformat": 4,
 "nbformat_minor": 4
}
