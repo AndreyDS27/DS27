{
 "cells": [
  {
   "cell_type": "markdown",
   "metadata": {},
   "source": [
    "# Домашнее задание \"Теория вероятности. Дискретные Случайные Величины\""
   ]
  },
  {
   "cell_type": "markdown",
   "metadata": {},
   "source": [
    "## Уровень 0:\n",
    "### Задание 1:\n",
    "Монетку подбрасывают 15 раз, найдите вероятность выпадения простого числа орлов.\n",
    "\n"
   ]
  },
  {
   "cell_type": "markdown",
   "metadata": {},
   "source": [
    "Для решения используем формулу Бернулли\n",
    "\n",
    "$ Pn(k) = C_n^k*p^k*(1-p)^{n-k}$,\n",
    "\n",
    "где $ C_n^k = \\frac {n!} {k!*(n-k)!}$"
   ]
  },
  {
   "cell_type": "code",
   "execution_count": 12,
   "metadata": {
    "scrolled": true
   },
   "outputs": [
    {
     "name": "stdout",
     "output_type": "stream",
     "text": [
      "Вероятность P(2) = 0.003204345703125\n",
      "Вероятность P(3) = 0.013885498046875\n",
      "Вероятность P(5) = 0.091644287109375\n",
      "Вероятность P(7) = 0.196380615234375\n",
      "Вероятность P(11) = 0.041656494140625\n",
      "Вероятность P(13) = 0.003204345703125\n",
      "__________________________________\n",
      "Вероятность P(k) = 0.3499755859375\n"
     ]
    }
   ],
   "source": [
    "from math import factorial\n",
    "\n",
    "m = [2, 3, 5, 7, 11, 13] # количество выпадений орла\n",
    "n = 15 # количество бросаний монеты\n",
    "p = 1/2 # вероятность выпадения орла при одном броске\n",
    "\n",
    "P = 0\n",
    "for k in m:\n",
    "    C = factorial(n)/(factorial(k)*factorial(n-k))\n",
    "    Pk = C*p**k*(1-p)**(n-k)\n",
    "    P += Pk\n",
    "    print(f'Вероятность P({k}) = {Pk}')\n",
    "print('__________________________________')\n",
    "print(f'Вероятность P(k) = {P}')"
   ]
  },
  {
   "cell_type": "markdown",
   "metadata": {},
   "source": [
    "### Задание 2:\n",
    "Создайте свою дискретную случайную величину с не менее, чем 10 значениями. Просемплируйте 1000 случайных значений, постройте гистограмму плотности распределения по выборке, посчитайте среднее, дисперсию и медиану."
   ]
  },
  {
   "cell_type": "code",
   "execution_count": 2,
   "metadata": {},
   "outputs": [],
   "source": [
    "import numpy as np\n",
    "import pandas as pd\n",
    "import matplotlib.pyplot as plt\n",
    "\n",
    "\n",
    "# генерация дискретной случайной величины\n",
    "x = np.random.randint(1,11,1000)\n"
   ]
  },
  {
   "cell_type": "code",
   "execution_count": 3,
   "metadata": {
    "scrolled": false
   },
   "outputs": [
    {
     "data": {
      "text/plain": [
       "(array([ 89.,  95., 103., 111., 105.,  92., 102.,  88., 117.,  98.]),\n",
       " array([ 1. ,  1.9,  2.8,  3.7,  4.6,  5.5,  6.4,  7.3,  8.2,  9.1, 10. ]),\n",
       " <BarContainer object of 10 artists>)"
      ]
     },
     "execution_count": 3,
     "metadata": {},
     "output_type": "execute_result"
    },
    {
     "data": {
      "image/png": "[encoded data removed]",
      "text/plain": [
       "<Figure size 432x288 with 1 Axes>"
      ]
     },
     "metadata": {
      "needs_background": "light"
     },
     "output_type": "display_data"
    }
   ],
   "source": [
    "# построение гистограммы\n",
    "plt.hist(x, bins=10)"
   ]
  },
  {
   "cell_type": "code",
   "execution_count": 4,
   "metadata": {},
   "outputs": [
    {
     "data": {
      "text/plain": [
       "<AxesSubplot:ylabel='Frequency'>"
      ]
     },
     "execution_count": 4,
     "metadata": {},
     "output_type": "execute_result"
    },
    {
     "data": {
      "image/png": "[encoded data removed]",
      "text/plain": [
       "<Figure size 432x288 with 1 Axes>"
      ]
     },
     "metadata": {
      "needs_background": "light"
     },
     "output_type": "display_data"
    }
   ],
   "source": [
    "# построение гистограммы с DataFreme\n",
    "\n",
    "data = pd.DataFrame(x)\n",
    "\n",
    "data.plot(kind='hist', bins=10)"
   ]
  },
  {
   "cell_type": "code",
   "execution_count": 5,
   "metadata": {},
   "outputs": [
    {
     "data": {
      "text/html": [
       "<div>\n",
       "<style scoped>\n",
       "    .dataframe tbody tr th:only-of-type {\n",
       "        vertical-align: middle;\n",
       "    }\n",
       "\n",
       "    .dataframe tbody tr th {\n",
       "        vertical-align: top;\n",
       "    }\n",
       "\n",
       "    .dataframe thead th {\n",
       "        text-align: right;\n",
       "    }\n",
       "</style>\n",
       "<table border=\"1\" class=\"dataframe\">\n",
       "  <thead>\n",
       "    <tr style=\"text-align: right;\">\n",
       "      <th></th>\n",
       "      <th>0</th>\n",
       "    </tr>\n",
       "  </thead>\n",
       "  <tbody>\n",
       "    <tr>\n",
       "      <th>count</th>\n",
       "      <td>1000.000000</td>\n",
       "    </tr>\n",
       "    <tr>\n",
       "      <th>mean</th>\n",
       "      <td>5.560000</td>\n",
       "    </tr>\n",
       "    <tr>\n",
       "      <th>std</th>\n",
       "      <td>2.847896</td>\n",
       "    </tr>\n",
       "    <tr>\n",
       "      <th>min</th>\n",
       "      <td>1.000000</td>\n",
       "    </tr>\n",
       "    <tr>\n",
       "      <th>25%</th>\n",
       "      <td>3.000000</td>\n",
       "    </tr>\n",
       "    <tr>\n",
       "      <th>50%</th>\n",
       "      <td>5.000000</td>\n",
       "    </tr>\n",
       "    <tr>\n",
       "      <th>75%</th>\n",
       "      <td>8.000000</td>\n",
       "    </tr>\n",
       "    <tr>\n",
       "      <th>max</th>\n",
       "      <td>10.000000</td>\n",
       "    </tr>\n",
       "  </tbody>\n",
       "</table>\n",
       "</div>"
      ],
      "text/plain": [
       "                 0\n",
       "count  1000.000000\n",
       "mean      5.560000\n",
       "std       2.847896\n",
       "min       1.000000\n",
       "25%       3.000000\n",
       "50%       5.000000\n",
       "75%       8.000000\n",
       "max      10.000000"
      ]
     },
     "execution_count": 5,
     "metadata": {},
     "output_type": "execute_result"
    }
   ],
   "source": [
    "# расчет стат показателей с DataFreme\n",
    "\n",
    "data.describe()"
   ]
  },
  {
   "cell_type": "code",
   "execution_count": 14,
   "metadata": {},
   "outputs": [
    {
     "name": "stdout",
     "output_type": "stream",
     "text": [
      "Среднее: 5.56\n",
      "Медиана: 5.0\n",
      "Медиана: 5.0\n",
      "Дисперсия: 8.1024\n"
     ]
    }
   ],
   "source": [
    "# расчет среднего\n",
    "\n",
    "print(f'Среднее: {x.mean()}')\n",
    "\n",
    "\n",
    "# расчет медианы вручную\n",
    "\n",
    "num_x = len(x) # Находим  количество значений\n",
    "sorted_x = sorted(x) # Сортируем в порядке возрастания\n",
    "# Ищем индекс среднего элемента\n",
    "# если количество элементов четное, то берем среднее двух элементов в середине\n",
    "middle = (num_x // 2)\n",
    "if num_x%2==0:\n",
    "    result = (sorted_x[middle-1] + sorted_x[middle])/2\n",
    "else:\n",
    "    result = sorted_x[middle]\n",
    "# Находим медиану\n",
    "print('Медиана:', result)\n",
    "\n",
    "\n",
    "# расчет медианы\n",
    "print(f'Медиана: {np.median(x)}')\n",
    "\n",
    "# расчет дисперсии\n",
    "print(f'Дисперсия: {np.var(x)}')"
   ]
  },
  {
   "cell_type": "code",
   "execution_count": null,
   "metadata": {},
   "outputs": [],
   "source": []
  }
 ],
 "metadata": {
  "kernelspec": {
   "display_name": "Python 3",
   "language": "python",
   "name": "python3"
  },
  "language_info": {
   "codemirror_mode": {
    "name": "ipython",
    "version": 3
   },
   "file_extension": ".py",
   "mimetype": "text/x-python",
   "name": "python",
   "nbconvert_exporter": "python",
   "pygments_lexer": "ipython3",
   "version": "3.8.5"
  }
 },
 "nbformat": 4,
 "nbformat_minor": 4
}
