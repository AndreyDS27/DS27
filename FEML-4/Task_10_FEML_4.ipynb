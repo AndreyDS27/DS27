{
 "cells": [
  {
   "cell_type": "markdown",
   "id": "bf2e66a4",
   "metadata": {
    "toc": true
   },
   "source": [
    "<h1>Table of Contents<span class=\"tocSkip\"></span></h1>\n",
    "<div class=\"toc\"><ul class=\"toc-item\"><li><span><a href=\"#Домашнее-задание-к-лекции-«Feature-Selection»\" data-toc-modified-id=\"Домашнее-задание-к-лекции-«Feature-Selection»-1\">Домашнее задание к лекции «Feature Selection»</a></span></li><li><span><a href=\"#Kobe-Bryant-shot-selection\" data-toc-modified-id=\"Kobe-Bryant-shot-selection-2\">Kobe Bryant shot selection</a></span><ul class=\"toc-item\"><li><ul class=\"toc-item\"><li><span><a href=\"#1.-Импорт-библиотек\" data-toc-modified-id=\"1.-Импорт-библиотек-2.0.1\">1. Импорт библиотек</a></span></li><li><span><a href=\"#2.-Загрузка-данных\" data-toc-modified-id=\"2.-Загрузка-данных-2.0.2\">2. Загрузка данных</a></span></li><li><span><a href=\"#3.-Удаление-признаков,-не-несущих-информации.\" data-toc-modified-id=\"3.-Удаление-признаков,-не-несущих-информации.-2.0.3\">3. Удаление признаков, не несущих информации.</a></span></li><li><span><a href=\"#4.-Заменим-признак-'game_date'-на-'game_year'-и-'game_month'\" data-toc-modified-id=\"4.-Заменим-признак-'game_date'-на-'game_year'-и-'game_month'-2.0.4\">4. Заменим признак 'game_date' на 'game_year' и 'game_month'</a></span></li><li><span><a href=\"#5.-Кодирование-категориальных-признаков\" data-toc-modified-id=\"5.-Кодирование-категориальных-признаков-2.0.5\">5. Кодирование категориальных признаков</a></span></li><li><span><a href=\"#6.-Подготовка-данных\" data-toc-modified-id=\"6.-Подготовка-данных-2.0.6\">6. Подготовка данных</a></span></li><li><span><a href=\"#7.-Модель-классификации-(RandomForestClassifier)\" data-toc-modified-id=\"7.-Модель-классификации-(RandomForestClassifier)-2.0.7\">7. Модель классификации (RandomForestClassifier)</a></span></li><li><span><a href=\"#7.-Feature-Selection\" data-toc-modified-id=\"7.-Feature-Selection-2.0.8\">7. Feature Selection</a></span><ul class=\"toc-item\"><li><span><a href=\"#7.1-Важность-признаков-на-основе-модели-ExtraTreesClassifier.\" data-toc-modified-id=\"7.1-Важность-признаков-на-основе-модели-ExtraTreesClassifier.-2.0.8.1\">7.1 Важность признаков на основе модели ExtraTreesClassifier.</a></span></li><li><span><a href=\"#7.2-Выбор-признаков-на-основе-SequentialFeatureSelector\" data-toc-modified-id=\"7.2-Выбор-признаков-на-основе-SequentialFeatureSelector-2.0.8.2\">7.2 Выбор признаков на основе SequentialFeatureSelector</a></span></li></ul></li></ul></li><li><span><a href=\"#??????????????????Очень-долго-выполняется---процес-прерван,-не-завершился-?????????????????????????????????????????\" data-toc-modified-id=\"??????????????????Очень-долго-выполняется---процес-прерван,-не-завершился-?????????????????????????????????????????-2.1\">??????????????????Очень долго выполняется - процес прерван, не завершился ?????????????????????????????????????????</a></span><ul class=\"toc-item\"><li><ul class=\"toc-item\"><li><span><a href=\"#7.3-Выбор-признаков-на-основе-RFE-(Recursive-Feature-Elimination---Рекурсивное-исключение-признаков)\" data-toc-modified-id=\"7.3-Выбор-признаков-на-основе-RFE-(Recursive-Feature-Elimination---Рекурсивное-исключение-признаков)-2.1.0.1\">7.3 Выбор признаков на основе RFE (Recursive Feature Elimination - Рекурсивное исключение признаков)</a></span></li></ul></li></ul></li><li><span><a href=\"#??????????????Очень-долго-выполняется---процес-прерван,-не-завершился?????????????\" data-toc-modified-id=\"??????????????Очень-долго-выполняется---процес-прерван,-не-завершился?????????????-2.2\">??????????????Очень долго выполняется - процес прерван, не завершился?????????????</a></span><ul class=\"toc-item\"><li><ul class=\"toc-item\"><li><span><a href=\"#7.4-Сокращение-количества-признаков-с-помощью-PCA\" data-toc-modified-id=\"7.4-Сокращение-количества-признаков-с-помощью-PCA-2.2.0.1\">7.4 Сокращение количества признаков с помощью PCA</a></span></li><li><span><a href=\"#7.5-Сокращение-количества-признаков-с-помощью-LDA\" data-toc-modified-id=\"7.5-Сокращение-количества-признаков-с-помощью-LDA-2.2.0.2\">7.5 Сокращение количества признаков с помощью LDA</a></span></li></ul></li></ul></li><li><span><a href=\"#?????????????????????????????????\" data-toc-modified-id=\"?????????????????????????????????-2.3\">?????????????????????????????????</a></span><ul class=\"toc-item\"><li><span><a href=\"#8.-Сравнение-оценки-модели-RandomForestClassifier-с-признаками-из-модели-PCA\" data-toc-modified-id=\"8.-Сравнение-оценки-модели-RandomForestClassifier-с-признаками-из-модели-PCA-2.3.1\">8. Сравнение оценки модели RandomForestClassifier с признаками из модели PCA</a></span></li></ul></li><li><span><a href=\"#??????????????Как-получить-имена-оставшихся-признаков???????????????\" data-toc-modified-id=\"??????????????Как-получить-имена-оставшихся-признаков???????????????-2.4\">??????????????Как получить имена оставшихся признаков???????????????</a></span></li></ul></li></ul></div>"
   ]
  },
  {
   "cell_type": "markdown",
   "id": "e6e90937",
   "metadata": {},
   "source": [
    "# Домашнее задание к лекции «Feature Selection»"
   ]
  },
  {
   "cell_type": "markdown",
   "id": "d469a55d",
   "metadata": {},
   "source": [
    "# Kobe Bryant shot selection"
   ]
  },
  {
   "cell_type": "markdown",
   "id": "b69a604f",
   "metadata": {},
   "source": [
    "Cсылка на соревнование: https://www.kaggle.com/c/kobe-bryant-shot-selection\n",
    "\n",
    "Goal: Fun and education\n",
    "\n",
    "Using 20 years of data on Kobe's swishes and misses, can you predict which shots will find the bottom of the net? This competition is well suited for practicing classification basics, feature engineering, and time series analysis. Practice got Kobe an eight-figure contract and 5 championship rings. What will it get you?\n",
    "\n",
    "This data contains the location and circumstances of every field goal attempted by Kobe Bryant took during his 20-year career. Your task is to predict whether the basket went in (shot_made_flag).\n",
    "\n",
    "We have removed 5000 of the shot_made_flags (represented as missing values in the csv file). These are the test set shots for which you must submit a prediction. You are provided a sample submission file with the correct shot_ids needed for a valid prediction."
   ]
  },
  {
   "cell_type": "markdown",
   "id": "9c2e2ff3",
   "metadata": {},
   "source": [
    "Имена полей:\n",
    "\n",
    "- action_type\n",
    "- combined_shot_type\n",
    "- game_event_id\n",
    "- game_id\n",
    "- lat\n",
    "- loc_x\n",
    "- loc_y\n",
    "- lon\n",
    "- minutes_remaining\n",
    "- period\n",
    "- playoffs\n",
    "- season \n",
    "- seconds_remaining\n",
    "- shot_distance\n",
    "- shot_made_flag (this is what you are predicting)\n",
    "- shot_type\n",
    "- shot_zone_area\n",
    "- shot_zone_basic\n",
    "- shot_zone_range\n",
    "- team_id\n",
    "- team_name\n",
    "- game_date\n",
    "- matchup\n",
    "- opponent\n",
    "- shot_id"
   ]
  },
  {
   "cell_type": "markdown",
   "id": "957d85ec",
   "metadata": {},
   "source": [
    "**Задания:**\n",
    "\n",
    "1. Провести анализ данных. Много хороших примеров анализа можно посмотреть здесь https://www.kaggle.com/c/kobe-bryant-shot-selection/kernels\n",
    "2. Подготовить фичи для обучения модели - нагенерить признаков, обработать пропущенные значения, проверить на возможные выбросы, обработать категориальные признаки и др.\n",
    "3. Обучить линейную модель, Lasso, Ridge (с встроеной регуляризацией) на тех же признаках - построить сравнительную таблицу или график коэффициентов, сделать заключения о том, как меняется величина коэффициентов, какие зануляются. \n",
    "\n",
    "**Дополнительно**\n",
    "4. Сравнить результаты на тестовом наборе данных - сделать train_test_split в самом начале, подготовить переменные, сравнить результаты работы классификаторов (те же 3), метрика ROC AUC\n",
    "5. Построить PCA на подготовленных признаках, посмотреть, какие компоненты составляют наибольшую часть дисперсии целевой переменной"
   ]
  },
  {
   "cell_type": "markdown",
   "id": "266075b2",
   "metadata": {},
   "source": [
    "### 1. Импорт библиотек"
   ]
  },
  {
   "cell_type": "code",
   "execution_count": 1,
   "id": "4cacfc8f",
   "metadata": {},
   "outputs": [],
   "source": [
    "import pandas as pd\n",
    "import numpy as np\n",
    "\n",
    "import seaborn as sns\n",
    "import matplotlib.pyplot as plt\n",
    "\n",
    "from sklearn.model_selection import train_test_split\n",
    "from sklearn.preprocessing import StandardScaler\n",
    "\n",
    "from sklearn.ensemble import RandomForestClassifier\n",
    "from sklearn.neighbors import KNeighborsClassifier\n",
    "from sklearn.discriminant_analysis import LinearDiscriminantAnalysis\n",
    "from sklearn.linear_model import  Lasso # линейная модель с L1-регуляризацией\n",
    "\n",
    "from sklearn.neighbors import NeighborhoodComponentsAnalysis\n",
    "from sklearn.ensemble import ExtraTreesClassifier\n",
    "from sklearn.feature_selection import SequentialFeatureSelector\n",
    "from sklearn.feature_selection import RFE\n",
    "from sklearn.decomposition import PCA\n",
    "from sklearn.svm import SVC\n",
    "\n"
   ]
  },
  {
   "cell_type": "markdown",
   "id": "1da522ed",
   "metadata": {},
   "source": [
    "### 2. Загрузка данных"
   ]
  },
  {
   "cell_type": "code",
   "execution_count": 2,
   "id": "e29860be",
   "metadata": {},
   "outputs": [],
   "source": [
    "data = pd.read_csv('Kobe.csv')"
   ]
  },
  {
   "cell_type": "code",
   "execution_count": 3,
   "id": "268d55ca",
   "metadata": {},
   "outputs": [
    {
     "data": {
      "text/html": [
       "<div>\n",
       "<style scoped>\n",
       "    .dataframe tbody tr th:only-of-type {\n",
       "        vertical-align: middle;\n",
       "    }\n",
       "\n",
       "    .dataframe tbody tr th {\n",
       "        vertical-align: top;\n",
       "    }\n",
       "\n",
       "    .dataframe thead th {\n",
       "        text-align: right;\n",
       "    }\n",
       "</style>\n",
       "<table border=\"1\" class=\"dataframe\">\n",
       "  <thead>\n",
       "    <tr style=\"text-align: right;\">\n",
       "      <th></th>\n",
       "      <th>action_type</th>\n",
       "      <th>combined_shot_type</th>\n",
       "      <th>game_event_id</th>\n",
       "      <th>game_id</th>\n",
       "      <th>lat</th>\n",
       "      <th>loc_x</th>\n",
       "      <th>loc_y</th>\n",
       "      <th>lon</th>\n",
       "      <th>minutes_remaining</th>\n",
       "      <th>period</th>\n",
       "      <th>...</th>\n",
       "      <th>shot_type</th>\n",
       "      <th>shot_zone_area</th>\n",
       "      <th>shot_zone_basic</th>\n",
       "      <th>shot_zone_range</th>\n",
       "      <th>team_id</th>\n",
       "      <th>team_name</th>\n",
       "      <th>game_date</th>\n",
       "      <th>matchup</th>\n",
       "      <th>opponent</th>\n",
       "      <th>shot_id</th>\n",
       "    </tr>\n",
       "  </thead>\n",
       "  <tbody>\n",
       "    <tr>\n",
       "      <th>0</th>\n",
       "      <td>Jump Shot</td>\n",
       "      <td>Jump Shot</td>\n",
       "      <td>10</td>\n",
       "      <td>20000012</td>\n",
       "      <td>33.9723</td>\n",
       "      <td>167</td>\n",
       "      <td>72</td>\n",
       "      <td>-118.1028</td>\n",
       "      <td>10</td>\n",
       "      <td>1</td>\n",
       "      <td>...</td>\n",
       "      <td>2PT Field Goal</td>\n",
       "      <td>Right Side(R)</td>\n",
       "      <td>Mid-Range</td>\n",
       "      <td>16-24 ft.</td>\n",
       "      <td>1610612747</td>\n",
       "      <td>Los Angeles Lakers</td>\n",
       "      <td>2000-10-31</td>\n",
       "      <td>LAL @ POR</td>\n",
       "      <td>POR</td>\n",
       "      <td>1</td>\n",
       "    </tr>\n",
       "    <tr>\n",
       "      <th>1</th>\n",
       "      <td>Jump Shot</td>\n",
       "      <td>Jump Shot</td>\n",
       "      <td>12</td>\n",
       "      <td>20000012</td>\n",
       "      <td>34.0443</td>\n",
       "      <td>-157</td>\n",
       "      <td>0</td>\n",
       "      <td>-118.4268</td>\n",
       "      <td>10</td>\n",
       "      <td>1</td>\n",
       "      <td>...</td>\n",
       "      <td>2PT Field Goal</td>\n",
       "      <td>Left Side(L)</td>\n",
       "      <td>Mid-Range</td>\n",
       "      <td>8-16 ft.</td>\n",
       "      <td>1610612747</td>\n",
       "      <td>Los Angeles Lakers</td>\n",
       "      <td>2000-10-31</td>\n",
       "      <td>LAL @ POR</td>\n",
       "      <td>POR</td>\n",
       "      <td>2</td>\n",
       "    </tr>\n",
       "    <tr>\n",
       "      <th>2</th>\n",
       "      <td>Jump Shot</td>\n",
       "      <td>Jump Shot</td>\n",
       "      <td>35</td>\n",
       "      <td>20000012</td>\n",
       "      <td>33.9093</td>\n",
       "      <td>-101</td>\n",
       "      <td>135</td>\n",
       "      <td>-118.3708</td>\n",
       "      <td>7</td>\n",
       "      <td>1</td>\n",
       "      <td>...</td>\n",
       "      <td>2PT Field Goal</td>\n",
       "      <td>Left Side Center(LC)</td>\n",
       "      <td>Mid-Range</td>\n",
       "      <td>16-24 ft.</td>\n",
       "      <td>1610612747</td>\n",
       "      <td>Los Angeles Lakers</td>\n",
       "      <td>2000-10-31</td>\n",
       "      <td>LAL @ POR</td>\n",
       "      <td>POR</td>\n",
       "      <td>3</td>\n",
       "    </tr>\n",
       "    <tr>\n",
       "      <th>3</th>\n",
       "      <td>Jump Shot</td>\n",
       "      <td>Jump Shot</td>\n",
       "      <td>43</td>\n",
       "      <td>20000012</td>\n",
       "      <td>33.8693</td>\n",
       "      <td>138</td>\n",
       "      <td>175</td>\n",
       "      <td>-118.1318</td>\n",
       "      <td>6</td>\n",
       "      <td>1</td>\n",
       "      <td>...</td>\n",
       "      <td>2PT Field Goal</td>\n",
       "      <td>Right Side Center(RC)</td>\n",
       "      <td>Mid-Range</td>\n",
       "      <td>16-24 ft.</td>\n",
       "      <td>1610612747</td>\n",
       "      <td>Los Angeles Lakers</td>\n",
       "      <td>2000-10-31</td>\n",
       "      <td>LAL @ POR</td>\n",
       "      <td>POR</td>\n",
       "      <td>4</td>\n",
       "    </tr>\n",
       "    <tr>\n",
       "      <th>4</th>\n",
       "      <td>Driving Dunk Shot</td>\n",
       "      <td>Dunk</td>\n",
       "      <td>155</td>\n",
       "      <td>20000012</td>\n",
       "      <td>34.0443</td>\n",
       "      <td>0</td>\n",
       "      <td>0</td>\n",
       "      <td>-118.2698</td>\n",
       "      <td>6</td>\n",
       "      <td>2</td>\n",
       "      <td>...</td>\n",
       "      <td>2PT Field Goal</td>\n",
       "      <td>Center(C)</td>\n",
       "      <td>Restricted Area</td>\n",
       "      <td>Less Than 8 ft.</td>\n",
       "      <td>1610612747</td>\n",
       "      <td>Los Angeles Lakers</td>\n",
       "      <td>2000-10-31</td>\n",
       "      <td>LAL @ POR</td>\n",
       "      <td>POR</td>\n",
       "      <td>5</td>\n",
       "    </tr>\n",
       "  </tbody>\n",
       "</table>\n",
       "<p>5 rows × 25 columns</p>\n",
       "</div>"
      ],
      "text/plain": [
       "         action_type combined_shot_type  game_event_id   game_id      lat  \\\n",
       "0          Jump Shot          Jump Shot             10  20000012  33.9723   \n",
       "1          Jump Shot          Jump Shot             12  20000012  34.0443   \n",
       "2          Jump Shot          Jump Shot             35  20000012  33.9093   \n",
       "3          Jump Shot          Jump Shot             43  20000012  33.8693   \n",
       "4  Driving Dunk Shot               Dunk            155  20000012  34.0443   \n",
       "\n",
       "   loc_x  loc_y       lon  minutes_remaining  period  ...       shot_type  \\\n",
       "0    167     72 -118.1028                 10       1  ...  2PT Field Goal   \n",
       "1   -157      0 -118.4268                 10       1  ...  2PT Field Goal   \n",
       "2   -101    135 -118.3708                  7       1  ...  2PT Field Goal   \n",
       "3    138    175 -118.1318                  6       1  ...  2PT Field Goal   \n",
       "4      0      0 -118.2698                  6       2  ...  2PT Field Goal   \n",
       "\n",
       "          shot_zone_area  shot_zone_basic  shot_zone_range     team_id  \\\n",
       "0          Right Side(R)        Mid-Range        16-24 ft.  1610612747   \n",
       "1           Left Side(L)        Mid-Range         8-16 ft.  1610612747   \n",
       "2   Left Side Center(LC)        Mid-Range        16-24 ft.  1610612747   \n",
       "3  Right Side Center(RC)        Mid-Range        16-24 ft.  1610612747   \n",
       "4              Center(C)  Restricted Area  Less Than 8 ft.  1610612747   \n",
       "\n",
       "            team_name   game_date    matchup opponent  shot_id  \n",
       "0  Los Angeles Lakers  2000-10-31  LAL @ POR      POR        1  \n",
       "1  Los Angeles Lakers  2000-10-31  LAL @ POR      POR        2  \n",
       "2  Los Angeles Lakers  2000-10-31  LAL @ POR      POR        3  \n",
       "3  Los Angeles Lakers  2000-10-31  LAL @ POR      POR        4  \n",
       "4  Los Angeles Lakers  2000-10-31  LAL @ POR      POR        5  \n",
       "\n",
       "[5 rows x 25 columns]"
      ]
     },
     "execution_count": 3,
     "metadata": {},
     "output_type": "execute_result"
    }
   ],
   "source": [
    "data.head()"
   ]
  },
  {
   "cell_type": "code",
   "execution_count": 4,
   "id": "caa6ee45",
   "metadata": {},
   "outputs": [
    {
     "name": "stdout",
     "output_type": "stream",
     "text": [
      "<class 'pandas.core.frame.DataFrame'>\n",
      "RangeIndex: 30697 entries, 0 to 30696\n",
      "Data columns (total 25 columns):\n",
      " #   Column              Non-Null Count  Dtype  \n",
      "---  ------              --------------  -----  \n",
      " 0   action_type         30697 non-null  object \n",
      " 1   combined_shot_type  30697 non-null  object \n",
      " 2   game_event_id       30697 non-null  int64  \n",
      " 3   game_id             30697 non-null  int64  \n",
      " 4   lat                 30697 non-null  float64\n",
      " 5   loc_x               30697 non-null  int64  \n",
      " 6   loc_y               30697 non-null  int64  \n",
      " 7   lon                 30697 non-null  float64\n",
      " 8   minutes_remaining   30697 non-null  int64  \n",
      " 9   period              30697 non-null  int64  \n",
      " 10  playoffs            30697 non-null  int64  \n",
      " 11  season              30697 non-null  object \n",
      " 12  seconds_remaining   30697 non-null  int64  \n",
      " 13  shot_distance       30697 non-null  int64  \n",
      " 14  shot_made_flag      25697 non-null  float64\n",
      " 15  shot_type           30697 non-null  object \n",
      " 16  shot_zone_area      30697 non-null  object \n",
      " 17  shot_zone_basic     30697 non-null  object \n",
      " 18  shot_zone_range     30697 non-null  object \n",
      " 19  team_id             30697 non-null  int64  \n",
      " 20  team_name           30697 non-null  object \n",
      " 21  game_date           30697 non-null  object \n",
      " 22  matchup             30697 non-null  object \n",
      " 23  opponent            30697 non-null  object \n",
      " 24  shot_id             30697 non-null  int64  \n",
      "dtypes: float64(3), int64(11), object(11)\n",
      "memory usage: 5.9+ MB\n"
     ]
    }
   ],
   "source": [
    "data.info()"
   ]
  },
  {
   "cell_type": "code",
   "execution_count": 5,
   "id": "9428d2e7",
   "metadata": {},
   "outputs": [
    {
     "data": {
      "text/html": [
       "<div>\n",
       "<style scoped>\n",
       "    .dataframe tbody tr th:only-of-type {\n",
       "        vertical-align: middle;\n",
       "    }\n",
       "\n",
       "    .dataframe tbody tr th {\n",
       "        vertical-align: top;\n",
       "    }\n",
       "\n",
       "    .dataframe thead th {\n",
       "        text-align: right;\n",
       "    }\n",
       "</style>\n",
       "<table border=\"1\" class=\"dataframe\">\n",
       "  <thead>\n",
       "    <tr style=\"text-align: right;\">\n",
       "      <th></th>\n",
       "      <th>game_event_id</th>\n",
       "      <th>game_id</th>\n",
       "      <th>lat</th>\n",
       "      <th>loc_x</th>\n",
       "      <th>loc_y</th>\n",
       "      <th>lon</th>\n",
       "      <th>minutes_remaining</th>\n",
       "      <th>period</th>\n",
       "      <th>playoffs</th>\n",
       "      <th>seconds_remaining</th>\n",
       "      <th>shot_distance</th>\n",
       "      <th>shot_made_flag</th>\n",
       "      <th>team_id</th>\n",
       "      <th>shot_id</th>\n",
       "    </tr>\n",
       "  </thead>\n",
       "  <tbody>\n",
       "    <tr>\n",
       "      <th>count</th>\n",
       "      <td>30697.000000</td>\n",
       "      <td>3.069700e+04</td>\n",
       "      <td>30697.000000</td>\n",
       "      <td>30697.000000</td>\n",
       "      <td>30697.000000</td>\n",
       "      <td>30697.000000</td>\n",
       "      <td>30697.000000</td>\n",
       "      <td>30697.000000</td>\n",
       "      <td>30697.000000</td>\n",
       "      <td>30697.000000</td>\n",
       "      <td>30697.000000</td>\n",
       "      <td>25697.000000</td>\n",
       "      <td>3.069700e+04</td>\n",
       "      <td>30697.000000</td>\n",
       "    </tr>\n",
       "    <tr>\n",
       "      <th>mean</th>\n",
       "      <td>249.190800</td>\n",
       "      <td>2.476407e+07</td>\n",
       "      <td>33.953192</td>\n",
       "      <td>7.110499</td>\n",
       "      <td>91.107535</td>\n",
       "      <td>-118.262690</td>\n",
       "      <td>4.885624</td>\n",
       "      <td>2.519432</td>\n",
       "      <td>0.146562</td>\n",
       "      <td>28.365085</td>\n",
       "      <td>13.437437</td>\n",
       "      <td>0.446161</td>\n",
       "      <td>1.610613e+09</td>\n",
       "      <td>15349.000000</td>\n",
       "    </tr>\n",
       "    <tr>\n",
       "      <th>std</th>\n",
       "      <td>150.003712</td>\n",
       "      <td>7.755175e+06</td>\n",
       "      <td>0.087791</td>\n",
       "      <td>110.124578</td>\n",
       "      <td>87.791361</td>\n",
       "      <td>0.110125</td>\n",
       "      <td>3.449897</td>\n",
       "      <td>1.153665</td>\n",
       "      <td>0.353674</td>\n",
       "      <td>17.478949</td>\n",
       "      <td>9.374189</td>\n",
       "      <td>0.497103</td>\n",
       "      <td>0.000000e+00</td>\n",
       "      <td>8861.604943</td>\n",
       "    </tr>\n",
       "    <tr>\n",
       "      <th>min</th>\n",
       "      <td>2.000000</td>\n",
       "      <td>2.000001e+07</td>\n",
       "      <td>33.253300</td>\n",
       "      <td>-250.000000</td>\n",
       "      <td>-44.000000</td>\n",
       "      <td>-118.519800</td>\n",
       "      <td>0.000000</td>\n",
       "      <td>1.000000</td>\n",
       "      <td>0.000000</td>\n",
       "      <td>0.000000</td>\n",
       "      <td>0.000000</td>\n",
       "      <td>0.000000</td>\n",
       "      <td>1.610613e+09</td>\n",
       "      <td>1.000000</td>\n",
       "    </tr>\n",
       "    <tr>\n",
       "      <th>25%</th>\n",
       "      <td>110.000000</td>\n",
       "      <td>2.050008e+07</td>\n",
       "      <td>33.884300</td>\n",
       "      <td>-68.000000</td>\n",
       "      <td>4.000000</td>\n",
       "      <td>-118.337800</td>\n",
       "      <td>2.000000</td>\n",
       "      <td>1.000000</td>\n",
       "      <td>0.000000</td>\n",
       "      <td>13.000000</td>\n",
       "      <td>5.000000</td>\n",
       "      <td>0.000000</td>\n",
       "      <td>1.610613e+09</td>\n",
       "      <td>7675.000000</td>\n",
       "    </tr>\n",
       "    <tr>\n",
       "      <th>50%</th>\n",
       "      <td>253.000000</td>\n",
       "      <td>2.090035e+07</td>\n",
       "      <td>33.970300</td>\n",
       "      <td>0.000000</td>\n",
       "      <td>74.000000</td>\n",
       "      <td>-118.269800</td>\n",
       "      <td>5.000000</td>\n",
       "      <td>3.000000</td>\n",
       "      <td>0.000000</td>\n",
       "      <td>28.000000</td>\n",
       "      <td>15.000000</td>\n",
       "      <td>0.000000</td>\n",
       "      <td>1.610613e+09</td>\n",
       "      <td>15349.000000</td>\n",
       "    </tr>\n",
       "    <tr>\n",
       "      <th>75%</th>\n",
       "      <td>368.000000</td>\n",
       "      <td>2.960047e+07</td>\n",
       "      <td>34.040300</td>\n",
       "      <td>95.000000</td>\n",
       "      <td>160.000000</td>\n",
       "      <td>-118.174800</td>\n",
       "      <td>8.000000</td>\n",
       "      <td>3.000000</td>\n",
       "      <td>0.000000</td>\n",
       "      <td>43.000000</td>\n",
       "      <td>21.000000</td>\n",
       "      <td>1.000000</td>\n",
       "      <td>1.610613e+09</td>\n",
       "      <td>23023.000000</td>\n",
       "    </tr>\n",
       "    <tr>\n",
       "      <th>max</th>\n",
       "      <td>659.000000</td>\n",
       "      <td>4.990009e+07</td>\n",
       "      <td>34.088300</td>\n",
       "      <td>248.000000</td>\n",
       "      <td>791.000000</td>\n",
       "      <td>-118.021800</td>\n",
       "      <td>11.000000</td>\n",
       "      <td>7.000000</td>\n",
       "      <td>1.000000</td>\n",
       "      <td>59.000000</td>\n",
       "      <td>79.000000</td>\n",
       "      <td>1.000000</td>\n",
       "      <td>1.610613e+09</td>\n",
       "      <td>30697.000000</td>\n",
       "    </tr>\n",
       "  </tbody>\n",
       "</table>\n",
       "</div>"
      ],
      "text/plain": [
       "       game_event_id       game_id           lat         loc_x         loc_y  \\\n",
       "count   30697.000000  3.069700e+04  30697.000000  30697.000000  30697.000000   \n",
       "mean      249.190800  2.476407e+07     33.953192      7.110499     91.107535   \n",
       "std       150.003712  7.755175e+06      0.087791    110.124578     87.791361   \n",
       "min         2.000000  2.000001e+07     33.253300   -250.000000    -44.000000   \n",
       "25%       110.000000  2.050008e+07     33.884300    -68.000000      4.000000   \n",
       "50%       253.000000  2.090035e+07     33.970300      0.000000     74.000000   \n",
       "75%       368.000000  2.960047e+07     34.040300     95.000000    160.000000   \n",
       "max       659.000000  4.990009e+07     34.088300    248.000000    791.000000   \n",
       "\n",
       "                lon  minutes_remaining        period      playoffs  \\\n",
       "count  30697.000000       30697.000000  30697.000000  30697.000000   \n",
       "mean    -118.262690           4.885624      2.519432      0.146562   \n",
       "std        0.110125           3.449897      1.153665      0.353674   \n",
       "min     -118.519800           0.000000      1.000000      0.000000   \n",
       "25%     -118.337800           2.000000      1.000000      0.000000   \n",
       "50%     -118.269800           5.000000      3.000000      0.000000   \n",
       "75%     -118.174800           8.000000      3.000000      0.000000   \n",
       "max     -118.021800          11.000000      7.000000      1.000000   \n",
       "\n",
       "       seconds_remaining  shot_distance  shot_made_flag       team_id  \\\n",
       "count       30697.000000   30697.000000    25697.000000  3.069700e+04   \n",
       "mean           28.365085      13.437437        0.446161  1.610613e+09   \n",
       "std            17.478949       9.374189        0.497103  0.000000e+00   \n",
       "min             0.000000       0.000000        0.000000  1.610613e+09   \n",
       "25%            13.000000       5.000000        0.000000  1.610613e+09   \n",
       "50%            28.000000      15.000000        0.000000  1.610613e+09   \n",
       "75%            43.000000      21.000000        1.000000  1.610613e+09   \n",
       "max            59.000000      79.000000        1.000000  1.610613e+09   \n",
       "\n",
       "            shot_id  \n",
       "count  30697.000000  \n",
       "mean   15349.000000  \n",
       "std     8861.604943  \n",
       "min        1.000000  \n",
       "25%     7675.000000  \n",
       "50%    15349.000000  \n",
       "75%    23023.000000  \n",
       "max    30697.000000  "
      ]
     },
     "execution_count": 5,
     "metadata": {},
     "output_type": "execute_result"
    }
   ],
   "source": [
    "data.describe()"
   ]
  },
  {
   "cell_type": "code",
   "execution_count": 6,
   "id": "6c5e18fc",
   "metadata": {},
   "outputs": [
    {
     "data": {
      "text/html": [
       "<div>\n",
       "<style scoped>\n",
       "    .dataframe tbody tr th:only-of-type {\n",
       "        vertical-align: middle;\n",
       "    }\n",
       "\n",
       "    .dataframe tbody tr th {\n",
       "        vertical-align: top;\n",
       "    }\n",
       "\n",
       "    .dataframe thead th {\n",
       "        text-align: right;\n",
       "    }\n",
       "</style>\n",
       "<table border=\"1\" class=\"dataframe\">\n",
       "  <thead>\n",
       "    <tr style=\"text-align: right;\">\n",
       "      <th></th>\n",
       "      <th>action_type</th>\n",
       "      <th>combined_shot_type</th>\n",
       "      <th>season</th>\n",
       "      <th>shot_type</th>\n",
       "      <th>shot_zone_area</th>\n",
       "      <th>shot_zone_basic</th>\n",
       "      <th>shot_zone_range</th>\n",
       "      <th>team_name</th>\n",
       "      <th>game_date</th>\n",
       "      <th>matchup</th>\n",
       "      <th>opponent</th>\n",
       "    </tr>\n",
       "  </thead>\n",
       "  <tbody>\n",
       "    <tr>\n",
       "      <th>count</th>\n",
       "      <td>30697</td>\n",
       "      <td>30697</td>\n",
       "      <td>30697</td>\n",
       "      <td>30697</td>\n",
       "      <td>30697</td>\n",
       "      <td>30697</td>\n",
       "      <td>30697</td>\n",
       "      <td>30697</td>\n",
       "      <td>30697</td>\n",
       "      <td>30697</td>\n",
       "      <td>30697</td>\n",
       "    </tr>\n",
       "    <tr>\n",
       "      <th>unique</th>\n",
       "      <td>57</td>\n",
       "      <td>6</td>\n",
       "      <td>20</td>\n",
       "      <td>2</td>\n",
       "      <td>6</td>\n",
       "      <td>7</td>\n",
       "      <td>5</td>\n",
       "      <td>1</td>\n",
       "      <td>1559</td>\n",
       "      <td>74</td>\n",
       "      <td>33</td>\n",
       "    </tr>\n",
       "    <tr>\n",
       "      <th>top</th>\n",
       "      <td>Jump Shot</td>\n",
       "      <td>Jump Shot</td>\n",
       "      <td>2005-06</td>\n",
       "      <td>2PT Field Goal</td>\n",
       "      <td>Center(C)</td>\n",
       "      <td>Mid-Range</td>\n",
       "      <td>Less Than 8 ft.</td>\n",
       "      <td>Los Angeles Lakers</td>\n",
       "      <td>2016-04-13</td>\n",
       "      <td>LAL @ SAS</td>\n",
       "      <td>SAS</td>\n",
       "    </tr>\n",
       "    <tr>\n",
       "      <th>freq</th>\n",
       "      <td>18880</td>\n",
       "      <td>23485</td>\n",
       "      <td>2318</td>\n",
       "      <td>24271</td>\n",
       "      <td>13455</td>\n",
       "      <td>12625</td>\n",
       "      <td>9398</td>\n",
       "      <td>30697</td>\n",
       "      <td>50</td>\n",
       "      <td>1020</td>\n",
       "      <td>1978</td>\n",
       "    </tr>\n",
       "  </tbody>\n",
       "</table>\n",
       "</div>"
      ],
      "text/plain": [
       "       action_type combined_shot_type   season       shot_type shot_zone_area  \\\n",
       "count        30697              30697    30697           30697          30697   \n",
       "unique          57                  6       20               2              6   \n",
       "top      Jump Shot          Jump Shot  2005-06  2PT Field Goal      Center(C)   \n",
       "freq         18880              23485     2318           24271          13455   \n",
       "\n",
       "       shot_zone_basic  shot_zone_range           team_name   game_date  \\\n",
       "count            30697            30697               30697       30697   \n",
       "unique               7                5                   1        1559   \n",
       "top          Mid-Range  Less Than 8 ft.  Los Angeles Lakers  2016-04-13   \n",
       "freq             12625             9398               30697          50   \n",
       "\n",
       "          matchup opponent  \n",
       "count       30697    30697  \n",
       "unique         74       33  \n",
       "top     LAL @ SAS      SAS  \n",
       "freq         1020     1978  "
      ]
     },
     "execution_count": 6,
     "metadata": {},
     "output_type": "execute_result"
    }
   ],
   "source": [
    "data.describe(include='object')"
   ]
  },
  {
   "cell_type": "code",
   "execution_count": 7,
   "id": "f8f296f2",
   "metadata": {
    "scrolled": false
   },
   "outputs": [
    {
     "data": {
      "text/plain": [
       "<AxesSubplot:>"
      ]
     },
     "execution_count": 7,
     "metadata": {},
     "output_type": "execute_result"
    },
    {
     "data": {
      "image/png": "[encoded data removed]",
      "text/plain": [
       "<Figure size 1440x1080 with 2 Axes>"
      ]
     },
     "metadata": {
      "needs_background": "light"
     },
     "output_type": "display_data"
    }
   ],
   "source": [
    "corr_df = data.corr()\n",
    "plt.figure(figsize=(20,15))\n",
    "\n",
    "sns.heatmap(corr_df, annot=True, cmap= 'coolwarm', linewidths=.5, annot_kws={\"fontsize\":12})"
   ]
  },
  {
   "cell_type": "code",
   "execution_count": 8,
   "id": "91316ea8",
   "metadata": {},
   "outputs": [],
   "source": [
    "# Функция для определеня самых скоррелированных признаков\n",
    "\n",
    "def corrFilter(x: pd.DataFrame, bound: float):\n",
    "    xCorr = x.corr()\n",
    "    xFiltered = xCorr[((xCorr >= bound) | (xCorr <= -bound)) & (xCorr !=1)]\n",
    "    xFlattened = xFiltered.unstack().sort_values().drop_duplicates()\n",
    "    return xFlattened\n"
   ]
  },
  {
   "cell_type": "code",
   "execution_count": 9,
   "id": "f8de82ac",
   "metadata": {
    "scrolled": true
   },
   "outputs": [
    {
     "data": {
      "text/plain": [
       "lat            loc_y               -1.000000\n",
       "shot_distance  lat                 -0.981761\n",
       "game_event_id  minutes_remaining   -0.501778\n",
       "playoffs       shot_id              0.901612\n",
       "shot_id        game_id              0.944455\n",
       "shot_distance  loc_y                0.981761\n",
       "period         game_event_id        0.985222\n",
       "playoffs       game_id              0.991081\n",
       "lon            loc_x                1.000000\n",
       "game_event_id  game_event_id             NaN\n",
       "dtype: float64"
      ]
     },
     "execution_count": 9,
     "metadata": {},
     "output_type": "execute_result"
    }
   ],
   "source": [
    "corrFilter(corr_df, 0.5)"
   ]
  },
  {
   "cell_type": "code",
   "execution_count": 10,
   "id": "95379ae7",
   "metadata": {},
   "outputs": [
    {
     "data": {
      "text/plain": [
       "shot_distance       -0.198242\n",
       "loc_y               -0.148070\n",
       "game_event_id       -0.037232\n",
       "period              -0.032152\n",
       "shot_id             -0.013016\n",
       "game_id             -0.001612\n",
       "playoffs            -0.001257\n",
       "lon                 -0.000848\n",
       "loc_x               -0.000848\n",
       "minutes_remaining    0.028342\n",
       "seconds_remaining    0.030804\n",
       "lat                  0.148070\n",
       "Name: shot_made_flag, dtype: float64"
      ]
     },
     "execution_count": 10,
     "metadata": {},
     "output_type": "execute_result"
    }
   ],
   "source": [
    "# Корреляция признаков с целевой переменной\n",
    "\n",
    "corr_rank = corr_df[((corr_df>=0) | (corr_df<=0)) & (corr_df!=1)]['shot_made_flag'].sort_values().dropna()\n",
    "corr_rank"
   ]
  },
  {
   "cell_type": "code",
   "execution_count": null,
   "id": "b0ef8bda",
   "metadata": {},
   "outputs": [],
   "source": []
  },
  {
   "cell_type": "markdown",
   "id": "ea5439be",
   "metadata": {},
   "source": [
    "Гистограмма распределения целевой переменной shot_made_flag.\n",
    "\n",
    "Из графика видно, что дисбаланс классов небольшой."
   ]
  },
  {
   "cell_type": "code",
   "execution_count": 11,
   "id": "2c151ab6",
   "metadata": {},
   "outputs": [
    {
     "data": {
      "text/plain": [
       "Text(0.5, 1.0, 'Target variable distribution')"
      ]
     },
     "execution_count": 11,
     "metadata": {},
     "output_type": "execute_result"
    },
    {
     "data": {
      "image/png": "[encoded data removed]",
      "text/plain": [
       "<Figure size 432x288 with 1 Axes>"
      ]
     },
     "metadata": {
      "needs_background": "light"
     },
     "output_type": "display_data"
    }
   ],
   "source": [
    "sns.histplot(data[['shot_made_flag']])\n",
    "plt.title('Target variable distribution')"
   ]
  },
  {
   "cell_type": "markdown",
   "id": "0379c5e4",
   "metadata": {},
   "source": [
    "### 3. Удаление признаков, не несущих информации."
   ]
  },
  {
   "cell_type": "markdown",
   "id": "7be564bf",
   "metadata": {},
   "source": [
    "- team_name, team_id - Коби всегда играл в одной команде, эти признаки имеют по одному уникальному значению.\n",
    "\n",
    "- game_event_id, game_id, shot_id - эти признаки не влияют на результат целевой переменной.\n",
    "\n",
    "- lat и lon сильно коррелируют с loc_x и loc_y, поэтому признаки lat и lon лучше удалить.\n",
    "\n",
    "- matchup дублирует opponent"
   ]
  },
  {
   "cell_type": "code",
   "execution_count": 12,
   "id": "b6a35bfe",
   "metadata": {},
   "outputs": [],
   "source": [
    "drop_cols = ['team_name', 'team_id', 'game_event_id', 'game_id', 'shot_id', 'lat', 'lon', 'matchup']\n",
    "data = data.drop(drop_cols, axis=1)"
   ]
  },
  {
   "cell_type": "markdown",
   "id": "a4cfdae5",
   "metadata": {},
   "source": [
    "### 4. Заменим признак 'game_date' на 'game_year' и 'game_month'"
   ]
  },
  {
   "cell_type": "code",
   "execution_count": 13,
   "id": "2ff8266f",
   "metadata": {},
   "outputs": [],
   "source": [
    "data['game_date'] = pd.to_datetime(data['game_date'])\n",
    "data['game_year'] = data['game_date'].dt.year\n",
    "data['game_month'] = data['game_date'].dt.month\n",
    "data = data.drop('game_date', axis=1)"
   ]
  },
  {
   "cell_type": "markdown",
   "id": "8646c65c",
   "metadata": {},
   "source": [
    "### 5. Кодирование категориальных признаков"
   ]
  },
  {
   "cell_type": "code",
   "execution_count": 14,
   "id": "78169984",
   "metadata": {
    "scrolled": true
   },
   "outputs": [
    {
     "data": {
      "text/plain": [
       "(30697, 136)"
      ]
     },
     "execution_count": 14,
     "metadata": {},
     "output_type": "execute_result"
    }
   ],
   "source": [
    "dummies = pd.get_dummies(data.select_dtypes(include=['object'])).reset_index(drop=True)\n",
    "dummies.shape"
   ]
  },
  {
   "cell_type": "markdown",
   "id": "f2f68472",
   "metadata": {},
   "source": [
    "### 6. Подготовка данных"
   ]
  },
  {
   "cell_type": "code",
   "execution_count": 15,
   "id": "5ef26b86",
   "metadata": {},
   "outputs": [
    {
     "data": {
      "text/plain": [
       "(25697, 146)"
      ]
     },
     "execution_count": 15,
     "metadata": {},
     "output_type": "execute_result"
    }
   ],
   "source": [
    "new_data = pd.concat([data.select_dtypes(exclude=['object']), dummies], axis=1).dropna()\n",
    "\n",
    "new_data.shape"
   ]
  },
  {
   "cell_type": "code",
   "execution_count": 16,
   "id": "a6299fd9",
   "metadata": {},
   "outputs": [],
   "source": [
    "X = new_data.drop(columns='shot_made_flag')\n",
    "y = new_data['shot_made_flag']\n",
    "\n",
    "# X = StandardScaler().fit_transform(X) # стандартизация данных"
   ]
  },
  {
   "cell_type": "code",
   "execution_count": 17,
   "id": "807c1e27",
   "metadata": {},
   "outputs": [
    {
     "data": {
      "text/plain": [
       "(25697, 145)"
      ]
     },
     "execution_count": 17,
     "metadata": {},
     "output_type": "execute_result"
    }
   ],
   "source": [
    "X.shape"
   ]
  },
  {
   "cell_type": "code",
   "execution_count": 18,
   "id": "bc09aca8",
   "metadata": {},
   "outputs": [],
   "source": [
    "X_train, X_test, y_train, y_test = train_test_split(X, y, test_size = 0.3, random_state = 42)"
   ]
  },
  {
   "cell_type": "markdown",
   "id": "711d7f16",
   "metadata": {},
   "source": [
    "### 7. Модель классификации (RandomForestClassifier)"
   ]
  },
  {
   "cell_type": "markdown",
   "id": "a150bab8",
   "metadata": {},
   "source": [
    "Модель для сравнения (145 признаков)"
   ]
  },
  {
   "cell_type": "code",
   "execution_count": 19,
   "id": "8c370a86",
   "metadata": {},
   "outputs": [
    {
     "name": "stdout",
     "output_type": "stream",
     "text": [
      "Score on train data:  0.7010062823150053\n",
      "Score on test data:  0.6780804150453956\n"
     ]
    }
   ],
   "source": [
    "model_rfc = RandomForestClassifier(max_depth=9, random_state=42)\n",
    "model_rfc.fit(X_train, y_train)\n",
    "print(f'Score on train data: ', model_rfc.score(X_train, y_train))\n",
    "print(f'Score on test data: ', model_rfc.score(X_test, y_test))"
   ]
  },
  {
   "cell_type": "markdown",
   "id": "4ab9f6de",
   "metadata": {},
   "source": [
    "Наиболее важные признаки"
   ]
  },
  {
   "cell_type": "code",
   "execution_count": 20,
   "id": "41b96f61",
   "metadata": {},
   "outputs": [
    {
     "data": {
      "text/plain": [
       "<BarContainer object of 5 artists>"
      ]
     },
     "execution_count": 20,
     "metadata": {},
     "output_type": "execute_result"
    },
    {
     "data": {
      "image/png": "[encoded data removed]",
      "text/plain": [
       "<Figure size 1080x360 with 1 Axes>"
      ]
     },
     "metadata": {
      "needs_background": "light"
     },
     "output_type": "display_data"
    }
   ],
   "source": [
    "# Наиболее важные признаки\n",
    "\n",
    "imp = pd.Series(model_rfc.feature_importances_)\n",
    "imp.index = pd.Series(X_train.columns)\n",
    "\n",
    "plt.figure(figsize=(15,5))\n",
    "plt.title('Top 5 feature importances')\n",
    "plt.xlabel('Features')\n",
    "plt.ylabel('Gini')\n",
    "plt.bar(imp.sort_values(ascending=False).head().index, imp.sort_values(ascending=False).head())"
   ]
  },
  {
   "cell_type": "markdown",
   "id": "846de6ee",
   "metadata": {},
   "source": [
    "### 7. Feature Selection"
   ]
  },
  {
   "cell_type": "markdown",
   "id": "c1c27d1c",
   "metadata": {},
   "source": [
    "#### 7.1 Важность признаков на основе модели ExtraTreesClassifier."
   ]
  },
  {
   "cell_type": "code",
   "execution_count": 21,
   "id": "3fd7fc9f",
   "metadata": {},
   "outputs": [],
   "source": [
    "model_etc = ExtraTreesClassifier()\n",
    "model_etc.fit(X, y) # обучение\n",
    "\n",
    "\n",
    "inf = {}\n",
    "\n",
    "for i in range(len(X.columns)):\n",
    "    inf.setdefault(X.columns[i], model_etc.feature_importances_[i])\n",
    "\n"
   ]
  },
  {
   "cell_type": "code",
   "execution_count": 22,
   "id": "8cefef65",
   "metadata": {},
   "outputs": [
    {
     "data": {
      "text/plain": [
       "seconds_remaining    0.083832\n",
       "minutes_remaining    0.074333\n",
       "loc_y                0.063473\n",
       "loc_x                0.062700\n",
       "period               0.056622\n",
       "dtype: float64"
      ]
     },
     "execution_count": 22,
     "metadata": {},
     "output_type": "execute_result"
    }
   ],
   "source": [
    "imp_5 = pd.Series(inf).sort_values(ascending=False).head()\n",
    "imp_5"
   ]
  },
  {
   "cell_type": "code",
   "execution_count": 23,
   "id": "f57dde79",
   "metadata": {},
   "outputs": [
    {
     "data": {
      "text/plain": [
       "<BarContainer object of 5 artists>"
      ]
     },
     "execution_count": 23,
     "metadata": {},
     "output_type": "execute_result"
    },
    {
     "data": {
      "image/png": "[encoded data removed]",
      "text/plain": [
       "<Figure size 720x360 with 1 Axes>"
      ]
     },
     "metadata": {
      "needs_background": "light"
     },
     "output_type": "display_data"
    }
   ],
   "source": [
    "plt.figure(figsize=(10,5))\n",
    "plt.bar(x=imp_5.index, height=imp_5.values)"
   ]
  },
  {
   "cell_type": "markdown",
   "id": "2b375db7",
   "metadata": {},
   "source": [
    "Топ-5 признаков имеют низкие коэффициенты"
   ]
  },
  {
   "cell_type": "markdown",
   "id": "e8a985d2",
   "metadata": {},
   "source": [
    "#### 7.2 Выбор признаков на основе SequentialFeatureSelector"
   ]
  },
  {
   "cell_type": "markdown",
   "id": "a7f659b9",
   "metadata": {},
   "source": [
    "## ??????????????????Очень долго выполняется - процес прерван, не завершился ?????????????????????????????????????????"
   ]
  },
  {
   "cell_type": "code",
   "execution_count": 24,
   "id": "52bf8e01",
   "metadata": {},
   "outputs": [],
   "source": [
    "# knn = KNeighborsClassifier(n_neighbors=3)\n",
    "# sfs = SequentialFeatureSelector(knn, n_features_to_select=5)\n",
    "# sfs.fit(X, y)\n"
   ]
  },
  {
   "cell_type": "code",
   "execution_count": 25,
   "id": "58bf949c",
   "metadata": {},
   "outputs": [],
   "source": [
    "# sfs.get_support()"
   ]
  },
  {
   "cell_type": "code",
   "execution_count": null,
   "id": "9d025e13",
   "metadata": {},
   "outputs": [],
   "source": []
  },
  {
   "cell_type": "code",
   "execution_count": null,
   "id": "128dbd87",
   "metadata": {},
   "outputs": [],
   "source": []
  },
  {
   "cell_type": "markdown",
   "id": "7d4456a1",
   "metadata": {},
   "source": [
    "#### 7.3 Выбор признаков на основе RFE (Recursive Feature Elimination - Рекурсивное исключение признаков)"
   ]
  },
  {
   "cell_type": "markdown",
   "id": "cd996a7d",
   "metadata": {},
   "source": [
    "## ??????????????Очень долго выполняется - процес прерван, не завершился?????????????"
   ]
  },
  {
   "cell_type": "code",
   "execution_count": 26,
   "id": "ec3b1f2a",
   "metadata": {},
   "outputs": [],
   "source": [
    "# estimator = SVC(kernel=\"linear\")\n",
    "# selector = RFE(estimator, n_features_to_select=3, step=1)\n",
    "# selector = selector.fit(X, y)"
   ]
  },
  {
   "cell_type": "code",
   "execution_count": 27,
   "id": "403404cc",
   "metadata": {},
   "outputs": [],
   "source": [
    "# rank_rfe_df = pd.DataFrame(rfe.ranking_,index=X.columns,columns=[‘Rank’]).sort_values(by=’Rank’,ascending=True)rf_df.head()"
   ]
  },
  {
   "cell_type": "code",
   "execution_count": null,
   "id": "c3dd3598",
   "metadata": {},
   "outputs": [],
   "source": []
  },
  {
   "cell_type": "markdown",
   "id": "fed748bf",
   "metadata": {},
   "source": [
    "#### 7.4 Сокращение количества признаков с помощью PCA"
   ]
  },
  {
   "cell_type": "code",
   "execution_count": 28,
   "id": "1cb22881",
   "metadata": {},
   "outputs": [],
   "source": [
    "pca = PCA(n_components = 5) # взяли 1 компоненту\n",
    "X_pca_reduced = pca.fit_transform(X_train) # сделали трансформацию"
   ]
  },
  {
   "cell_type": "code",
   "execution_count": 29,
   "id": "ed288d0d",
   "metadata": {},
   "outputs": [
    {
     "data": {
      "text/plain": [
       "(17987, 5)"
      ]
     },
     "execution_count": 29,
     "metadata": {},
     "output_type": "execute_result"
    }
   ],
   "source": [
    "X_pca_reduced.shape"
   ]
  },
  {
   "cell_type": "markdown",
   "id": "e671150a",
   "metadata": {},
   "source": [
    "#### 7.5 Сокращение количества признаков с помощью LDA"
   ]
  },
  {
   "cell_type": "markdown",
   "id": "f64234a5",
   "metadata": {},
   "source": [
    "## ?????????????????????????????????"
   ]
  },
  {
   "cell_type": "code",
   "execution_count": 31,
   "id": "3aa9997a",
   "metadata": {},
   "outputs": [
    {
     "ename": "ValueError",
     "evalue": "n_components cannot be larger than min(n_features, n_classes - 1).",
     "output_type": "error",
     "traceback": [
      "\u001b[1;31m---------------------------------------------------------------------------\u001b[0m",
      "\u001b[1;31mValueError\u001b[0m                                Traceback (most recent call last)",
      "\u001b[1;32m<ipython-input-31-bac6994eb72d>\u001b[0m in \u001b[0;36m<module>\u001b[1;34m\u001b[0m\n\u001b[0;32m      1\u001b[0m \u001b[0mlda\u001b[0m \u001b[1;33m=\u001b[0m \u001b[0mLinearDiscriminantAnalysis\u001b[0m\u001b[1;33m(\u001b[0m\u001b[0mn_components\u001b[0m\u001b[1;33m=\u001b[0m\u001b[1;36m2\u001b[0m\u001b[1;33m)\u001b[0m\u001b[1;33m\u001b[0m\u001b[1;33m\u001b[0m\u001b[0m\n\u001b[1;32m----> 2\u001b[1;33m \u001b[0mX_lda_reduced\u001b[0m \u001b[1;33m=\u001b[0m \u001b[0mlda\u001b[0m\u001b[1;33m.\u001b[0m\u001b[0mfit_transform\u001b[0m\u001b[1;33m(\u001b[0m\u001b[0mX_train\u001b[0m\u001b[1;33m,\u001b[0m \u001b[0my_train\u001b[0m\u001b[1;33m)\u001b[0m\u001b[1;33m\u001b[0m\u001b[1;33m\u001b[0m\u001b[0m\n\u001b[0m",
      "\u001b[1;32m~\\anaconda3\\lib\\site-packages\\sklearn\\base.py\u001b[0m in \u001b[0;36mfit_transform\u001b[1;34m(self, X, y, **fit_params)\u001b[0m\n\u001b[0;32m    700\u001b[0m         \u001b[1;32melse\u001b[0m\u001b[1;33m:\u001b[0m\u001b[1;33m\u001b[0m\u001b[1;33m\u001b[0m\u001b[0m\n\u001b[0;32m    701\u001b[0m             \u001b[1;31m# fit method of arity 2 (supervised transformation)\u001b[0m\u001b[1;33m\u001b[0m\u001b[1;33m\u001b[0m\u001b[1;33m\u001b[0m\u001b[0m\n\u001b[1;32m--> 702\u001b[1;33m             \u001b[1;32mreturn\u001b[0m \u001b[0mself\u001b[0m\u001b[1;33m.\u001b[0m\u001b[0mfit\u001b[0m\u001b[1;33m(\u001b[0m\u001b[0mX\u001b[0m\u001b[1;33m,\u001b[0m \u001b[0my\u001b[0m\u001b[1;33m,\u001b[0m \u001b[1;33m**\u001b[0m\u001b[0mfit_params\u001b[0m\u001b[1;33m)\u001b[0m\u001b[1;33m.\u001b[0m\u001b[0mtransform\u001b[0m\u001b[1;33m(\u001b[0m\u001b[0mX\u001b[0m\u001b[1;33m)\u001b[0m\u001b[1;33m\u001b[0m\u001b[1;33m\u001b[0m\u001b[0m\n\u001b[0m\u001b[0;32m    703\u001b[0m \u001b[1;33m\u001b[0m\u001b[0m\n\u001b[0;32m    704\u001b[0m \u001b[1;33m\u001b[0m\u001b[0m\n",
      "\u001b[1;32m~\\anaconda3\\lib\\site-packages\\sklearn\\discriminant_analysis.py\u001b[0m in \u001b[0;36mfit\u001b[1;34m(self, X, y)\u001b[0m\n\u001b[0;32m    537\u001b[0m         \u001b[1;32melse\u001b[0m\u001b[1;33m:\u001b[0m\u001b[1;33m\u001b[0m\u001b[1;33m\u001b[0m\u001b[0m\n\u001b[0;32m    538\u001b[0m             \u001b[1;32mif\u001b[0m \u001b[0mself\u001b[0m\u001b[1;33m.\u001b[0m\u001b[0mn_components\u001b[0m \u001b[1;33m>\u001b[0m \u001b[0mmax_components\u001b[0m\u001b[1;33m:\u001b[0m\u001b[1;33m\u001b[0m\u001b[1;33m\u001b[0m\u001b[0m\n\u001b[1;32m--> 539\u001b[1;33m                 raise ValueError(\n\u001b[0m\u001b[0;32m    540\u001b[0m                     \u001b[1;34m\"n_components cannot be larger than min(n_features, \"\u001b[0m\u001b[1;33m\u001b[0m\u001b[1;33m\u001b[0m\u001b[0m\n\u001b[0;32m    541\u001b[0m                     \u001b[1;34m\"n_classes - 1).\"\u001b[0m\u001b[1;33m\u001b[0m\u001b[1;33m\u001b[0m\u001b[0m\n",
      "\u001b[1;31mValueError\u001b[0m: n_components cannot be larger than min(n_features, n_classes - 1)."
     ]
    }
   ],
   "source": [
    "lda = LinearDiscriminantAnalysis(n_components=2)\n",
    "X_lda_reduced = lda.fit_transform(X_train, y_train)\n"
   ]
  },
  {
   "cell_type": "code",
   "execution_count": null,
   "id": "3232ba51",
   "metadata": {},
   "outputs": [],
   "source": [
    "X_lda_reduced.shape"
   ]
  },
  {
   "cell_type": "code",
   "execution_count": null,
   "id": "4b70e918",
   "metadata": {},
   "outputs": [],
   "source": []
  },
  {
   "cell_type": "code",
   "execution_count": null,
   "id": "640ca54a",
   "metadata": {},
   "outputs": [],
   "source": []
  },
  {
   "cell_type": "code",
   "execution_count": null,
   "id": "bdf02bd2",
   "metadata": {},
   "outputs": [],
   "source": []
  },
  {
   "cell_type": "markdown",
   "id": "9cdf9d7e",
   "metadata": {},
   "source": [
    "### 8. Сравнение оценки модели RandomForestClassifier с признаками из модели PCA"
   ]
  },
  {
   "cell_type": "markdown",
   "id": "895c10d3",
   "metadata": {},
   "source": [
    "## ??????????????Как получить имена оставшихся признаков???????????????"
   ]
  },
  {
   "cell_type": "code",
   "execution_count": 32,
   "id": "685810e7",
   "metadata": {
    "scrolled": true
   },
   "outputs": [
    {
     "name": "stdout",
     "output_type": "stream",
     "text": [
      "Score on train data:  0.6508033579807638\n"
     ]
    },
    {
     "ename": "ValueError",
     "evalue": "X has 145 features, but DecisionTreeClassifier is expecting 5 features as input.",
     "output_type": "error",
     "traceback": [
      "\u001b[1;31m---------------------------------------------------------------------------\u001b[0m",
      "\u001b[1;31mValueError\u001b[0m                                Traceback (most recent call last)",
      "\u001b[1;32m<ipython-input-32-21d2b4ff762b>\u001b[0m in \u001b[0;36m<module>\u001b[1;34m\u001b[0m\n\u001b[0;32m      2\u001b[0m \u001b[0mrfc\u001b[0m\u001b[1;33m.\u001b[0m\u001b[0mfit\u001b[0m\u001b[1;33m(\u001b[0m\u001b[0mX_pca_reduced\u001b[0m\u001b[1;33m,\u001b[0m \u001b[0my_train\u001b[0m\u001b[1;33m)\u001b[0m\u001b[1;33m\u001b[0m\u001b[1;33m\u001b[0m\u001b[0m\n\u001b[0;32m      3\u001b[0m \u001b[0mprint\u001b[0m\u001b[1;33m(\u001b[0m\u001b[1;34mf'Score on train data: '\u001b[0m\u001b[1;33m,\u001b[0m \u001b[0mrfc\u001b[0m\u001b[1;33m.\u001b[0m\u001b[0mscore\u001b[0m\u001b[1;33m(\u001b[0m\u001b[0mX_pca_reduced\u001b[0m\u001b[1;33m,\u001b[0m \u001b[0my_train\u001b[0m\u001b[1;33m)\u001b[0m\u001b[1;33m)\u001b[0m\u001b[1;33m\u001b[0m\u001b[1;33m\u001b[0m\u001b[0m\n\u001b[1;32m----> 4\u001b[1;33m \u001b[0mprint\u001b[0m\u001b[1;33m(\u001b[0m\u001b[1;34mf'Score on test data: '\u001b[0m\u001b[1;33m,\u001b[0m \u001b[0mrfc\u001b[0m\u001b[1;33m.\u001b[0m\u001b[0mscore\u001b[0m\u001b[1;33m(\u001b[0m\u001b[0mX_test\u001b[0m\u001b[1;33m,\u001b[0m \u001b[0my_test\u001b[0m\u001b[1;33m)\u001b[0m\u001b[1;33m)\u001b[0m\u001b[1;33m\u001b[0m\u001b[1;33m\u001b[0m\u001b[0m\n\u001b[0m\u001b[0;32m      5\u001b[0m \u001b[1;33m\u001b[0m\u001b[0m\n\u001b[0;32m      6\u001b[0m \u001b[1;31m# X_test, y_test - должны быть теже столбцы, что и в X_pca_reduced\u001b[0m\u001b[1;33m\u001b[0m\u001b[1;33m\u001b[0m\u001b[1;33m\u001b[0m\u001b[0m\n",
      "\u001b[1;32m~\\anaconda3\\lib\\site-packages\\sklearn\\base.py\u001b[0m in \u001b[0;36mscore\u001b[1;34m(self, X, y, sample_weight)\u001b[0m\n\u001b[0;32m    498\u001b[0m         \"\"\"\n\u001b[0;32m    499\u001b[0m         \u001b[1;32mfrom\u001b[0m \u001b[1;33m.\u001b[0m\u001b[0mmetrics\u001b[0m \u001b[1;32mimport\u001b[0m \u001b[0maccuracy_score\u001b[0m\u001b[1;33m\u001b[0m\u001b[1;33m\u001b[0m\u001b[0m\n\u001b[1;32m--> 500\u001b[1;33m         \u001b[1;32mreturn\u001b[0m \u001b[0maccuracy_score\u001b[0m\u001b[1;33m(\u001b[0m\u001b[0my\u001b[0m\u001b[1;33m,\u001b[0m \u001b[0mself\u001b[0m\u001b[1;33m.\u001b[0m\u001b[0mpredict\u001b[0m\u001b[1;33m(\u001b[0m\u001b[0mX\u001b[0m\u001b[1;33m)\u001b[0m\u001b[1;33m,\u001b[0m \u001b[0msample_weight\u001b[0m\u001b[1;33m=\u001b[0m\u001b[0msample_weight\u001b[0m\u001b[1;33m)\u001b[0m\u001b[1;33m\u001b[0m\u001b[1;33m\u001b[0m\u001b[0m\n\u001b[0m\u001b[0;32m    501\u001b[0m \u001b[1;33m\u001b[0m\u001b[0m\n\u001b[0;32m    502\u001b[0m     \u001b[1;32mdef\u001b[0m \u001b[0m_more_tags\u001b[0m\u001b[1;33m(\u001b[0m\u001b[0mself\u001b[0m\u001b[1;33m)\u001b[0m\u001b[1;33m:\u001b[0m\u001b[1;33m\u001b[0m\u001b[1;33m\u001b[0m\u001b[0m\n",
      "\u001b[1;32m~\\anaconda3\\lib\\site-packages\\sklearn\\ensemble\\_forest.py\u001b[0m in \u001b[0;36mpredict\u001b[1;34m(self, X)\u001b[0m\n\u001b[0;32m    628\u001b[0m             \u001b[0mThe\u001b[0m \u001b[0mpredicted\u001b[0m \u001b[0mclasses\u001b[0m\u001b[1;33m.\u001b[0m\u001b[1;33m\u001b[0m\u001b[1;33m\u001b[0m\u001b[0m\n\u001b[0;32m    629\u001b[0m         \"\"\"\n\u001b[1;32m--> 630\u001b[1;33m         \u001b[0mproba\u001b[0m \u001b[1;33m=\u001b[0m \u001b[0mself\u001b[0m\u001b[1;33m.\u001b[0m\u001b[0mpredict_proba\u001b[0m\u001b[1;33m(\u001b[0m\u001b[0mX\u001b[0m\u001b[1;33m)\u001b[0m\u001b[1;33m\u001b[0m\u001b[1;33m\u001b[0m\u001b[0m\n\u001b[0m\u001b[0;32m    631\u001b[0m \u001b[1;33m\u001b[0m\u001b[0m\n\u001b[0;32m    632\u001b[0m         \u001b[1;32mif\u001b[0m \u001b[0mself\u001b[0m\u001b[1;33m.\u001b[0m\u001b[0mn_outputs_\u001b[0m \u001b[1;33m==\u001b[0m \u001b[1;36m1\u001b[0m\u001b[1;33m:\u001b[0m\u001b[1;33m\u001b[0m\u001b[1;33m\u001b[0m\u001b[0m\n",
      "\u001b[1;32m~\\anaconda3\\lib\\site-packages\\sklearn\\ensemble\\_forest.py\u001b[0m in \u001b[0;36mpredict_proba\u001b[1;34m(self, X)\u001b[0m\n\u001b[0;32m    672\u001b[0m         \u001b[0mcheck_is_fitted\u001b[0m\u001b[1;33m(\u001b[0m\u001b[0mself\u001b[0m\u001b[1;33m)\u001b[0m\u001b[1;33m\u001b[0m\u001b[1;33m\u001b[0m\u001b[0m\n\u001b[0;32m    673\u001b[0m         \u001b[1;31m# Check data\u001b[0m\u001b[1;33m\u001b[0m\u001b[1;33m\u001b[0m\u001b[1;33m\u001b[0m\u001b[0m\n\u001b[1;32m--> 674\u001b[1;33m         \u001b[0mX\u001b[0m \u001b[1;33m=\u001b[0m \u001b[0mself\u001b[0m\u001b[1;33m.\u001b[0m\u001b[0m_validate_X_predict\u001b[0m\u001b[1;33m(\u001b[0m\u001b[0mX\u001b[0m\u001b[1;33m)\u001b[0m\u001b[1;33m\u001b[0m\u001b[1;33m\u001b[0m\u001b[0m\n\u001b[0m\u001b[0;32m    675\u001b[0m \u001b[1;33m\u001b[0m\u001b[0m\n\u001b[0;32m    676\u001b[0m         \u001b[1;31m# Assign chunk of trees to jobs\u001b[0m\u001b[1;33m\u001b[0m\u001b[1;33m\u001b[0m\u001b[1;33m\u001b[0m\u001b[0m\n",
      "\u001b[1;32m~\\anaconda3\\lib\\site-packages\\sklearn\\ensemble\\_forest.py\u001b[0m in \u001b[0;36m_validate_X_predict\u001b[1;34m(self, X)\u001b[0m\n\u001b[0;32m    420\u001b[0m         \u001b[0mcheck_is_fitted\u001b[0m\u001b[1;33m(\u001b[0m\u001b[0mself\u001b[0m\u001b[1;33m)\u001b[0m\u001b[1;33m\u001b[0m\u001b[1;33m\u001b[0m\u001b[0m\n\u001b[0;32m    421\u001b[0m \u001b[1;33m\u001b[0m\u001b[0m\n\u001b[1;32m--> 422\u001b[1;33m         \u001b[1;32mreturn\u001b[0m \u001b[0mself\u001b[0m\u001b[1;33m.\u001b[0m\u001b[0mestimators_\u001b[0m\u001b[1;33m[\u001b[0m\u001b[1;36m0\u001b[0m\u001b[1;33m]\u001b[0m\u001b[1;33m.\u001b[0m\u001b[0m_validate_X_predict\u001b[0m\u001b[1;33m(\u001b[0m\u001b[0mX\u001b[0m\u001b[1;33m,\u001b[0m \u001b[0mcheck_input\u001b[0m\u001b[1;33m=\u001b[0m\u001b[1;32mTrue\u001b[0m\u001b[1;33m)\u001b[0m\u001b[1;33m\u001b[0m\u001b[1;33m\u001b[0m\u001b[0m\n\u001b[0m\u001b[0;32m    423\u001b[0m \u001b[1;33m\u001b[0m\u001b[0m\n\u001b[0;32m    424\u001b[0m     \u001b[1;33m@\u001b[0m\u001b[0mproperty\u001b[0m\u001b[1;33m\u001b[0m\u001b[1;33m\u001b[0m\u001b[0m\n",
      "\u001b[1;32m~\\anaconda3\\lib\\site-packages\\sklearn\\tree\\_classes.py\u001b[0m in \u001b[0;36m_validate_X_predict\u001b[1;34m(self, X, check_input)\u001b[0m\n\u001b[0;32m    400\u001b[0m         \u001b[1;34m\"\"\"Validate the training data on predict (probabilities).\"\"\"\u001b[0m\u001b[1;33m\u001b[0m\u001b[1;33m\u001b[0m\u001b[0m\n\u001b[0;32m    401\u001b[0m         \u001b[1;32mif\u001b[0m \u001b[0mcheck_input\u001b[0m\u001b[1;33m:\u001b[0m\u001b[1;33m\u001b[0m\u001b[1;33m\u001b[0m\u001b[0m\n\u001b[1;32m--> 402\u001b[1;33m             X = self._validate_data(X, dtype=DTYPE, accept_sparse=\"csr\",\n\u001b[0m\u001b[0;32m    403\u001b[0m                                     reset=False)\n\u001b[0;32m    404\u001b[0m             if issparse(X) and (X.indices.dtype != np.intc or\n",
      "\u001b[1;32m~\\anaconda3\\lib\\site-packages\\sklearn\\base.py\u001b[0m in \u001b[0;36m_validate_data\u001b[1;34m(self, X, y, reset, validate_separately, **check_params)\u001b[0m\n\u001b[0;32m    435\u001b[0m \u001b[1;33m\u001b[0m\u001b[0m\n\u001b[0;32m    436\u001b[0m         \u001b[1;32mif\u001b[0m \u001b[0mcheck_params\u001b[0m\u001b[1;33m.\u001b[0m\u001b[0mget\u001b[0m\u001b[1;33m(\u001b[0m\u001b[1;34m'ensure_2d'\u001b[0m\u001b[1;33m,\u001b[0m \u001b[1;32mTrue\u001b[0m\u001b[1;33m)\u001b[0m\u001b[1;33m:\u001b[0m\u001b[1;33m\u001b[0m\u001b[1;33m\u001b[0m\u001b[0m\n\u001b[1;32m--> 437\u001b[1;33m             \u001b[0mself\u001b[0m\u001b[1;33m.\u001b[0m\u001b[0m_check_n_features\u001b[0m\u001b[1;33m(\u001b[0m\u001b[0mX\u001b[0m\u001b[1;33m,\u001b[0m \u001b[0mreset\u001b[0m\u001b[1;33m=\u001b[0m\u001b[0mreset\u001b[0m\u001b[1;33m)\u001b[0m\u001b[1;33m\u001b[0m\u001b[1;33m\u001b[0m\u001b[0m\n\u001b[0m\u001b[0;32m    438\u001b[0m \u001b[1;33m\u001b[0m\u001b[0m\n\u001b[0;32m    439\u001b[0m         \u001b[1;32mreturn\u001b[0m \u001b[0mout\u001b[0m\u001b[1;33m\u001b[0m\u001b[1;33m\u001b[0m\u001b[0m\n",
      "\u001b[1;32m~\\anaconda3\\lib\\site-packages\\sklearn\\base.py\u001b[0m in \u001b[0;36m_check_n_features\u001b[1;34m(self, X, reset)\u001b[0m\n\u001b[0;32m    363\u001b[0m \u001b[1;33m\u001b[0m\u001b[0m\n\u001b[0;32m    364\u001b[0m         \u001b[1;32mif\u001b[0m \u001b[0mn_features\u001b[0m \u001b[1;33m!=\u001b[0m \u001b[0mself\u001b[0m\u001b[1;33m.\u001b[0m\u001b[0mn_features_in_\u001b[0m\u001b[1;33m:\u001b[0m\u001b[1;33m\u001b[0m\u001b[1;33m\u001b[0m\u001b[0m\n\u001b[1;32m--> 365\u001b[1;33m             raise ValueError(\n\u001b[0m\u001b[0;32m    366\u001b[0m                 \u001b[1;34mf\"X has {n_features} features, but {self.__class__.__name__} \"\u001b[0m\u001b[1;33m\u001b[0m\u001b[1;33m\u001b[0m\u001b[0m\n\u001b[0;32m    367\u001b[0m                 f\"is expecting {self.n_features_in_} features as input.\")\n",
      "\u001b[1;31mValueError\u001b[0m: X has 145 features, but DecisionTreeClassifier is expecting 5 features as input."
     ]
    }
   ],
   "source": [
    "rfc = RandomForestClassifier(max_depth=9, random_state=42)\n",
    "rfc.fit(X_pca_reduced, y_train)\n",
    "print(f'Score on train data: ', rfc.score(X_pca_reduced, y_train))\n",
    "print(f'Score on test data: ', rfc.score(X_test, y_test)) \n",
    "\n",
    "# X_test, y_test - должны быть теже столбцы, что и в X_pca_reduced\n",
    "\n",
    "# ???????????????????????  Как получить имена X_pca_reduced признаков  ???????????????\n"
   ]
  },
  {
   "cell_type": "code",
   "execution_count": null,
   "id": "bb58925f",
   "metadata": {},
   "outputs": [],
   "source": []
  }
 ],
 "metadata": {
  "kernelspec": {
   "display_name": "Python 3",
   "language": "python",
   "name": "python3"
  },
  "language_info": {
   "codemirror_mode": {
    "name": "ipython",
    "version": 3
   },
   "file_extension": ".py",
   "mimetype": "text/x-python",
   "name": "python",
   "nbconvert_exporter": "python",
   "pygments_lexer": "ipython3",
   "version": "3.8.8"
  },
  "toc": {
   "base_numbering": 1,
   "nav_menu": {},
   "number_sections": false,
   "sideBar": true,
   "skip_h1_title": false,
   "title_cell": "Table of Contents",
   "title_sidebar": "Contents",
   "toc_cell": true,
   "toc_position": {},
   "toc_section_display": true,
   "toc_window_display": true
  }
 },
 "nbformat": 4,
 "nbformat_minor": 5
}
