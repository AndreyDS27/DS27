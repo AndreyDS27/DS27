{
 "cells": [
  {
   "cell_type": "markdown",
   "metadata": {},
   "source": [
    "# Домашнее задание \"Проблема качества данных\""
   ]
  },
  {
   "cell_type": "markdown",
   "metadata": {},
   "source": [
    "#### Cоздать искусственный датасет с лишними столбцами. Целевую метку, при правильной обработке данных, формируйте таким образом, чтобы без затруднений её смогла описать линейная модель."
   ]
  },
  {
   "cell_type": "code",
   "execution_count": 1,
   "metadata": {},
   "outputs": [],
   "source": [
    "import numpy as np\n",
    "import pandas as pd\n",
    "import seaborn as sns\n",
    "\n",
    "from sklearn.linear_model import LinearRegression\n",
    "from sklearn.metrics import mean_absolute_error\n",
    "\n",
    "from sklearn.preprocessing import PolynomialFeatures"
   ]
  },
  {
   "cell_type": "code",
   "execution_count": 2,
   "metadata": {},
   "outputs": [
    {
     "data": {
      "text/html": [
       "<div>\n",
       "<style scoped>\n",
       "    .dataframe tbody tr th:only-of-type {\n",
       "        vertical-align: middle;\n",
       "    }\n",
       "\n",
       "    .dataframe tbody tr th {\n",
       "        vertical-align: top;\n",
       "    }\n",
       "\n",
       "    .dataframe thead th {\n",
       "        text-align: right;\n",
       "    }\n",
       "</style>\n",
       "<table border=\"1\" class=\"dataframe\">\n",
       "  <thead>\n",
       "    <tr style=\"text-align: right;\">\n",
       "      <th></th>\n",
       "      <th>age</th>\n",
       "      <th>distance</th>\n",
       "      <th>rate</th>\n",
       "      <th>price</th>\n",
       "    </tr>\n",
       "  </thead>\n",
       "  <tbody>\n",
       "    <tr>\n",
       "      <th>0</th>\n",
       "      <td>59</td>\n",
       "      <td>111</td>\n",
       "      <td>28</td>\n",
       "      <td>279847</td>\n",
       "    </tr>\n",
       "    <tr>\n",
       "      <th>1</th>\n",
       "      <td>49</td>\n",
       "      <td>80</td>\n",
       "      <td>24</td>\n",
       "      <td>172927</td>\n",
       "    </tr>\n",
       "    <tr>\n",
       "      <th>2</th>\n",
       "      <td>15</td>\n",
       "      <td>87</td>\n",
       "      <td>23</td>\n",
       "      <td>180217</td>\n",
       "    </tr>\n",
       "    <tr>\n",
       "      <th>3</th>\n",
       "      <td>58</td>\n",
       "      <td>83</td>\n",
       "      <td>27</td>\n",
       "      <td>201817</td>\n",
       "    </tr>\n",
       "    <tr>\n",
       "      <th>4</th>\n",
       "      <td>61</td>\n",
       "      <td>80</td>\n",
       "      <td>14</td>\n",
       "      <td>100927</td>\n",
       "    </tr>\n",
       "  </tbody>\n",
       "</table>\n",
       "</div>"
      ],
      "text/plain": [
       "   age  distance  rate   price\n",
       "0   59       111    28  279847\n",
       "1   49        80    24  172927\n",
       "2   15        87    23  180217\n",
       "3   58        83    27  201817\n",
       "4   61        80    14  100927"
      ]
     },
     "execution_count": 2,
     "metadata": {},
     "output_type": "execute_result"
    }
   ],
   "source": [
    "# Создаём dataset\n",
    "\n",
    "# количество сэмплов\n",
    "n_samples = 1000\n",
    "\n",
    "# генерируем признаки\n",
    "age = np.random.choice(70, n_samples) + 15\n",
    "distance = np.random.choice(120, n_samples) + 25\n",
    "rate = np.random.choice(25, n_samples) + 10\n",
    "\n",
    "# генерируем целевую переменную\n",
    "price = distance * rate * 90 + 127\n",
    "\n",
    "data = pd.DataFrame({'age': age, 'distance': distance, 'rate': rate, 'price': price})\n",
    "data.head(5)"
   ]
  },
  {
   "cell_type": "code",
   "execution_count": 3,
   "metadata": {
    "scrolled": true
   },
   "outputs": [
    {
     "name": "stdout",
     "output_type": "stream",
     "text": [
      "<class 'pandas.core.frame.DataFrame'>\n",
      "RangeIndex: 1000 entries, 0 to 999\n",
      "Data columns (total 4 columns):\n",
      " #   Column    Non-Null Count  Dtype\n",
      "---  ------    --------------  -----\n",
      " 0   age       1000 non-null   int32\n",
      " 1   distance  1000 non-null   int32\n",
      " 2   rate      1000 non-null   int32\n",
      " 3   price     1000 non-null   int32\n",
      "dtypes: int32(4)\n",
      "memory usage: 15.8 KB\n"
     ]
    }
   ],
   "source": [
    "# информация о датасете\n",
    "data.info()"
   ]
  },
  {
   "cell_type": "markdown",
   "metadata": {},
   "source": [
    "Датасет состоит из 1000 строк и 4-х столбцов. Пропущенных данных нет. Значения столбцов числовые дискретные в формате int32. Категориальные признаки отсутствуют, перекодировка признаков не требуется."
   ]
  },
  {
   "cell_type": "code",
   "execution_count": 4,
   "metadata": {},
   "outputs": [
    {
     "data": {
      "text/html": [
       "<div>\n",
       "<style scoped>\n",
       "    .dataframe tbody tr th:only-of-type {\n",
       "        vertical-align: middle;\n",
       "    }\n",
       "\n",
       "    .dataframe tbody tr th {\n",
       "        vertical-align: top;\n",
       "    }\n",
       "\n",
       "    .dataframe thead th {\n",
       "        text-align: right;\n",
       "    }\n",
       "</style>\n",
       "<table border=\"1\" class=\"dataframe\">\n",
       "  <thead>\n",
       "    <tr style=\"text-align: right;\">\n",
       "      <th></th>\n",
       "      <th>age</th>\n",
       "      <th>distance</th>\n",
       "      <th>rate</th>\n",
       "      <th>price</th>\n",
       "    </tr>\n",
       "  </thead>\n",
       "  <tbody>\n",
       "    <tr>\n",
       "      <th>count</th>\n",
       "      <td>1000.000000</td>\n",
       "      <td>1000.000000</td>\n",
       "      <td>1000.000000</td>\n",
       "      <td>1000.000000</td>\n",
       "    </tr>\n",
       "    <tr>\n",
       "      <th>mean</th>\n",
       "      <td>48.186000</td>\n",
       "      <td>83.330000</td>\n",
       "      <td>22.216000</td>\n",
       "      <td>167666.410000</td>\n",
       "    </tr>\n",
       "    <tr>\n",
       "      <th>std</th>\n",
       "      <td>20.053817</td>\n",
       "      <td>34.127229</td>\n",
       "      <td>7.130651</td>\n",
       "      <td>91675.003384</td>\n",
       "    </tr>\n",
       "    <tr>\n",
       "      <th>min</th>\n",
       "      <td>15.000000</td>\n",
       "      <td>25.000000</td>\n",
       "      <td>10.000000</td>\n",
       "      <td>26227.000000</td>\n",
       "    </tr>\n",
       "    <tr>\n",
       "      <th>25%</th>\n",
       "      <td>31.000000</td>\n",
       "      <td>53.000000</td>\n",
       "      <td>16.000000</td>\n",
       "      <td>92467.000000</td>\n",
       "    </tr>\n",
       "    <tr>\n",
       "      <th>50%</th>\n",
       "      <td>47.000000</td>\n",
       "      <td>84.000000</td>\n",
       "      <td>22.000000</td>\n",
       "      <td>149887.000000</td>\n",
       "    </tr>\n",
       "    <tr>\n",
       "      <th>75%</th>\n",
       "      <td>65.000000</td>\n",
       "      <td>111.000000</td>\n",
       "      <td>28.250000</td>\n",
       "      <td>227692.000000</td>\n",
       "    </tr>\n",
       "    <tr>\n",
       "      <th>max</th>\n",
       "      <td>84.000000</td>\n",
       "      <td>144.000000</td>\n",
       "      <td>34.000000</td>\n",
       "      <td>434647.000000</td>\n",
       "    </tr>\n",
       "  </tbody>\n",
       "</table>\n",
       "</div>"
      ],
      "text/plain": [
       "               age     distance         rate          price\n",
       "count  1000.000000  1000.000000  1000.000000    1000.000000\n",
       "mean     48.186000    83.330000    22.216000  167666.410000\n",
       "std      20.053817    34.127229     7.130651   91675.003384\n",
       "min      15.000000    25.000000    10.000000   26227.000000\n",
       "25%      31.000000    53.000000    16.000000   92467.000000\n",
       "50%      47.000000    84.000000    22.000000  149887.000000\n",
       "75%      65.000000   111.000000    28.250000  227692.000000\n",
       "max      84.000000   144.000000    34.000000  434647.000000"
      ]
     },
     "execution_count": 4,
     "metadata": {},
     "output_type": "execute_result"
    }
   ],
   "source": [
    "# статистические данные о датасете\n",
    "data.describe()"
   ]
  },
  {
   "cell_type": "code",
   "execution_count": 5,
   "metadata": {},
   "outputs": [
    {
     "name": "stdout",
     "output_type": "stream",
     "text": [
      "Weights: [  -8.41351105 2007.15171788 7574.17988469]\n",
      "Bias: -167452.1095261595\n",
      "Error: 16443.786809552435\n"
     ]
    }
   ],
   "source": [
    "# выделим в датасете признаки ['age', 'distance', 'rate'] и целевую переменную ['price']\n",
    "\n",
    "X = data[['age', 'distance', 'rate']]\n",
    "y = data['price']\n",
    "\n",
    "# обучение модели линейной регрессии\n",
    "reg = LinearRegression().fit(X, y)\n",
    "\n",
    "# вывод коэффициентов линейной регрессии\n",
    "print(f'Weights: {reg.coef_}')\n",
    "print(f'Bias: {reg.intercept_}')\n",
    "\n",
    "# прогнозирование целевой переменной \n",
    "pred_values = reg.predict(data[['age', 'distance', 'rate']])\n",
    "\n",
    "# вывод абсолютной ошибки линейной регрессии\n",
    "print(f'Error: {mean_absolute_error(pred_values, y)}')"
   ]
  },
  {
   "cell_type": "markdown",
   "metadata": {},
   "source": [
    "Результат модели содержит большие значения коэффициентов. Также ошибка очень велика по сравнению со значением целевой переменной. Error: 16042.342696488864, median price: 146512.0"
   ]
  },
  {
   "cell_type": "code",
   "execution_count": 6,
   "metadata": {
    "scrolled": true
   },
   "outputs": [
    {
     "data": {
      "text/plain": [
       "149887.0"
      ]
     },
     "execution_count": 6,
     "metadata": {},
     "output_type": "execute_result"
    }
   ],
   "source": [
    "y.median()"
   ]
  },
  {
   "cell_type": "markdown",
   "metadata": {},
   "source": [
    "Посмотрим на результат модели при отбрасывании одного из признаков, например age."
   ]
  },
  {
   "cell_type": "code",
   "execution_count": 7,
   "metadata": {},
   "outputs": [
    {
     "name": "stdout",
     "output_type": "stream",
     "text": [
      "Weights: [2007.12322232 7574.94114966]\n",
      "Bias: -167872.0606969621\n",
      "Error: 16441.62299078795\n"
     ]
    }
   ],
   "source": [
    "X = data[['distance', 'rate']]\n",
    "y = data['price']\n",
    "reg = LinearRegression().fit(X, y)\n",
    "print(f'Weights: {reg.coef_}')\n",
    "print(f'Bias: {reg.intercept_}')\n",
    "\n",
    "pred_values = reg.predict(data[['distance', 'rate']])\n",
    "print(f'Error: {mean_absolute_error(pred_values, y)}')"
   ]
  },
  {
   "cell_type": "markdown",
   "metadata": {},
   "source": [
    "Результат модели почти не отличается от предыдущего. Можно предположить, что признак age не оказывает влияние на целевую переменную price.\n",
    "\n",
    "Попробуем вручную сгенерировать новый признак из произведения двух оставшихся признаков (предугадать зависимость price от признаков distance, rate).\n",
    "\n",
    "Используем искусственный признак для обучения модели."
   ]
  },
  {
   "cell_type": "code",
   "execution_count": 8,
   "metadata": {},
   "outputs": [
    {
     "data": {
      "text/html": [
       "<div>\n",
       "<style scoped>\n",
       "    .dataframe tbody tr th:only-of-type {\n",
       "        vertical-align: middle;\n",
       "    }\n",
       "\n",
       "    .dataframe tbody tr th {\n",
       "        vertical-align: top;\n",
       "    }\n",
       "\n",
       "    .dataframe thead th {\n",
       "        text-align: right;\n",
       "    }\n",
       "</style>\n",
       "<table border=\"1\" class=\"dataframe\">\n",
       "  <thead>\n",
       "    <tr style=\"text-align: right;\">\n",
       "      <th></th>\n",
       "      <th>age</th>\n",
       "      <th>distance</th>\n",
       "      <th>rate</th>\n",
       "      <th>price</th>\n",
       "      <th>mult</th>\n",
       "    </tr>\n",
       "  </thead>\n",
       "  <tbody>\n",
       "    <tr>\n",
       "      <th>0</th>\n",
       "      <td>59</td>\n",
       "      <td>111</td>\n",
       "      <td>28</td>\n",
       "      <td>279847</td>\n",
       "      <td>3108</td>\n",
       "    </tr>\n",
       "    <tr>\n",
       "      <th>1</th>\n",
       "      <td>49</td>\n",
       "      <td>80</td>\n",
       "      <td>24</td>\n",
       "      <td>172927</td>\n",
       "      <td>1920</td>\n",
       "    </tr>\n",
       "    <tr>\n",
       "      <th>2</th>\n",
       "      <td>15</td>\n",
       "      <td>87</td>\n",
       "      <td>23</td>\n",
       "      <td>180217</td>\n",
       "      <td>2001</td>\n",
       "    </tr>\n",
       "    <tr>\n",
       "      <th>3</th>\n",
       "      <td>58</td>\n",
       "      <td>83</td>\n",
       "      <td>27</td>\n",
       "      <td>201817</td>\n",
       "      <td>2241</td>\n",
       "    </tr>\n",
       "    <tr>\n",
       "      <th>4</th>\n",
       "      <td>61</td>\n",
       "      <td>80</td>\n",
       "      <td>14</td>\n",
       "      <td>100927</td>\n",
       "      <td>1120</td>\n",
       "    </tr>\n",
       "  </tbody>\n",
       "</table>\n",
       "</div>"
      ],
      "text/plain": [
       "   age  distance  rate   price  mult\n",
       "0   59       111    28  279847  3108\n",
       "1   49        80    24  172927  1920\n",
       "2   15        87    23  180217  2001\n",
       "3   58        83    27  201817  2241\n",
       "4   61        80    14  100927  1120"
      ]
     },
     "execution_count": 8,
     "metadata": {},
     "output_type": "execute_result"
    }
   ],
   "source": [
    "# Создаем новый признак\n",
    "data['mult'] = data['distance'] * data['rate']\n",
    "data.head(5)"
   ]
  },
  {
   "cell_type": "code",
   "execution_count": 9,
   "metadata": {},
   "outputs": [
    {
     "name": "stdout",
     "output_type": "stream",
     "text": [
      "Weights: [90.]\n",
      "Bias: 127.0\n",
      "Error: 0.0\n"
     ]
    }
   ],
   "source": [
    "X = data[['mult']]\n",
    "y = data['price']\n",
    "reg = LinearRegression().fit(X, y)\n",
    "print(f'Weights: {reg.coef_}')\n",
    "print(f'Bias: {reg.intercept_}')\n",
    "\n",
    "pred_values = reg.predict(data[['mult']])\n",
    "print(f'Error: {mean_absolute_error(pred_values, y)}')"
   ]
  },
  {
   "cell_type": "markdown",
   "metadata": {},
   "source": [
    "Модель дает низкую ошибку, т.е. предположение что целевая переменная зависит от произведения признаков distance, rate оказалось верным.\n",
    "\n",
    "(Коэффициенты модели такие же, как в формуле генерации целевой переменной price = distance * rate * 90 + 127)\n",
    "\n",
    "Как видно из графика, линейная регрессия точно описывает зависимость целевой переменной."
   ]
  },
  {
   "cell_type": "code",
   "execution_count": 10,
   "metadata": {
    "scrolled": true
   },
   "outputs": [
    {
     "data": {
      "text/plain": [
       "<AxesSubplot:xlabel='mult', ylabel='price'>"
      ]
     },
     "execution_count": 10,
     "metadata": {},
     "output_type": "execute_result"
    },
    {
     "data": {
      "image/png": "[encoded data removed]",
      "text/plain": [
       "<Figure size 432x288 with 1 Axes>"
      ]
     },
     "metadata": {},
     "output_type": "display_data"
    }
   ],
   "source": [
    "# график линейной регрессии\n",
    "sns.set_theme(color_codes=True)\n",
    "sns.regplot(x = 'mult', y = 'price', data = data)"
   ]
  },
  {
   "cell_type": "markdown",
   "metadata": {},
   "source": [
    "Если форму зависимости целевой переменной от признаков предположить сложно, можно использовать PolynomialFeatures.\n",
    "\n",
    "Сгенерируем полиномиальную зависимость признаков 2-й степени и построим на них линейную регрессию."
   ]
  },
  {
   "cell_type": "code",
   "execution_count": 11,
   "metadata": {},
   "outputs": [],
   "source": [
    "from sklearn.preprocessing import PolynomialFeatures\n"
   ]
  },
  {
   "cell_type": "code",
   "execution_count": 12,
   "metadata": {},
   "outputs": [
    {
     "data": {
      "text/plain": [
       "['1', 'x0', 'x1', 'x2', 'x0^2', 'x0 x1', 'x0 x2', 'x1^2', 'x1 x2', 'x2^2']"
      ]
     },
     "execution_count": 12,
     "metadata": {},
     "output_type": "execute_result"
    }
   ],
   "source": [
    "# генерируем зависимость признаков\n",
    "\n",
    "poly = PolynomialFeatures(2) # 2 - степень полинома\n",
    "\n",
    "X = poly.fit_transform(data[['age', 'distance', 'rate']])\n",
    "y = data['price']\n",
    "\n",
    "poly.get_feature_names()"
   ]
  },
  {
   "cell_type": "markdown",
   "metadata": {},
   "source": [
    "Используем эти признаки для обучения модели линейной регрессии."
   ]
  },
  {
   "cell_type": "code",
   "execution_count": 13,
   "metadata": {},
   "outputs": [
    {
     "name": "stdout",
     "output_type": "stream",
     "text": [
      "Weights: [ 0.00000000e+00 -4.86366503e-12 -4.67041683e-12  1.37620471e-12\n",
      "  3.24185123e-14 -3.01980663e-14 -1.77635684e-14  1.06581410e-14\n",
      "  9.00000000e+01 -5.52891066e-14]\n",
      "Bias: 127.00000000043656\n",
      "Error: 1.11504050437361e-10\n"
     ]
    }
   ],
   "source": [
    "reg = LinearRegression().fit(X, y)\n",
    "print(f'Weights: {reg.coef_}')\n",
    "print(f'Bias: {reg.intercept_}')\n",
    "\n",
    "pred_values = reg.predict(X)\n",
    "print(f'Error: {mean_absolute_error(pred_values, y)}')"
   ]
  },
  {
   "cell_type": "markdown",
   "metadata": {},
   "source": [
    "Как видно из результатов модели, значения коэффициентов '1', 'x0', 'x1', 'x2', 'x0^2', 'x0 x1', 'x0 x2', 'x1^2', 'x2^2' очень малы и не оказывают влияния на зависимость, т.е. эти признаки не соответствуют модели зависимости целевой переменной.\n",
    "\n",
    "Значение коэффициента 'x1 x2': 9.00000000e+01 и Bias: 126.99999999947613. Таким образом можно найти признаки, оказывающие влияние на целевую переменную и форму зависимости ('x1*x2').\n",
    "Зависимость соответствует формуле генерации целевой переменной price = distance * rate * 90 + 127.\n",
    "\n",
    "Ошибка Error: 1.4120087143965066e-10 очень низкая.\n",
    "\n",
    "Линейная регрессия точно описывает зависимость целевой переменной."
   ]
  },
  {
   "cell_type": "code",
   "execution_count": null,
   "metadata": {},
   "outputs": [],
   "source": []
  }
 ],
 "metadata": {
  "kernelspec": {
   "display_name": "Python 3",
   "language": "python",
   "name": "python3"
  },
  "language_info": {
   "codemirror_mode": {
    "name": "ipython",
    "version": 3
   },
   "file_extension": ".py",
   "mimetype": "text/x-python",
   "name": "python",
   "nbconvert_exporter": "python",
   "pygments_lexer": "ipython3",
   "version": "3.8.5"
  }
 },
 "nbformat": 4,
 "nbformat_minor": 4
}
