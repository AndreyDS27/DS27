{
 "cells": [
  {
   "cell_type": "markdown",
   "metadata": {},
   "source": [
    "# Задание 1"
   ]
  },
  {
   "cell_type": "markdown",
   "metadata": {},
   "source": [
    "### Task1"
   ]
  },
  {
   "cell_type": "code",
   "execution_count": 15,
   "metadata": {},
   "outputs": [
    {
     "name": "stdout",
     "output_type": "stream",
     "text": [
      "Фраза 2 длиннее фразы 1\n"
     ]
    }
   ],
   "source": [
    "#Task1\n",
    "\n",
    "'''Даны 2 переменных, в которых хранятся строки произвольной длины: phrase_1 и phrase_2.\n",
    "Напишите код, который проверяет какая из этих строк длиннее.'''\n",
    "\n",
    "\n",
    "phrase_1 = '640Кб должно хватить для любых задач. Билл Гейтс (по легенде)'\n",
    "phrase_2 = 'Насколько проще было бы писать программы, если бы не заказчики'\n",
    "\n",
    "\n",
    "if len(phrase_1) > len(phrase_2):\n",
    "    print('Фраза 1 длиннее фразы 2')\n",
    "    \n",
    "elif len(phrase_1) == len(phrase_2):\n",
    "    print('Длина фраз одинакова')\n",
    "    \n",
    "else:\n",
    "    print('Фраза 2 длиннее фразы 1')\n"
   ]
  },
  {
   "cell_type": "markdown",
   "metadata": {},
   "source": [
    "### Task2"
   ]
  },
  {
   "cell_type": "code",
   "execution_count": 7,
   "metadata": {},
   "outputs": [
    {
     "name": "stdout",
     "output_type": "stream",
     "text": [
      "Введите четыре цифры года: 1600\n",
      "1600\n",
      "Високосный год\n"
     ]
    }
   ],
   "source": [
    "#Task2\n",
    "\n",
    "'''Дана переменная, в которой хранится четырехзначное число (год).\n",
    "   Необходимо написать программу, которая выведет, является ли данный год високосным или обычным.'''\n",
    "\n",
    "year = input('Введите четыре цифры года: ')\n",
    "year = int(year)\n",
    "print(year)\n",
    "\n",
    "if year %4 == 0 or year %400 == 0:\n",
    "    print('Високосный год')\n",
    "else:\n",
    "    print('Обычный год')"
   ]
  },
  {
   "cell_type": "markdown",
   "metadata": {},
   "source": [
    "### Task3"
   ]
  },
  {
   "cell_type": "code",
   "execution_count": null,
   "metadata": {},
   "outputs": [],
   "source": [
    "#Task3\n",
    "\n",
    "'''Необходимо написать программу, которая будет запрашивать\n",
    "   у пользователя месяц и дату рождения и выводить соответствующий знак зодиака.'''\n",
    "\n",
    "#Овен (21 марта — 20 апреля)\n",
    "#Телец (21 апреля — 21 мая)\n",
    "#Близнецы (22 мая — 21 июня)\n",
    "#Рак (22 июня — 22 июля)\n",
    "#Лев (23 июля — 21 августа)\n",
    "#Дева (22 августа — 23 сентября)\n",
    "#Весы (24 сентября — 23 октября)\n",
    "#Скорпион (24 октября — 22 ноября)\n",
    "#Стрелец (23 ноября — 22 декабря)\n",
    "#Козерог (23 декабря — 20 января)\n",
    "#Водолей (21 января — 19 февраля)\n",
    "#Рыбы (20 февраля — 20 марта)\n",
    "\n",
    "\n",
    "day = input('Введите день: ')\n",
    "day = int(day)\n",
    "month = input('Введите месяц: ')\n",
    "month = month.lower()\n",
    "\n",
    "#Овен (21 марта — 20 апреля)\n",
    "if (month == 'март' and 21<= day <=31) or (month == 'апрель' and 1<= day <=20):\n",
    "    print('Ваш знак зодиака - Овен')\n",
    "#Телец (21 апреля — 21 мая)    \n",
    "elif (month == 'апрель' and 22<= day <=30) or (month == 'май' and 1<= day <=21):\n",
    "    print('Ваш знак зодиака - Телец')\n",
    "\n",
    "#Близнецы (22 мая — 21 июня)\n",
    "elif (month == 'май' and 22<= day <=31) or (month == 'июнь' and 1<= day <=21):\n",
    "    print('Ваш знак зодиака - Близнецы')\n",
    "\n",
    "#Рак (22 июня — 22 июля)   \n",
    "elif (month == 'июнь' and 23<= day <=30) or (month == 'июль' and 1<= day <=22):\n",
    "    print('Ваш знак зодиака - Рак')\n",
    "    \n",
    "#Лев (23 июля — 21 августа)\n",
    "elif (month == 'июль' and 23<= day <=31) or (month == 'август' and 1<= day <=21):\n",
    "    print('Ваш знак зодиака - Лев')\n",
    "\n",
    "#Дева (22 августа — 23 сентября)\n",
    "elif (month == 'август' and 22<= day <=31) or (month == 'сентябрь' and 1<= day <=23):\n",
    "    print('Ваш знак зодиака - Дева')\n",
    "    \n",
    "#Весы (24 сентября — 23 октября)\n",
    "elif (month == 'сентябрь' and 24<= day <=30) or (month == 'октябрь' and 1<= day <=23):\n",
    "    print('Ваш знак зодиака - Весы')\n",
    "\n",
    "#Скорпион (24 октября — 22 ноября)\n",
    "elif (month == 'октябрь' and 24<= day <=31) or (month == 'ноябрь' and 1<= day <=22):\n",
    "    print('Ваш знак зодиака - Скорпион')\n",
    "\n",
    "#Стрелец (23 ноября — 22 декабря)\n",
    "elif (month == 'ноябрь' and 23<= day <=30) or (month == 'декабрь' and 1<= day <=22):\n",
    "    print('Ваш знак зодиака - Стрелец')\n",
    "\n",
    "#Козерог (23 декабря — 20 января)\n",
    "elif (month == 'декабрь' and 23<= day <=31) or (month == 'январь' and 1<= day <=20):\n",
    "    print('Ваш знак зодиака - Козерог')\n",
    "\n",
    "#Водолей (21 января — 19 февраля)\n",
    "elif (month == 'январь' and 21<= day <=31) or (month == 'февраль' and 1<= day <=19):\n",
    "    print('Ваш знак зодиака - Водолей')\n",
    "else:\n",
    "    print('Ваш знак зодиака - Рыбы')\n",
    "\n",
    "\n",
    "\n",
    "\n",
    "\n"
   ]
  },
  {
   "cell_type": "markdown",
   "metadata": {},
   "source": [
    "### Task4"
   ]
  },
  {
   "cell_type": "code",
   "execution_count": 13,
   "metadata": {},
   "outputs": [
    {
     "name": "stdout",
     "output_type": "stream",
     "text": [
      "Коробка №2\n"
     ]
    }
   ],
   "source": [
    "#Task4\n",
    "\n",
    "'''Вам нужно написать программу для подбора упаковок по размерам товара. Размеры хранятся в переменных (в сантиметрах):\n",
    "\n",
    "width = 10\n",
    "length = 205\n",
    "height = 5\n",
    "Используйте следующие правила:\n",
    "\n",
    "если каждое из трех измерений менее 15 сантиметров, то выведите на экран \"Коробка №1\";\n",
    "если хотя бы одно из измерений больше 15 сантиметров, но менее 50 сантиметров, то выводите \"Коробка №2\";\n",
    "если длина товара больше 2 метров, то выводите \"Упаковка для лыж\";\n",
    "во всех остальных случаях выводите \"Стандартная коробка №3\".'''\n",
    "\n",
    "width = 45\n",
    "length = 11\n",
    "height = 45\n",
    "\n",
    "if length > 200:\n",
    "    print('Упаковка для лыж')\n",
    "    \n",
    "elif 15 < width < 50 or 15 < length < 50 or 15 < height < 50:\n",
    "    print('Коробка №2')    \n",
    "    \n",
    "elif width < 15 and length < 15 and height < 15:\n",
    "    print('Коробка №1')\n",
    "    \n",
    "else:\n",
    "    print('Стандартная коробка №3')\n",
    " "
   ]
  },
  {
   "cell_type": "markdown",
   "metadata": {},
   "source": [
    "### Task5"
   ]
  },
  {
   "cell_type": "code",
   "execution_count": 15,
   "metadata": {},
   "outputs": [
    {
     "name": "stdout",
     "output_type": "stream",
     "text": [
      "Введите номер билета: 123456\n",
      "123456\n",
      " Несчастливый билет!\n"
     ]
    }
   ],
   "source": [
    "#Task5\n",
    "\n",
    "'''Дана переменная, в которой хранится шестизначное число (номер проездного билета).\n",
    "Напишите программу, которая будет определять, является ли данный билет \"счастливым\".\n",
    "Билет считается счастливым, если сумма первых трех цифр совпадает с суммой последних трех цифр номера.'''\n",
    "# sum1 = 0\n",
    "# sum2 = 0\n",
    "# number = input('Введите номер билета: ')\n",
    "# for i in range(6):\n",
    "#     if i<3:\n",
    "#         sum1 += int(number[i])\n",
    "#     else:\n",
    "#         sum2 += int(number[i])\n",
    "# if sum1 == sum2:\n",
    "#     print(f'{number}\\n Счастливый билет!')\n",
    "# else:\n",
    "#     print(f'{number}\\n Несчастливый билет!')\n",
    "\n",
    "number = input('Введите номер билета: ')\n",
    "number = int(number)\n",
    "\n",
    "num_1 = number // 100000\n",
    "num_2 = number % 100000 // 10000\n",
    "num_3 = number % 10000 // 1000\n",
    "num_4 = number % 1000 // 100\n",
    "num_5 = number % 100// 10\n",
    "num_6 = number % 10\n",
    "\n",
    "sum_1 = num_1 + num_2 + num_3\n",
    "sum_2 = num_4 + num_5 + num_6\n",
    "\n",
    "if sum_1 == sum_2:\n",
    "    print(f'{number}\\n Счастливый билет!')\n",
    "else:\n",
    "    print(f'{number}\\n Несчастливый билет!')"
   ]
  },
  {
   "cell_type": "code",
   "execution_count": null,
   "metadata": {},
   "outputs": [],
   "source": []
  },
  {
   "cell_type": "code",
   "execution_count": null,
   "metadata": {},
   "outputs": [],
   "source": []
  }
 ],
 "metadata": {
  "kernelspec": {
   "display_name": "Python 3",
   "language": "python",
   "name": "python3"
  },
  "language_info": {
   "codemirror_mode": {
    "name": "ipython",
    "version": 3
   },
   "file_extension": ".py",
   "mimetype": "text/x-python",
   "name": "python",
   "nbconvert_exporter": "python",
   "pygments_lexer": "ipython3",
   "version": "3.8.5"
  }
 },
 "nbformat": 4,
 "nbformat_minor": 4
}
