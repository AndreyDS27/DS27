{
 "cells": [
  {
   "cell_type": "code",
   "execution_count": 1,
   "metadata": {},
   "outputs": [],
   "source": [
    "import numpy as np"
   ]
  },
  {
   "cell_type": "code",
   "execution_count": 2,
   "metadata": {},
   "outputs": [
    {
     "data": {
      "text/plain": [
       "4"
      ]
     },
     "execution_count": 2,
     "metadata": {},
     "output_type": "execute_result"
    }
   ],
   "source": [
    "# генерируем дискретную величину\n",
    "np.random.randint(1, 5)"
   ]
  },
  {
   "cell_type": "code",
   "execution_count": 3,
   "metadata": {},
   "outputs": [
    {
     "data": {
      "text/plain": [
       "array([1, 4, 1, 1, 1, 4, 2, 1, 2, 3, 3, 2, 2, 4, 3, 3, 4, 1, 3, 4, 3, 4,\n",
       "       3, 4, 3, 3, 3, 4, 4, 3, 3, 1, 2, 1, 2, 4, 2, 3, 3, 3, 4, 3, 3, 3,\n",
       "       4, 4, 1, 2, 4, 3, 3, 4, 4, 4, 1, 3, 3, 4, 2, 4, 2, 4, 4, 3, 1, 4,\n",
       "       2, 2, 4, 3, 4, 3, 3, 2, 4, 3, 1, 4, 1, 1, 2, 2, 3, 4, 3, 2, 4, 4,\n",
       "       1, 1, 1, 4, 1, 4, 4, 1, 1, 3, 2, 4])"
      ]
     },
     "execution_count": 3,
     "metadata": {},
     "output_type": "execute_result"
    }
   ],
   "source": [
    "np.random.randint(1, 5, 100)"
   ]
  },
  {
   "cell_type": "code",
   "execution_count": 4,
   "metadata": {},
   "outputs": [
    {
     "data": {
      "text/plain": [
       "array([3.95313982e-01, 2.08303758e-01, 8.56588351e-01, 3.07823616e-01,\n",
       "       7.05973952e-01, 3.67408373e-01, 6.74231974e-01, 7.12625111e-01,\n",
       "       4.52055121e-01, 3.78330549e-03, 2.40464258e-01, 2.79474836e-01,\n",
       "       9.05389250e-01, 4.60526148e-01, 1.87361906e-01, 6.40139884e-01,\n",
       "       3.02137338e-01, 1.73994835e-01, 6.74989954e-01, 7.72710218e-02,\n",
       "       9.65862449e-01, 6.68257195e-01, 1.74128285e-01, 6.57506678e-01,\n",
       "       4.54883855e-01, 6.59909521e-01, 7.48666290e-01, 6.97454549e-01,\n",
       "       3.69147842e-01, 9.23292312e-01, 8.23637803e-01, 8.11527821e-01,\n",
       "       5.57982080e-01, 2.71060114e-01, 2.76151143e-01, 3.62074882e-01,\n",
       "       4.70015377e-01, 6.06205138e-01, 7.19660449e-01, 4.12698499e-01,\n",
       "       9.50691926e-01, 3.86727362e-01, 1.55862087e-01, 7.79807175e-02,\n",
       "       5.28226391e-01, 6.66399285e-01, 3.88398896e-01, 5.88756217e-01,\n",
       "       3.64880511e-01, 7.61510150e-01, 1.95522220e-01, 8.11566512e-01,\n",
       "       4.13628616e-01, 5.47262181e-01, 4.51629658e-01, 4.16813996e-01,\n",
       "       6.40641970e-01, 8.60062514e-01, 7.71747821e-01, 2.10877657e-01,\n",
       "       9.56183028e-01, 1.78695351e-01, 6.69280258e-01, 1.28954032e-02,\n",
       "       7.04906053e-01, 6.59800929e-01, 8.02321413e-01, 3.71725962e-01,\n",
       "       4.03874489e-01, 8.14283237e-01, 4.38074742e-01, 2.05323662e-01,\n",
       "       7.29333675e-01, 7.27092159e-01, 3.01117430e-01, 9.49313676e-01,\n",
       "       7.50079064e-01, 2.27536323e-01, 3.13294613e-01, 5.98315658e-01,\n",
       "       7.54167760e-01, 6.67180606e-01, 1.05612238e-01, 5.01303794e-01,\n",
       "       9.18419793e-03, 1.30462925e-02, 1.50188883e-01, 1.16667114e-01,\n",
       "       8.85836785e-01, 7.17083221e-01, 1.55881010e-01, 7.29390107e-01,\n",
       "       6.31830319e-01, 2.41795381e-01, 4.92912658e-01, 6.65956362e-01,\n",
       "       9.82334929e-02, 6.80348168e-01, 2.64078897e-04, 2.27608622e-02])"
      ]
     },
     "execution_count": 4,
     "metadata": {},
     "output_type": "execute_result"
    }
   ],
   "source": [
    "# генерируем непрерывную величину\n",
    "np.random.random(100)"
   ]
  },
  {
   "cell_type": "code",
   "execution_count": 5,
   "metadata": {},
   "outputs": [
    {
     "data": {
      "text/plain": [
       "3.062676773159362"
      ]
     },
     "execution_count": 5,
     "metadata": {},
     "output_type": "execute_result"
    }
   ],
   "source": [
    "np.random.uniform(1, 5)"
   ]
  },
  {
   "cell_type": "code",
   "execution_count": 6,
   "metadata": {},
   "outputs": [
    {
     "data": {
      "text/plain": [
       "array([2.00827549, 4.69301296, 1.95935677, 1.79898799, 3.82527343,\n",
       "       3.15366855, 1.1289788 , 1.85846236, 2.27679362, 2.19402103,\n",
       "       2.97057913, 2.9882075 , 2.2850737 , 4.23815667, 3.55706626,\n",
       "       2.87341381, 2.54950638, 1.13997095, 2.08341045, 3.74357622,\n",
       "       1.22621995, 1.00449836, 1.42137684, 4.74722089, 3.42617868,\n",
       "       2.61773515, 4.27523802, 2.86166574, 4.47782457, 2.69335575,\n",
       "       2.95020719, 2.65005643, 1.06808826, 2.07884773, 1.58774247,\n",
       "       3.56962166, 1.91142103, 4.59792376, 2.60088987, 1.9393291 ,\n",
       "       2.29358726, 4.85559034, 3.36159408, 4.83098422, 2.0551421 ,\n",
       "       4.75432955, 2.53041706, 1.99637874, 3.81659085, 1.5018751 ,\n",
       "       1.69177171, 3.56694463, 4.38356598, 3.32549536, 4.0258946 ,\n",
       "       2.87245334, 4.01652537, 4.47548139, 3.88895587, 1.88477848,\n",
       "       3.95766493, 1.53791961, 1.60197371, 3.04472896, 4.4034511 ,\n",
       "       4.70975109, 3.7672906 , 4.11326656, 3.43025766, 4.21887398,\n",
       "       2.00710062, 4.31861631, 4.33537446, 3.92146694, 2.41541588,\n",
       "       1.81759416, 2.7024828 , 2.31813527, 2.15812634, 1.8417439 ,\n",
       "       4.48021435, 3.8336377 , 3.15598355, 2.89601303, 1.58621532,\n",
       "       3.66383186, 3.04103734, 3.67170584, 3.7198032 , 4.16822492,\n",
       "       4.61571425, 4.719939  , 4.02891004, 1.55231231, 2.86764282,\n",
       "       4.96137976, 2.84074056, 1.71392491, 2.31397238, 4.68841269])"
      ]
     },
     "execution_count": 6,
     "metadata": {},
     "output_type": "execute_result"
    }
   ],
   "source": [
    "np.random.uniform(1, 5, 100)"
   ]
  },
  {
   "cell_type": "markdown",
   "metadata": {},
   "source": [
    "**Задача 1.** Оценить вероятность того, что на игральной кости выпадет больше 4 очков. Сравнить с теоретической вероятностью."
   ]
  },
  {
   "cell_type": "code",
   "execution_count": 7,
   "metadata": {},
   "outputs": [
    {
     "name": "stdout",
     "output_type": "stream",
     "text": [
      "337 1000 0.337 0.3333333333333333\n"
     ]
    }
   ],
   "source": [
    "import numpy as np\n",
    "# np.random.seed(None)\n",
    "trials = 1000    # Количество попыток\n",
    "successes = 0    # Количество успехов\n",
    "\n",
    "for i in range(trials):\n",
    "    random_score = np.random.randint(1, 7)    # Случайное количество очков от 1 до 6\n",
    "    if random_score > 4:\n",
    "        successes += 1\n",
    "        \n",
    "p_monte_carlo = successes / trials    # Вероятность из моделирования\n",
    "p = 2 / 6                             # Теоретическая вероятность\n",
    "\n",
    "print(successes, trials, p_monte_carlo, p)"
   ]
  },
  {
   "cell_type": "markdown",
   "metadata": {},
   "source": [
    "**Задача 1А** (опциональная). Дан квадрат, в который вписан круг (касаясь сторон квадрата). В квадрат случайным образом попадают точки. Какова вероятность, что наугад взятая точка попадёт в круг?  \n",
    "_Подсказка:_ Удобно взять квардат со стороной, равной 2, и отсчитывать координаты точек от его центра."
   ]
  },
  {
   "cell_type": "code",
   "execution_count": null,
   "metadata": {},
   "outputs": [],
   "source": []
  },
  {
   "cell_type": "code",
   "execution_count": null,
   "metadata": {},
   "outputs": [],
   "source": []
  },
  {
   "cell_type": "markdown",
   "metadata": {},
   "source": [
    "**Задача 2.** Смоделировать стрельбу по мишени."
   ]
  },
  {
   "cell_type": "code",
   "execution_count": 8,
   "metadata": {},
   "outputs": [
    {
     "data": {
      "text/plain": [
       "<matplotlib.collections.PathCollection at 0x2279cd80970>"
      ]
     },
     "execution_count": 8,
     "metadata": {},
     "output_type": "execute_result"
    },
    {
     "data": {
      "image/png": "[encoded data removed]",
      "text/plain": [
       "<Figure size 432x288 with 1 Axes>"
      ]
     },
     "metadata": {
      "needs_background": "light"
     },
     "output_type": "display_data"
    }
   ],
   "source": [
    "import matplotlib.pyplot as plt\n",
    "\n",
    "shots = 1000    # Количество выстрелов\n",
    "std_dev = 1 # Стандартное отклонение (на сколько мы в среднем будем мазать)\n",
    "\n",
    "x = np.random.normal(0, std_dev, shots) # 0 - и среднее, и мода, и медиана\n",
    "y = np.random.normal(0, std_dev, shots)\n",
    "\n",
    "\n",
    "plt.scatter(x, y)\n",
    "# почему разброс от -3 до 3?"
   ]
  },
  {
   "cell_type": "markdown",
   "metadata": {},
   "source": [
    "**Задача 3.** Графически определить распределение измеренных значений физической величины, когда измерительный прибор имеет случайную погрешность."
   ]
  },
  {
   "cell_type": "code",
   "execution_count": 9,
   "metadata": {},
   "outputs": [
    {
     "data": {
      "text/plain": [
       "count    1040.000000\n",
       "mean       -9.797112\n",
       "std         0.087958\n",
       "min       -10.030373\n",
       "25%        -9.866481\n",
       "50%        -9.800747\n",
       "75%        -9.727398\n",
       "max        -9.570811\n",
       "Name: az, dtype: float64"
      ]
     },
     "execution_count": 9,
     "metadata": {},
     "output_type": "execute_result"
    }
   ],
   "source": [
    "import pandas as pd\n",
    "\n",
    "data = pd.read_csv(\"data.log\", sep=\" \")[\"az\"]\n",
    "data.describe()"
   ]
  },
  {
   "cell_type": "code",
   "execution_count": 10,
   "metadata": {},
   "outputs": [
    {
     "data": {
      "text/plain": [
       "<AxesSubplot:>"
      ]
     },
     "execution_count": 10,
     "metadata": {},
     "output_type": "execute_result"
    },
    {
     "data": {
      "image/png": "[encoded data removed]",
      "text/plain": [
       "<Figure size 432x288 with 1 Axes>"
      ]
     },
     "metadata": {
      "needs_background": "light"
     },
     "output_type": "display_data"
    }
   ],
   "source": [
    "data.plot()"
   ]
  },
  {
   "cell_type": "code",
   "execution_count": 11,
   "metadata": {},
   "outputs": [
    {
     "ename": "NameError",
     "evalue": "name 'uni' is not defined",
     "output_type": "error",
     "traceback": [
      "\u001b[1;31m---------------------------------------------------------------------------\u001b[0m",
      "\u001b[1;31mNameError\u001b[0m                                 Traceback (most recent call last)",
      "\u001b[1;32m<ipython-input-11-f9cbf9684830>\u001b[0m in \u001b[0;36m<module>\u001b[1;34m\u001b[0m\n\u001b[1;32m----> 1\u001b[1;33m \u001b[0mplt\u001b[0m\u001b[1;33m.\u001b[0m\u001b[0mhist\u001b[0m\u001b[1;33m(\u001b[0m\u001b[0muni\u001b[0m\u001b[1;33m,\u001b[0m \u001b[0mbins\u001b[0m\u001b[1;33m=\u001b[0m\u001b[1;36m11\u001b[0m\u001b[1;33m)\u001b[0m\u001b[1;33m\u001b[0m\u001b[1;33m\u001b[0m\u001b[0m\n\u001b[0m\u001b[0;32m      2\u001b[0m \u001b[0mplt\u001b[0m\u001b[1;33m.\u001b[0m\u001b[0mshow\u001b[0m\u001b[1;33m(\u001b[0m\u001b[1;33m)\u001b[0m\u001b[1;33m\u001b[0m\u001b[1;33m\u001b[0m\u001b[0m\n\u001b[0;32m      3\u001b[0m \u001b[0mplt\u001b[0m\u001b[1;33m.\u001b[0m\u001b[0mhist\u001b[0m\u001b[1;33m(\u001b[0m\u001b[0mnormal\u001b[0m\u001b[1;33m,\u001b[0m \u001b[0mbins\u001b[0m\u001b[1;33m=\u001b[0m\u001b[1;36m11\u001b[0m\u001b[1;33m)\u001b[0m\u001b[1;33m\u001b[0m\u001b[1;33m\u001b[0m\u001b[0m\n\u001b[0;32m      4\u001b[0m \u001b[0mplt\u001b[0m\u001b[1;33m.\u001b[0m\u001b[0mshow\u001b[0m\u001b[1;33m(\u001b[0m\u001b[1;33m)\u001b[0m\u001b[1;33m\u001b[0m\u001b[1;33m\u001b[0m\u001b[0m\n\u001b[0;32m      5\u001b[0m \u001b[0mplt\u001b[0m\u001b[1;33m.\u001b[0m\u001b[0mhist\u001b[0m\u001b[1;33m(\u001b[0m\u001b[0mdata\u001b[0m\u001b[1;33m,\u001b[0m \u001b[0mbins\u001b[0m\u001b[1;33m=\u001b[0m\u001b[1;36m11\u001b[0m\u001b[1;33m)\u001b[0m\u001b[1;33m\u001b[0m\u001b[1;33m\u001b[0m\u001b[0m\n",
      "\u001b[1;31mNameError\u001b[0m: name 'uni' is not defined"
     ]
    }
   ],
   "source": [
    "plt.hist(uni, bins=11)\n",
    "plt.show()\n",
    "plt.hist(normal, bins=11)\n",
    "plt.show()\n",
    "plt.hist(data, bins=11)\n",
    "plt.show()"
   ]
  },
  {
   "cell_type": "markdown",
   "metadata": {},
   "source": [
    "**Задача 4.** Рассчитать вероятность того, что пациент заражён COVID-19, если известно, что тест дал положительный результат. Сравнить с результатом моделирования."
   ]
  },
  {
   "cell_type": "code",
   "execution_count": null,
   "metadata": {},
   "outputs": [],
   "source": [
    "prev = 0.50    # Распространённость болезни\n",
    "sens = 0.95    # Чувствительность теста\n",
    "spec = 0.80    # Специфичность теста\n",
    "\n",
    "p = (sens * prev) / (sens * prev + (1 - spec) * (1 - prev))   # Теоретическая вероятность \n",
    "print(p)"
   ]
  },
  {
   "cell_type": "code",
   "execution_count": null,
   "metadata": {},
   "outputs": [],
   "source": [
    "population = 100    # Количество испытуемых\n",
    "\n",
    "true_pos = 0    # Количество больных с положительным тестом\n",
    "false_pos = 0   # Количество здоровых с положительным тестом\n",
    "\n",
    "for i in range(population):\n",
    "    # Наугад решаем, заражён ли человек\n",
    "    # для этого генерируем случайную величину от 0 до 1     \n",
    "    infected = np.random.uniform() < prev\n",
    "    \n",
    "    # Наугад решаем, дал ли тест положительный результат \n",
    "    positive = np.random.uniform() < sens if infected else np.random.uniform() < 1 - spec\n",
    "    \n",
    "    if positive:\n",
    "        if infected:\n",
    "            true_pos += 1\n",
    "        else:\n",
    "            false_pos += 1\n",
    "            \n",
    "p_monte_carlo = true_pos / (true_pos + false_pos)    # Вероятность из моделирования\n",
    "print(p_monte_carlo)"
   ]
  }
 ],
 "metadata": {
  "kernelspec": {
   "display_name": "Python 3",
   "language": "python",
   "name": "python3"
  },
  "language_info": {
   "codemirror_mode": {
    "name": "ipython",
    "version": 3
   },
   "file_extension": ".py",
   "mimetype": "text/x-python",
   "name": "python",
   "nbconvert_exporter": "python",
   "pygments_lexer": "ipython3",
   "version": "3.8.5"
  }
 },
 "nbformat": 4,
 "nbformat_minor": 4
}
