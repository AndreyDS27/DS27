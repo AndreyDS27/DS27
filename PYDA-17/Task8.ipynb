{
 "cells": [
  {
   "cell_type": "markdown",
   "metadata": {},
   "source": [
    "# Домашнее задание к лекции \"Регулярные выражения\""
   ]
  },
  {
   "cell_type": "markdown",
   "metadata": {},
   "source": [
    "## Задание 1\n",
    "\n",
    "Напишите функцию, которая принимает на вход строку и проверяет является ли она валидным транспортным номером (1 буква, 3 цифры, 2 буквы, 2-3 цифры). Обратите внимание, что не все буквы кириллического алфавита используются в транспортных номерах.\n",
    "\n",
    "Если номер валиден, то функция должна возвращать отдельно номер и регион.\n",
    "\n",
    "Примеры работы программы:\n",
    "\n",
    "car_id = 'A222BC96'\n",
    "Результат: Номер A222BС валиден. Регион: 96\n",
    "\n",
    "car_id = 'АБ22ВВ193'\n",
    "Результат: Номер не валиден"
   ]
  },
  {
   "cell_type": "code",
   "execution_count": 133,
   "metadata": {},
   "outputs": [
    {
     "name": "stdout",
     "output_type": "stream",
     "text": [
      "Результат: Номер А220ВС валиден. Регион: 96.\n"
     ]
    }
   ],
   "source": [
    "# Task 1\n",
    "\n",
    "import re\n",
    "\n",
    "car_id = 'А220ВС96'\n",
    "\n",
    "def check_car_number(car_id):\n",
    "    # шаблон для валидации car_id\n",
    "    regex_id_car = r'^([АВЕКМНОРСТУХ]{1})(\\d{3})([АВЕКМНОРСТУХ]{2})(\\d{2,3})'\n",
    "    # шаблон car_id без региона\n",
    "    sub_number = r'\\1\\2\\3'\n",
    "    \n",
    "    result_id_car = re.search(regex_id_car, car_id)\n",
    "\n",
    "    if result_id_car:\n",
    "        return print(f'Результат: Номер {re.sub(regex_id_car, sub_number, car_id)} валиден. Регион: {result_id_car.group(4)}.')\n",
    "    else:\n",
    "        return print(f'Результат: Номер {car_id} не валиден.')\n",
    "\n",
    "    \n",
    "check_car_number(car_id)"
   ]
  },
  {
   "cell_type": "markdown",
   "metadata": {},
   "source": [
    "## Задание 2\n",
    "\n",
    "Напишите функцию, которая будет удалять все последовательные повторы слов из заданной строки при помощи регулярных выражений.\n",
    "\n",
    "Пример работы программы:\n",
    "\n",
    "some_string = 'Напишите функцию функцию, которая будет будет будет будет удалять все все все все последовательные повторы слов из из из из заданной строки строки при помощи регулярных выражений'\n",
    "\n",
    "Результат: Напишите функцию, которая будет удалять все последовательные повторы слов из заданной строки при помощи регулярных выражений."
   ]
  },
  {
   "cell_type": "code",
   "execution_count": 120,
   "metadata": {},
   "outputs": [
    {
     "data": {
      "text/plain": [
       "'Напишите  функцию, которая   будет удалять   все последовательные повторы слов   из заданной  строки при помощи регулярных выражений'"
      ]
     },
     "execution_count": 120,
     "metadata": {},
     "output_type": "execute_result"
    }
   ],
   "source": [
    "# Task 2\n",
    "\n",
    "import re\n",
    "\n",
    "some_string = 'Напишите функцию функцию, которая будет будет будет будет удалять все все все все последовательные повторы слов из из из из заданной строки строки при помощи регулярных выражений'\n",
    "\n",
    "def del_repeats(some_string):\n",
    "    # '(\\w.+)(?=\\s\\1.)+' - ищет положительный lookahead (ищет шаблон, если он находится до указанной группы).\n",
    "    regex_some_string = r'(\\w.+)(?=\\s\\1.)+'\n",
    "    some_string_result = re.sub(regex_some_string, r'', some_string)\n",
    "    return some_string_result\n",
    "\n",
    "del_repeats(some_string)\n",
    "\n",
    "# не удалось убрать дополнительные пробелы при удалении повторений."
   ]
  },
  {
   "cell_type": "code",
   "execution_count": null,
   "metadata": {},
   "outputs": [],
   "source": []
  },
  {
   "cell_type": "markdown",
   "metadata": {},
   "source": [
    "## Задание 3\n",
    "Напишите функцию, которая будет возвращать акроним по переданной в нее строке со словами.\n",
    "\n",
    "Примеры работы программы:\n",
    "\n",
    "some_words = 'Информационные технологии'\n",
    "Результат: ИТ\n",
    "\n",
    "some_words = 'Near Field Communication'\n",
    "Результат: NFC"
   ]
  },
  {
   "cell_type": "code",
   "execution_count": 51,
   "metadata": {},
   "outputs": [
    {
     "name": "stdout",
     "output_type": "stream",
     "text": [
      "Результат:  ИТ\n"
     ]
    }
   ],
   "source": [
    "# Task 3\n",
    "\n",
    "import re\n",
    "\n",
    "some_words_1 = 'Информационные технологии'\n",
    "some_words = 'Near Field Communication'\n",
    "\n",
    "def acronym(some_words):\n",
    "    some_words = some_words.upper()\n",
    "    # шаблон ищет любой символ, если он не предшествует первому символу слова в строке \n",
    "    regex_some_words = r'(.)(?<!\\b\\w)'\n",
    "    # Заменяет найденные по шаблону символы на пустую строку\n",
    "    some_string_result = re.sub(regex_some_words, '',some_words)\n",
    "    return print('Результат: ', some_string_result)\n",
    "\n",
    "acronym(some_words_1)\n"
   ]
  },
  {
   "cell_type": "markdown",
   "metadata": {},
   "source": [
    "## Задание 4\n",
    "\n",
    "Напишите функцию, которая будет принимать на вход список email-адресов и выводить их распределение по доменным зонам.\n",
    "\n",
    "Пример работы программы:  \n",
    "\n",
    "`emails = ['test@gmail.com', 'xyz@test.in', 'test@ya.ru', 'xyz@mail.ru', 'xyz@ya.ru', 'xyz@gmail.com']`\n",
    "\n",
    "Результат: \n",
    "```\n",
    "gmail.com: 2\n",
    "test.in: 1 \n",
    "ya.ru: 2 \n",
    "mail.ru: 1\n",
    "```"
   ]
  },
  {
   "cell_type": "code",
   "execution_count": 59,
   "metadata": {
    "scrolled": true
   },
   "outputs": [
    {
     "name": "stdout",
     "output_type": "stream",
     "text": [
      "Результат:\n",
      "\n",
      "\tgmail.com: 2\n",
      "\ttest.in: 1\n",
      "\tya.ru: 2\n",
      "\tmail.ru: 1\n"
     ]
    }
   ],
   "source": [
    "# Task 4\n",
    "\n",
    "import re\n",
    "\n",
    "emails = ['test@gmail.com', 'xyz@test.in', 'test@ya.ru', 'xyz@mail.ru', 'xyz@ya.ru', 'xyz@gmail.com']\n",
    "\n",
    "def count_domains_emails(emails):\n",
    "    count_domains = {}\n",
    "\n",
    "    for email in emails:    \n",
    "        regex_email = r'\\w+@(\\w+\\.\\w+)'\n",
    "        result_email = re.search(regex_email, email)\n",
    "        domain = result_email.group(1)\n",
    "        count_domains.setdefault(domain, 0)\n",
    "        count_domains[domain] += 1\n",
    "\n",
    "    print('Результат:\\n')\n",
    "    {print(f'\\t{k}: {v}') for k, v in count_domains.items()}\n",
    "\n",
    "count_domains_emails(emails)"
   ]
  },
  {
   "cell_type": "markdown",
   "metadata": {},
   "source": [
    "## Задание 5 (необязательное)\n",
    "\n",
    "Напишите функцию, которая будет подсчитывать сколько слов начинается на гласные, а сколько на согласные буквы в тексте (текст может быть написан как с использованием букв кириллицы, так и латиницы).\n",
    "\n",
    "Пример работы программы:  \n",
    "\n",
    "`some_text = 'Эталонной реализацией Python является интерпретатор CPython, поддерживающий большинство активно используемых платформ. Он распространяется под свободной лицензией Python Software Foundation License, позволяющей использовать его без ограничений в любых приложениях, включая проприетарные.'`\n",
    "\n",
    "Результат: \n",
    "```\n",
    "Слов на гласные буквы: 9\n",
    "Слов на согласные буквы: 21 \n",
    "```"
   ]
  },
  {
   "cell_type": "code",
   "execution_count": 58,
   "metadata": {},
   "outputs": [
    {
     "name": "stdout",
     "output_type": "stream",
     "text": [
      "Результат:\n",
      "\n",
      "\tСлов на гласные буквы: 9\n",
      "\tСлов на согласные буквы: 21\n"
     ]
    }
   ],
   "source": [
    "# Task 5\n",
    "\n",
    "some_text = 'Эталонной реализацией Python является интерпретатор CPython, поддерживающий большинство активно используемых платформ. Он распространяется под свободной лицензией Python Software Foundation License, позволяющей использовать его без ограничений в любых приложениях, включая проприетарные.'\n",
    "\n",
    "import re\n",
    "\n",
    "def caunt_words(some_text):\n",
    "    \n",
    "    regex_some_text_1 = r'(\\b\\w)'    # шаблон всех первых букв слов\n",
    "    regex_some_text_2 = r'(\\b[аеёиоуэюяАЕЁИОУЭЮЯaeiouyAEIOUY])'    # шаблон всех гласных первых букв слов\n",
    "    \n",
    "    res_1 = len(re.findall(regex_some_text_1, some_text))    # количество первых букв слов = количество слов\n",
    "    res_2 = len(re.findall(regex_some_text_2, some_text))    # количество гласных первых букв слов = количество слов, начинающихся с гласной буквы\n",
    "    \n",
    "    return print(f'Результат:\\n\\n\\tСлов на гласные буквы: {res_2}\\n\\tСлов на согласные буквы: {res_1 - res_2}')\n",
    "\n",
    "caunt_words(some_text)    "
   ]
  },
  {
   "cell_type": "markdown",
   "metadata": {},
   "source": [
    "## Задание 6 (необязательное)\n",
    "Напишите функцию, которая будет проверять номер сотового телефона на валидность (только для российского формата), если он валиден, то переводить его в формат:   \n",
    "+7-xxx-xxx-xx-xx  \n",
    "Постарайтесь предусмотреть как можно больше адекватных форматов изначального ввода номера.\n",
    "Примеры работы программы:  \n",
    "\n",
    "1. `phone = '+7 955 555-55-55'`\n",
    "\n",
    "Результат: \n",
    "`+7-950-555-55-55`\n",
    "\n",
    "2. `phone = '8(955)555-55-55'`\n",
    "\n",
    "Результат: \n",
    "`+7-950-555-55-55`\n",
    "\n",
    "3. `phone = '+7 955 555 55 55'`\n",
    "\n",
    "Результат: \n",
    "`+7-950-555-55-55`\n",
    "\n",
    "4. `phone = '7(955) 555-55-55'`\n",
    "\n",
    "Результат: \n",
    "`+7-950-555-55-55`\n",
    "\n",
    "5. `phone = '423-555-55-5555'`\n",
    "\n",
    "Результат: \n",
    "`Номер не валиден`\n",
    "\n",
    "6. `phone = '123-456-789'`\n",
    "\n",
    "Результат: \n",
    "`Номер не валиден`"
   ]
  },
  {
   "cell_type": "code",
   "execution_count": 87,
   "metadata": {},
   "outputs": [
    {
     "name": "stdout",
     "output_type": "stream",
     "text": [
      "Результат: номер \"+7 955 555-55-55\" валиден +7-555-55-55\n",
      "Результат: номер \"8(955)555-55-55\" валиден +7-555-55-55\n",
      "Результат: номер \" 8 (955)555-55-55\" валиден +7-555-55-55\n",
      "Результат: номер \" + 8 (955)555-55-55\" не валиден\n",
      "Результат: номер \"+7 955 555 55 55\" валиден +7-555-55-55\n",
      "Результат: номер \"7(955) 555-55-55\" валиден +7-555-55-55\n",
      "Результат: номер \"423-555-55-5555\" не валиден\n",
      "Результат: номер \"123-456-789\" не валиден\n"
     ]
    }
   ],
   "source": [
    "# Task 6\n",
    "\n",
    "import re\n",
    "\n",
    "phones = ['+7 955 555-55-55',\n",
    "          '8(955)555-55-55',\n",
    "          ' 8 (955)555-55-55',\n",
    "          ' + 8 (955)555-55-55',\n",
    "          '+7 955 555 55 55',\n",
    "          '7(955) 555-55-55', \n",
    "          '423-555-55-5555',\n",
    "          '123-456-789']\n",
    "\n",
    "for phone in phones:\n",
    "    # шаблон для определения валидности номера\n",
    "    regex_phone = r'^([\\s\\+7]+|[\\s8]+)?([-\\(\\s]+)?(\\d{3})([-\\)\\s]+)?(\\d{3})([-\\s]+)?(\\d{2})([-\\s]+)?(\\d{2})$'\n",
    "    \n",
    "    # шаблон для вывода нужного формата номера\n",
    "    sub_pattern = r'+7-\\5-\\7-\\9'\n",
    "    \n",
    "    # проверка для определения валидности номера\n",
    "    res = re.match(regex_phone, phone)\n",
    "    \n",
    "    # замена для вывода нужного формата номера\n",
    "    result_phone = re.sub(regex_phone, sub_pattern, phone)\n",
    "    \n",
    "    if res:\n",
    "        print(f'Результат: номер \"{phone}\" валиден', result_phone)\n",
    "    else:\n",
    "        print(f'Результат: номер \"{phone}\" не валиден')\n",
    "        "
   ]
  },
  {
   "cell_type": "code",
   "execution_count": null,
   "metadata": {},
   "outputs": [],
   "source": []
  }
 ],
 "metadata": {
  "kernelspec": {
   "display_name": "Python 3",
   "language": "python",
   "name": "python3"
  },
  "language_info": {
   "codemirror_mode": {
    "name": "ipython",
    "version": 3
   },
   "file_extension": ".py",
   "mimetype": "text/x-python",
   "name": "python",
   "nbconvert_exporter": "python",
   "pygments_lexer": "ipython3",
   "version": "3.8.5"
  }
 },
 "nbformat": 4,
 "nbformat_minor": 4
}
