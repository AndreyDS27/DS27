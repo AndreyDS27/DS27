{
 "cells": [
  {
   "cell_type": "markdown",
   "metadata": {},
   "source": [
    "# Домашнее задание к лекции Работа с файловой системой и модули"
   ]
  },
  {
   "cell_type": "markdown",
   "metadata": {},
   "source": [
    "\n",
    "1. Переведите содержимое файла purchase_log.txt в словарь purchases вида:\n",
    "{‘1840e0b9d4’: ‘Продукты’, …}\n",
    "\n",
    "\n",
    "2. Для каждого user_id в файле visit_log.csv определите третий столбец с категорией покупки (если покупка была, сам файл visit_log.csv изменять не надо). Запишите в файл funnel.csv визиты из файла visit_log.csv, в которых были покупки с указанием категории.\n",
    "Учтите условия на данные:\n",
    "содержимое purchase_log.txt помещается в оперативную память компьютера\n",
    "содержимое visit_log.csv - нет; используйте только построчную обработку этого файла"
   ]
  },
  {
   "cell_type": "markdown",
   "metadata": {},
   "source": [
    "## Задание 1"
   ]
  },
  {
   "cell_type": "code",
   "execution_count": null,
   "metadata": {},
   "outputs": [],
   "source": [
    "# Task 1\n",
    "\n",
    "import os\n",
    "import json\n",
    "\n",
    "  \n",
    "    \n",
    "with open('data_task5\\purchase_log.txt', 'r', encoding='utf-8') as f:\n",
    "    with open('data_task5\\\\purchases.txt', 'w', encoding='utf-8') as f_write:\n",
    "        \n",
    "        for i, line in enumerate(f):\n",
    "            res_dict = {}\n",
    "            res_line = (tuple(json.loads(line).values()))\n",
    "            res_dict.setdefault(res_line[0], res_line[1])\n",
    "            f_write.write(str(res_dict)+'\\n')\n",
    "            #f_write.write(json.dumps(res_dict)+'\\n') \n",
    "            \n",
    "\n",
    "        "
   ]
  },
  {
   "cell_type": "markdown",
   "metadata": {},
   "source": [
    "## Задание 2"
   ]
  },
  {
   "cell_type": "code",
   "execution_count": null,
   "metadata": {
    "scrolled": true
   },
   "outputs": [],
   "source": [
    "# Task 2\n",
    "\n",
    "\n",
    "import json\n",
    "\n",
    "with open('data_task5\\\\visit_log.csv', 'r') as f:\n",
    "    with open('data_task5\\\\funnel.csv', 'w') as f2:\n",
    "    \n",
    "        for i, line in enumerate(f):\n",
    "            line = line.strip().split(',')\n",
    "            user_id = line[0]\n",
    "            print(i)\n",
    "            with open ('data_task5\\\\purchase_log.txt', 'r') as f1:\n",
    "                for i1, line1 in enumerate(f1):\n",
    "                    purchases = json.loads(line1)\n",
    "                    if user_id in purchases.values():\n",
    "                        line.append(purchases['category'])\n",
    "                        f2.write(str(line) + '\\n')\n",
    "                            \n",
    "\n"
   ]
  }
 ],
 "metadata": {
  "kernelspec": {
   "display_name": "Python 3",
   "language": "python",
   "name": "python3"
  },
  "language_info": {
   "codemirror_mode": {
    "name": "ipython",
    "version": 3
   },
   "file_extension": ".py",
   "mimetype": "text/x-python",
   "name": "python",
   "nbconvert_exporter": "python",
   "pygments_lexer": "ipython3",
   "version": "3.8.5"
  }
 },
 "nbformat": 4,
 "nbformat_minor": 4
}
