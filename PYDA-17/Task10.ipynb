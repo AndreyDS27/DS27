{
 "cells": [
  {
   "cell_type": "markdown",
   "metadata": {},
   "source": [
    "# Домашнее задание «Библиотека Pandas»"
   ]
  },
  {
   "cell_type": "markdown",
   "metadata": {},
   "source": [
    "## Задание 1\n",
    "\n",
    "Скачайте с сайта https://grouplens.org/datasets/movielens/ датасет любого размера. Определите какому фильму было выставлено больше всего оценок 5.0."
   ]
  },
  {
   "cell_type": "code",
   "execution_count": 2,
   "metadata": {},
   "outputs": [],
   "source": [
    "import pandas as pd\n"
   ]
  },
  {
   "cell_type": "code",
   "execution_count": 2,
   "metadata": {
    "scrolled": true
   },
   "outputs": [
    {
     "data": {
      "text/html": [
       "<div>\n",
       "<style scoped>\n",
       "    .dataframe tbody tr th:only-of-type {\n",
       "        vertical-align: middle;\n",
       "    }\n",
       "\n",
       "    .dataframe tbody tr th {\n",
       "        vertical-align: top;\n",
       "    }\n",
       "\n",
       "    .dataframe thead th {\n",
       "        text-align: right;\n",
       "    }\n",
       "</style>\n",
       "<table border=\"1\" class=\"dataframe\">\n",
       "  <thead>\n",
       "    <tr style=\"text-align: right;\">\n",
       "      <th></th>\n",
       "      <th>userId</th>\n",
       "      <th>movieId</th>\n",
       "      <th>rating</th>\n",
       "      <th>timestamp</th>\n",
       "      <th>title</th>\n",
       "      <th>genres</th>\n",
       "    </tr>\n",
       "  </thead>\n",
       "  <tbody>\n",
       "    <tr>\n",
       "      <th>27752688</th>\n",
       "      <td>283217</td>\n",
       "      <td>1</td>\n",
       "      <td>5.0</td>\n",
       "      <td>831280017</td>\n",
       "      <td>Toy Story (1995)</td>\n",
       "      <td>Adventure|Animation|Children|Comedy|Fantasy</td>\n",
       "    </tr>\n",
       "    <tr>\n",
       "      <th>27751761</th>\n",
       "      <td>283199</td>\n",
       "      <td>1</td>\n",
       "      <td>5.0</td>\n",
       "      <td>1455716281</td>\n",
       "      <td>Toy Story (1995)</td>\n",
       "      <td>Adventure|Animation|Children|Comedy|Fantasy</td>\n",
       "    </tr>\n",
       "    <tr>\n",
       "      <th>27750035</th>\n",
       "      <td>283195</td>\n",
       "      <td>1</td>\n",
       "      <td>5.0</td>\n",
       "      <td>1021952716</td>\n",
       "      <td>Toy Story (1995)</td>\n",
       "      <td>Adventure|Animation|Children|Comedy|Fantasy</td>\n",
       "    </tr>\n",
       "    <tr>\n",
       "      <th>27748693</th>\n",
       "      <td>283183</td>\n",
       "      <td>1</td>\n",
       "      <td>5.0</td>\n",
       "      <td>1509582432</td>\n",
       "      <td>Toy Story (1995)</td>\n",
       "      <td>Adventure|Animation|Children|Comedy|Fantasy</td>\n",
       "    </tr>\n",
       "    <tr>\n",
       "      <th>27748541</th>\n",
       "      <td>283176</td>\n",
       "      <td>1</td>\n",
       "      <td>5.0</td>\n",
       "      <td>1436016807</td>\n",
       "      <td>Toy Story (1995)</td>\n",
       "      <td>Adventure|Animation|Children|Comedy|Fantasy</td>\n",
       "    </tr>\n",
       "  </tbody>\n",
       "</table>\n",
       "</div>"
      ],
      "text/plain": [
       "          userId  movieId  rating   timestamp             title  \\\n",
       "27752688  283217        1     5.0   831280017  Toy Story (1995)   \n",
       "27751761  283199        1     5.0  1455716281  Toy Story (1995)   \n",
       "27750035  283195        1     5.0  1021952716  Toy Story (1995)   \n",
       "27748693  283183        1     5.0  1509582432  Toy Story (1995)   \n",
       "27748541  283176        1     5.0  1436016807  Toy Story (1995)   \n",
       "\n",
       "                                               genres  \n",
       "27752688  Adventure|Animation|Children|Comedy|Fantasy  \n",
       "27751761  Adventure|Animation|Children|Comedy|Fantasy  \n",
       "27750035  Adventure|Animation|Children|Comedy|Fantasy  \n",
       "27748693  Adventure|Animation|Children|Comedy|Fantasy  \n",
       "27748541  Adventure|Animation|Children|Comedy|Fantasy  "
      ]
     },
     "execution_count": 2,
     "metadata": {},
     "output_type": "execute_result"
    }
   ],
   "source": [
    "# Task 1\n",
    "\n",
    "import pandas as pd\n",
    "\n",
    "ratings = pd.read_csv('ml-latest/ratings.csv')\n",
    "movies = pd.read_csv('ml-latest/movies.csv')\n",
    "\n",
    "# соединение таблиц ratings.csv и movies.csv\n",
    "ratings_movies = ratings.merge(movies, on='movieId', how='left')\n",
    "\n",
    "ratings_movies.sort_values(by=['rating', 'movieId', 'userId'], ascending=[False, True, False]).head(5)\n",
    "\n",
    "\n"
   ]
  },
  {
   "cell_type": "code",
   "execution_count": 6,
   "metadata": {},
   "outputs": [
    {
     "name": "stdout",
     "output_type": "stream",
     "text": [
      "Результат:\n",
      "больше всего оценок 5.0 - 48762 у фильма \"Shawshank Redemption, The (1994)\".\n"
     ]
    }
   ],
   "source": [
    "# фильтр для строк с оценкой 5.0\n",
    "rating_max = ratings_movies[ratings_movies['rating'] == 5.0]\n",
    "\n",
    "# количество оценок для кадого movieId, вывод в виде списка, 0 элемент списка = максимальному значению\n",
    "rating_max_number = rating_max['movieId'].value_counts().tolist()[0]\n",
    "\n",
    "# количество оценок для кадого title, вывод в виде списка индексов index = title, 0 элемент списка = названию фильма\n",
    "title_rating_max_number = rating_max['title'].value_counts().index.tolist()[0]\n",
    "\n",
    "print('Результат:')\n",
    "print(f'больше всего оценок 5.0 - {rating_max_number} у фильма \"{title_rating_max_number}\".')"
   ]
  },
  {
   "cell_type": "code",
   "execution_count": null,
   "metadata": {},
   "outputs": [],
   "source": []
  },
  {
   "cell_type": "markdown",
   "metadata": {},
   "source": [
    "## Задание 2\n",
    "По данным файла power.csv посчитайте суммарное потребление стран Прибалтики (Латвия, Литва и Эстония) категорий 4, 12 и 21 за период с 2005 по 2010 года. Не учитывайте в расчетах отрицательные значения quantity."
   ]
  },
  {
   "cell_type": "code",
   "execution_count": 4,
   "metadata": {
    "scrolled": true
   },
   "outputs": [
    {
     "data": {
      "text/html": [
       "<div>\n",
       "<style scoped>\n",
       "    .dataframe tbody tr th:only-of-type {\n",
       "        vertical-align: middle;\n",
       "    }\n",
       "\n",
       "    .dataframe tbody tr th {\n",
       "        vertical-align: top;\n",
       "    }\n",
       "\n",
       "    .dataframe thead th {\n",
       "        text-align: right;\n",
       "    }\n",
       "</style>\n",
       "<table border=\"1\" class=\"dataframe\">\n",
       "  <thead>\n",
       "    <tr style=\"text-align: right;\">\n",
       "      <th></th>\n",
       "      <th>country</th>\n",
       "      <th>year</th>\n",
       "      <th>quantity</th>\n",
       "      <th>category</th>\n",
       "    </tr>\n",
       "  </thead>\n",
       "  <tbody>\n",
       "    <tr>\n",
       "      <th>0</th>\n",
       "      <td>Austria</td>\n",
       "      <td>1996</td>\n",
       "      <td>5.0</td>\n",
       "      <td>1</td>\n",
       "    </tr>\n",
       "    <tr>\n",
       "      <th>1</th>\n",
       "      <td>Austria</td>\n",
       "      <td>1995</td>\n",
       "      <td>17.0</td>\n",
       "      <td>1</td>\n",
       "    </tr>\n",
       "    <tr>\n",
       "      <th>2</th>\n",
       "      <td>Belgium</td>\n",
       "      <td>2014</td>\n",
       "      <td>0.0</td>\n",
       "      <td>1</td>\n",
       "    </tr>\n",
       "    <tr>\n",
       "      <th>3</th>\n",
       "      <td>Belgium</td>\n",
       "      <td>2013</td>\n",
       "      <td>0.0</td>\n",
       "      <td>1</td>\n",
       "    </tr>\n",
       "    <tr>\n",
       "      <th>4</th>\n",
       "      <td>Belgium</td>\n",
       "      <td>2012</td>\n",
       "      <td>35.0</td>\n",
       "      <td>1</td>\n",
       "    </tr>\n",
       "  </tbody>\n",
       "</table>\n",
       "</div>"
      ],
      "text/plain": [
       "   country  year  quantity  category\n",
       "0  Austria  1996       5.0         1\n",
       "1  Austria  1995      17.0         1\n",
       "2  Belgium  2014       0.0         1\n",
       "3  Belgium  2013       0.0         1\n",
       "4  Belgium  2012      35.0         1"
      ]
     },
     "execution_count": 4,
     "metadata": {},
     "output_type": "execute_result"
    }
   ],
   "source": [
    "# Task 2\n",
    "\n",
    "power = pd.read_csv('power.csv')\n",
    "power.head()"
   ]
  },
  {
   "cell_type": "code",
   "execution_count": 5,
   "metadata": {},
   "outputs": [
    {
     "name": "stdout",
     "output_type": "stream",
     "text": [
      "<class 'pandas.core.frame.DataFrame'>\n",
      "RangeIndex: 1189482 entries, 0 to 1189481\n",
      "Data columns (total 4 columns):\n",
      " #   Column    Non-Null Count    Dtype  \n",
      "---  ------    --------------    -----  \n",
      " 0   country   1189482 non-null  object \n",
      " 1   year      1189482 non-null  int64  \n",
      " 2   quantity  1189482 non-null  float64\n",
      " 3   category  1189482 non-null  int64  \n",
      "dtypes: float64(1), int64(2), object(1)\n",
      "memory usage: 36.3+ MB\n"
     ]
    }
   ],
   "source": [
    "power.info()"
   ]
  },
  {
   "cell_type": "code",
   "execution_count": 9,
   "metadata": {},
   "outputs": [
    {
     "name": "stdout",
     "output_type": "stream",
     "text": [
      "Результат: суммарное потребление стран Прибалтики 240580.0\n"
     ]
    }
   ],
   "source": [
    "# фильтр по странам \n",
    "baltic = power[((power['country'] == 'Latvia') | (power['country'] == 'Lithuania') | (power['country'] == 'Estonia'))\\\n",
    "               & ((power['category'] == 4) | (power['category'] == 12) | (power['category'] == 21))]\n",
    "\n",
    "# фильтр по категориям \n",
    "baltic_category = baltic[(baltic['category'] == 4) | (baltic['category'] == 12) | (baltic['category'] == 21)]\n",
    "\n",
    "# фильтр по годам \n",
    "baltic_category_year =  baltic_category[((baltic_category['year'] >= 2005) & (baltic_category['year'] <= 2010))]\n",
    "\n",
    "# фильтр для исключения отрицатеельных значений\n",
    "all_quantity = baltic_category_year[(baltic_category_year['quantity'] > 0)]\n",
    "\n",
    "# сумма списка значений столбца quantity\n",
    "sum_quantity = sum(all_quantity['quantity'].tolist())\n",
    "\n",
    "print('Результат: суммарное потребление стран Прибалтики', sum_quantity)"
   ]
  },
  {
   "cell_type": "code",
   "execution_count": null,
   "metadata": {},
   "outputs": [],
   "source": []
  },
  {
   "cell_type": "markdown",
   "metadata": {},
   "source": [
    "## Задание 3\n",
    "Выберите страницу любого сайта с табличными данными. Импортируйте таблицы в pandas dataframe.\n",
    "Примеры страниц (необязательно брать именно эти):\n",
    "https://fortrader.org/quotes\n",
    "https://www.finanz.ru/valyuty/v-realnom-vremeni"
   ]
  },
  {
   "cell_type": "code",
   "execution_count": 3,
   "metadata": {},
   "outputs": [
    {
     "data": {
      "text/plain": [
       "[       Дата  Закрытие  Открытие  Максимум  Минимум\n",
       " 0  07.02.21    746995    746210    746995   746210\n",
       " 1  05.02.21    746100    755273    756988   745205\n",
       " 2  04.02.21    755262    759129    760725   753060\n",
       " 3  03.02.21    759135    762970    763436   756553\n",
       " 4  02.02.21    762965    761354    763505   753105\n",
       " 5  01.02.21    761355    758605    762225   753495\n",
       " 6  31.01.21    758565    757245    759495   757235\n",
       " 7  30.01.21    756895    759550    759550   756895\n",
       " 8  29.01.21    758190    761798    764058   752400,\n",
       "        Имя  Unnamed: 1     %     курс                 Дата\n",
       " 0  EUR/RUB         NaN -3492   895866  08.02.2021 17:05:00\n",
       " 1  USD/RUB         NaN -3581    74432  08.02.2021 17:05:00\n",
       " 2  CHF/RUB         NaN -5607    82615  08.02.2021 17:05:00\n",
       " 3  JPY/RUB         NaN -4786     7053  08.02.2021 17:05:00\n",
       " 4  GBP/RUB         NaN -6585  1018723  08.02.2021 17:05:00\n",
       " 5  NOK/RUB         NaN -4332    87102  08.02.2021 17:05:00\n",
       " 6  AUD/RUB         NaN -3972   570759  08.02.2021 17:05:00\n",
       " 7  NZD/RUB         NaN -4111   535054  08.02.2021 17:05:00\n",
       " 8  TRY/RUB         NaN -8786   104876  08.02.2021 17:05:00]"
      ]
     },
     "execution_count": 3,
     "metadata": {},
     "output_type": "execute_result"
    }
   ],
   "source": [
    "# Task 3\n",
    "\n",
    "page_url = 'https://www.finanz.ru/valyuty/usd-rub'\n",
    "df = pd.read_html(page_url, attrs={'class': 'news_table'}, encoding='utf-8')\n",
    "df[:10]\n"
   ]
  },
  {
   "cell_type": "code",
   "execution_count": null,
   "metadata": {},
   "outputs": [],
   "source": []
  }
 ],
 "metadata": {
  "kernelspec": {
   "display_name": "Python 3",
   "language": "python",
   "name": "python3"
  },
  "language_info": {
   "codemirror_mode": {
    "name": "ipython",
    "version": 3
   },
   "file_extension": ".py",
   "mimetype": "text/x-python",
   "name": "python",
   "nbconvert_exporter": "python",
   "pygments_lexer": "ipython3",
   "version": "3.8.5"
  }
 },
 "nbformat": 4,
 "nbformat_minor": 4
}
